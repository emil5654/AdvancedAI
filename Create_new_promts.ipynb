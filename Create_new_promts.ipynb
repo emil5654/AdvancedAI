{
 "cells": [
  {
   "cell_type": "code",
   "execution_count": 1,
   "id": "94c4c556",
   "metadata": {},
   "outputs": [
    {
     "ename": "",
     "evalue": "",
     "output_type": "error",
     "traceback": [
      "\u001b[1;31mThe Kernel crashed while executing code in the current cell or a previous cell. \n",
      "\u001b[1;31mPlease review the code in the cell(s) to identify a possible cause of the failure. \n",
      "\u001b[1;31mClick <a href='https://aka.ms/vscodeJupyterKernelCrash'>here</a> for more info. \n",
      "\u001b[1;31mView Jupyter <a href='command:jupyter.viewOutput'>log</a> for further details."
     ]
    }
   ],
   "source": [
    "from transformers import AutoTokenizer, AutoModelForCausalLM\n",
    "import torch\n",
    "import time\n"
   ]
  },
  {
   "cell_type": "code",
   "execution_count": null,
   "id": "2453291e",
   "metadata": {},
   "outputs": [
    {
     "name": "stdout",
     "output_type": "stream",
     "text": [
      "Downloading and caching model...\n",
      "Done.\n"
     ]
    }
   ],
   "source": [
    "from transformers import AutoTokenizer, AutoModelForCausalLM\n",
    "\n",
    "print(\"Downloading and caching model...\")\n",
    "tokenizer = AutoTokenizer.from_pretrained(\"microsoft/BioGPT\")\n",
    "model = AutoModelForCausalLM.from_pretrained(\"microsoft/BioGPT\")\n",
    "print(\"Done.\")\n"
   ]
  },
  {
   "cell_type": "code",
   "execution_count": null,
   "id": "176f699d",
   "metadata": {},
   "outputs": [
    {
     "name": "stdout",
     "output_type": "stream",
     "text": [
      "Tokenizing input...\n",
      "Generating output...\n",
      "Generation completed in 5.23 seconds.\n",
      "\n",
      "=== BioGPT Output ===\n",
      "A 22-year-old man was admitted with pain and erythema of the left hand. On the day of admission, he awoke with pain and swelling of the hand that involved the second and fourth fingers. Over several hours, the pain progressed and bullae began to form. The patient had recently begun practicing taxidermy. A diagnostic test was performed. What is the most likely diagnosis? Answer: Our patient's condition resolved without sequelae following treatment with intravenous immunoglobulin and antibiotics for a presumed mycoplasma infection due to his recent history of travel in a crowded environment.\n"
     ]
    }
   ],
   "source": [
    "\n",
    "# Force use of CPU\n",
    "device = torch.device(\"cpu\")\n",
    "\n",
    "# Define your clinical input\n",
    "clinical_input = (\n",
    "    \"A 22-year-old man was admitted with pain and erythema of the left hand. On the day of admission, he awoke with pain and swelling of the hand that involved the second and fourth fingers. Over several hours, the pain progressed and bullae began to form. The patient had recently begun practicing taxidermy. A diagnostic test was performed. What is the most likely diagnosis?\\nAnswer:\"\n",
    ")\n",
    "\n",
    "# Tokenize input\n",
    "print(\"Tokenizing input...\")\n",
    "inputs = tokenizer(clinical_input, return_tensors=\"pt\").to(device)\n",
    "\n",
    "# Generate output\n",
    "print(\"Generating output...\")\n",
    "start_time = time.time()\n",
    "\n",
    "output_ids = model.generate(\n",
    "    input_ids=inputs[\"input_ids\"],\n",
    "    attention_mask=inputs[\"attention_mask\"],  # <--- add this\n",
    "    max_length=200,\n",
    "    do_sample=True,\n",
    "    top_k=50,\n",
    "    top_p=0.95,\n",
    "    temperature=0.9,\n",
    "    repetition_penalty=1.2,\n",
    "    pad_token_id=tokenizer.eos_token_id\n",
    ")\n",
    "\n",
    "\n",
    "elapsed = time.time() - start_time\n",
    "print(f\"Generation completed in {elapsed:.2f} seconds.\")\n",
    "\n",
    "# Decode and print result\n",
    "prediction = tokenizer.decode(output_ids[0], skip_special_tokens=True)\n",
    "\n",
    "print(\"\\n=== BioGPT Output ===\")\n",
    "print(prediction)\n"
   ]
  },
  {
   "cell_type": "code",
   "execution_count": null,
   "id": "0f8c4dd1",
   "metadata": {},
   "outputs": [
    {
     "name": "stdout",
     "output_type": "stream",
     "text": [
      "Loading model...\n",
      "Tokenizing...\n",
      "Generating diagnosis...\n",
      "Completed in 4.83 seconds.\n",
      "\n",
      "=== BioGPT Output ===\n",
      "Extract a biomedical relation triplet in the format: (Cause, Relation, Effect) Example 1: Text: The patient developed meningitis after exposure to Neisseria meningitidis. Triplet: (Neisseria meningitidis, causes, meningitis) Example 2: Text: A woman experienced liver toxicity following prolonged use of paracetamol. Triplet: (paracetamol, causes, liver toxicity) Example 3: Text: A 22-year-old man was admitted with pain and erythema of the left hand. He awoke with swelling and bullae in his fingers. The patient had recently begun practicing taxidermy. Triplet: An interview revealed that he believed he suffered from meningitis after eating an uncooked meal prepared by his mother during her childhood.\n"
     ]
    }
   ],
   "source": [
    "from transformers import AutoTokenizer, AutoModelForCausalLM\n",
    "import torch\n",
    "import time\n",
    "\n",
    "# Force CPU use\n",
    "device = torch.device(\"cpu\")\n",
    "\n",
    "# Use your real clinical summary as input\n",
    "clinical_input = (\n",
    "    \"Extract a biomedical relation triplet in the format: (Cause, Relation, Effect)\\n\\n\"\n",
    "    \"Example 1:\\n\"\n",
    "    \"Text: The patient developed meningitis after exposure to Neisseria meningitidis.\\n\"\n",
    "    \"Triplet: (Neisseria meningitidis, causes, meningitis)\\n\\n\"\n",
    "    \"Example 2:\\n\"\n",
    "    \"Text: A woman experienced liver toxicity following prolonged use of paracetamol.\\n\"\n",
    "    \"Triplet: (paracetamol, causes, liver toxicity)\\n\\n\"\n",
    "    \"Example 3:\\n\"\n",
    "    \"Text: A 22-year-old man was admitted with pain and erythema of the left hand. He awoke with swelling and bullae in his fingers. The patient had recently begun practicing taxidermy.\\n\"\n",
    "    \"Triplet:\"\n",
    ")\n",
    "\n",
    "\n",
    "# Load model & tokenizer\n",
    "print(\"Loading model...\")\n",
    "model_name = \"microsoft/BioGPT\"\n",
    "tokenizer = AutoTokenizer.from_pretrained(model_name)\n",
    "model = AutoModelForCausalLM.from_pretrained(model_name).to(device)\n",
    "\n",
    "# Tokenize input\n",
    "print(\"Tokenizing...\")\n",
    "inputs = tokenizer(clinical_input, return_tensors=\"pt\", padding=True).to(device)\n",
    "\n",
    "# Generate output\n",
    "print(\"Generating diagnosis...\")\n",
    "start_time = time.time()\n",
    "\n",
    "with torch.no_grad():\n",
    "    output_ids = model.generate(\n",
    "        input_ids=inputs[\"input_ids\"],\n",
    "        attention_mask=inputs[\"attention_mask\"],\n",
    "        max_length=200,\n",
    "        do_sample=True,\n",
    "        top_k=10,\n",
    "        top_p=0.95,\n",
    "        temperature=0.8,\n",
    "        repetition_penalty=1.2,\n",
    "        pad_token_id=tokenizer.eos_token_id\n",
    "    )\n",
    "\n",
    "elapsed = time.time() - start_time\n",
    "print(f\"Completed in {elapsed:.2f} seconds.\\n\")\n",
    "\n",
    "# Decode and print result\n",
    "prediction = tokenizer.decode(output_ids[0], skip_special_tokens=True)\n",
    "print(\"=== BioGPT Output ===\")\n",
    "print(prediction)\n"
   ]
  },
  {
   "cell_type": "code",
   "execution_count": null,
   "id": "83dfac55",
   "metadata": {},
   "outputs": [],
   "source": [
    "Erysipelothrix rhusiopathiae infection."
   ]
  },
  {
   "cell_type": "code",
   "execution_count": null,
   "id": "e87e5e47",
   "metadata": {},
   "outputs": [
    {
     "data": {
      "text/plain": [
       "585"
      ]
     },
     "execution_count": 23,
     "metadata": {},
     "output_type": "execute_result"
    }
   ],
   "source": []
  },
  {
   "cell_type": "code",
   "execution_count": null,
   "id": "fc4703ab",
   "metadata": {},
   "outputs": [],
   "source": []
  }
 ],
 "metadata": {
  "kernelspec": {
   "display_name": "AdvancedAI",
   "language": "python",
   "name": "python3"
  },
  "language_info": {
   "codemirror_mode": {
    "name": "ipython",
    "version": 3
   },
   "file_extension": ".py",
   "mimetype": "text/x-python",
   "name": "python",
   "nbconvert_exporter": "python",
   "pygments_lexer": "ipython3",
   "version": "3.10.16"
  }
 },
 "nbformat": 4,
 "nbformat_minor": 5
}
