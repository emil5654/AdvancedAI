{
 "cells": [
  {
   "cell_type": "code",
   "execution_count": null,
   "id": "7d9f7fa6",
   "metadata": {},
   "outputs": [
    {
     "name": "stdout",
     "output_type": "stream",
     "text": [
      "=== Input (Clinical Summary) ===\n",
      "Summary\n",
      "A 22-year-old man was admitted with pain and erythema of the left hand.\n",
      "On the day of admission, he awoke with pain and swelling of the hand that involved the second and fourth fingers.\n",
      "Over several hours, the pain progressed and bullae began to form.\n",
      "The patient had recently begun practicing taxidermy.\n",
      "A diagnostic test was performed.\n",
      "\n",
      "=== Output (Final Diagnosis) ===\n",
      "Final Diagnosis\n",
      "Erysipelothrix rhusiopathiae infection.\n"
     ]
    }
   ],
   "source": [
    "from pptx import Presentation\n",
    "\n",
    "ppt = Presentation(\"nejmcpc2107357 (1).pptx\")\n",
    "\n",
    "input_text = \"\"\n",
    "diagnosis = \"\"\n",
    "\n",
    "for slide in ppt.slides:\n",
    "    for shape in slide.shapes:\n",
    "        if shape.has_text_frame:\n",
    "            text = shape.text.strip()\n",
    "            if \"admitted\" in text or \"bullae\" in text or \"summary\" in text.lower():\n",
    "                input_text += text + \"\\n\"\n",
    "            if \"Final Diagnosis\" in text or \"Erysipelothrix\" in text:\n",
    "                diagnosis += text + \"\\n\"\n",
    "\n",
    "print(\"=== Input (Clinical Summary) ===\")\n",
    "print(input_text.strip())\n",
    "print(\"\\n=== Output (Final Diagnosis) ===\")\n",
    "print(diagnosis.strip())\n"
   ]
  },
  {
   "cell_type": "code",
   "execution_count": 2,
   "id": "744cda65",
   "metadata": {},
   "outputs": [
    {
     "name": "stdout",
     "output_type": "stream",
     "text": [
      "First case:\n",
      "Case name: Case 16-2020: A 47-Year-Old Woman with Recurrent Melanoma and Pulmonary Nodules\n",
      "Presentation: Dr. Justine V. Cohen: A 47-year-old woman with malignant melanoma was seen in the pulmonary clinic of this hospital because of new abnormal findings on chest imaging. The patient had observed routine quarterly surveillance imaging after resection of right axillary melanoma, radiation therapy, and in...\n",
      "Final diagnosis: Pulmonary histoplasmosis\n"
     ]
    }
   ],
   "source": [
    "import json\n",
    "\n",
    "# Path to the file\n",
    "file_path = \"task2data(2) (1).jsonl\"\n",
    "\n",
    "# Load all entries into a list\n",
    "with open(file_path, \"r\", encoding=\"utf-8\") as file:\n",
    "    data = [json.loads(line) for line in file]\n",
    "\n",
    "# Print the first entry to check the format\n",
    "print(\"First case:\")\n",
    "print(\"Case name:\", data[0]['casename'])\n",
    "print(\"Presentation:\", data[0]['presentation'][:300] + '...')  # Print first 300 characters\n",
    "print(\"Final diagnosis:\", data[0]['final'])\n"
   ]
  },
  {
   "cell_type": "code",
   "execution_count": null,
   "id": "002650f9",
   "metadata": {},
   "outputs": [],
   "source": []
  }
 ],
 "metadata": {
  "kernelspec": {
   "display_name": "base",
   "language": "python",
   "name": "python3"
  },
  "language_info": {
   "codemirror_mode": {
    "name": "ipython",
    "version": 3
   },
   "file_extension": ".py",
   "mimetype": "text/x-python",
   "name": "python",
   "nbconvert_exporter": "python",
   "pygments_lexer": "ipython3",
   "version": "3.9.17"
  }
 },
 "nbformat": 4,
 "nbformat_minor": 5
}
