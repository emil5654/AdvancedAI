{
 "cells": [
  {
   "cell_type": "code",
   "execution_count": 1,
   "id": "54bd8084",
   "metadata": {},
   "outputs": [],
   "source": [
    "import json\n",
    "\n",
    "with open(\"task2data(2) (1).jsonl\", \"r\", encoding=\"utf-8\") as f:\n",
    "    dataset = [json.loads(line.strip()) for line in f]\n",
    "\n",
    "# Prompt format\n",
    "def make_prompt(presentation):\n",
    "    return \"You are a clinical assistant AI. Based on the following patient presentation, provide the most likely diagnosis.\"\n"
   ]
  },
  {
   "cell_type": "code",
   "execution_count": null,
   "id": "13ab2d99",
   "metadata": {},
   "outputs": [],
   "source": [
    "# Load GPT model using pipeline\n",
    "gpt_pipeline = pipeline(\"text-generation\", model=\"gpt2\")\n",
    "\n",
    "# Example usage\n",
    "output = gpt_pipeline(\"Once upon a time\", max_length=50)\n",
    "print(output)"
   ]
  },
  {
   "cell_type": "code",
   "execution_count": null,
   "id": "d7c0a0cc",
   "metadata": {},
   "outputs": [],
   "source": []
  }
 ],
 "metadata": {
  "kernelspec": {
   "display_name": "AdvancedAI",
   "language": "python",
   "name": "python3"
  },
  "language_info": {
   "codemirror_mode": {
    "name": "ipython",
    "version": 3
   },
   "file_extension": ".py",
   "mimetype": "text/x-python",
   "name": "python",
   "nbconvert_exporter": "python",
   "pygments_lexer": "ipython3",
   "version": "3.10.16"
  }
 },
 "nbformat": 4,
 "nbformat_minor": 5
}
