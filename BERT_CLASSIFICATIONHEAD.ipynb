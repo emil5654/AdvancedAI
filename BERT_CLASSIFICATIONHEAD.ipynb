{
 "cells": [
  {
   "cell_type": "code",
   "execution_count": 1,
   "id": "674e3783",
   "metadata": {},
   "outputs": [
    {
     "ename": "",
     "evalue": "",
     "output_type": "error",
     "traceback": [
      "\u001b[1;31mThe Kernel crashed while executing code in the current cell or a previous cell. \n",
      "\u001b[1;31mPlease review the code in the cell(s) to identify a possible cause of the failure. \n",
      "\u001b[1;31mClick <a href='https://aka.ms/vscodeJupyterKernelCrash'>here</a> for more info. \n",
      "\u001b[1;31mView Jupyter <a href='command:jupyter.viewOutput'>log</a> for further details."
     ]
    }
   ],
   "source": [
    "from transformers import AutoTokenizer, AutoModelForCausalLM\n",
    "\n",
    "model_id = \"sshleifer/tiny-gpt2\"  # Smaller model for safer testing\n",
    "tokenizer = AutoTokenizer.from_pretrained(model_id)\n",
    "model = AutoModelForCausalLM.from_pretrained(model_id)\n",
    "\n",
    "print(\"✅ Tiny GPT-2 model loaded!\")\n"
   ]
  },
  {
   "cell_type": "code",
   "execution_count": null,
   "id": "d7ebce70",
   "metadata": {},
   "outputs": [],
   "source": [
    "from transformers import AutoTokenizer, AutoModelForSequenceClassification\n",
    "import torch"
   ]
  },
  {
   "cell_type": "code",
   "execution_count": null,
   "id": "4f56399c",
   "metadata": {},
   "outputs": [],
   "source": [
    "import pandas as pd\n",
    "\n",
    "# Load the data\n",
    "df = pd.read_parquet('cases.parquet')\n",
    "\n",
    "# Explode the 'cases' list into separate rows\n",
    "df_exploded = df.explode('cases').reset_index(drop=True)\n",
    "\n",
    "# Normalize the dictionary inside each row of the 'cases' column\n",
    "df_cases = pd.json_normalize(df_exploded['cases'])\n",
    "\n",
    "# Add the corresponding article_id to each case\n",
    "df_cases['article_id'] = df_exploded['article_id']\n",
    "\n",
    "# Show the result\n",
    "print(df_cases.head())\n"
   ]
  },
  {
   "cell_type": "code",
   "execution_count": null,
   "id": "f5ca1954",
   "metadata": {},
   "outputs": [],
   "source": [
    "df_cases"
   ]
  },
  {
   "cell_type": "code",
   "execution_count": null,
   "id": "1cdf1170",
   "metadata": {},
   "outputs": [],
   "source": [
    "import re\n",
    "\n",
    "\n",
    "# Example regex patterns to look for diagnosis\n",
    "patterns = [\n",
    "    r'diagnosed with ([^.]+)\\.',               # diagnosed with [condition].\n",
    "    r'diagnosis: ([^.]+)\\.',                   # diagnosis: [condition].\n",
    "    r'consistent with ([^.]+)\\.',              # consistent with [condition].\n",
    "    r'was found to have ([^.]+)\\.',            # was found to have [condition].\n",
    "    r'revealed a ([^.]+)\\.',                   # revealed a [condition].\n",
    "    r'suggestive of ([^.]+)\\.'                 # suggestive of [condition].\n",
    "]\n",
    "\n",
    "def extract_diagnosis(text):\n",
    "    for pattern in patterns:\n",
    "        match = re.search(pattern, text, re.IGNORECASE)\n",
    "        if match:\n",
    "            return match.group(1).strip()\n",
    "    return None\n",
    "\n",
    "# Apply to the case_text column\n",
    "df_cases['diagnosis_extracted'] = df_cases['case_text'].apply(extract_diagnosis)\n",
    "\n",
    "# Show rows where a diagnosis was found\n",
    "print(df_cases[['case_id', 'diagnosis_extracted']].dropna().head(10))\n"
   ]
  },
  {
   "cell_type": "code",
   "execution_count": null,
   "id": "25c46dc7",
   "metadata": {},
   "outputs": [],
   "source": [
    "df_cases"
   ]
  },
  {
   "cell_type": "code",
   "execution_count": 1,
   "id": "52a6b648",
   "metadata": {},
   "outputs": [
    {
     "ename": "",
     "evalue": "",
     "output_type": "error",
     "traceback": [
      "\u001b[1;31mThe Kernel crashed while executing code in the current cell or a previous cell. \n",
      "\u001b[1;31mPlease review the code in the cell(s) to identify a possible cause of the failure. \n",
      "\u001b[1;31mClick <a href='https://aka.ms/vscodeJupyterKernelCrash'>here</a> for more info. \n",
      "\u001b[1;31mView Jupyter <a href='command:jupyter.viewOutput'>log</a> for further details."
     ]
    }
   ],
   "source": [
    "from transformers import AutoTokenizer, AutoModelForCausalLM\n",
    "\n",
    "model_id = \"gpt2\"\n",
    "tokenizer = AutoTokenizer.from_pretrained(model_id)\n",
    "model = AutoModelForCausalLM.from_pretrained(model_id)\n",
    "\n",
    "print(\"Model loaded ✅\")"
   ]
  },
  {
   "cell_type": "code",
   "execution_count": null,
   "id": "5a779145",
   "metadata": {},
   "outputs": [],
   "source": []
  }
 ],
 "metadata": {
  "kernelspec": {
   "display_name": "AdvancedAI",
   "language": "python",
   "name": "python3"
  },
  "language_info": {
   "codemirror_mode": {
    "name": "ipython",
    "version": 3
   },
   "file_extension": ".py",
   "mimetype": "text/x-python",
   "name": "python",
   "nbconvert_exporter": "python",
   "pygments_lexer": "ipython3",
   "version": "3.10.16"
  }
 },
 "nbformat": 4,
 "nbformat_minor": 5
}
