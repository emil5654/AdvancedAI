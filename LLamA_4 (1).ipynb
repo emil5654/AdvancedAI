{
  "cells": [
    {
      "cell_type": "code",
      "execution_count": null,
      "metadata": {
        "colab": {
          "base_uri": "https://localhost:8080/"
        },
        "id": "JhqZN9PIjYaT",
        "outputId": "c4551989-468d-454e-cefe-2005e57d1425"
      },
      "outputs": [
        {
          "output_type": "stream",
          "name": "stdout",
          "text": [
            "Requirement already satisfied: transformers in /usr/local/lib/python3.11/dist-packages (4.51.3)\n",
            "Requirement already satisfied: filelock in /usr/local/lib/python3.11/dist-packages (from transformers) (3.18.0)\n",
            "Requirement already satisfied: huggingface-hub<1.0,>=0.30.0 in /usr/local/lib/python3.11/dist-packages (from transformers) (0.30.2)\n",
            "Requirement already satisfied: numpy>=1.17 in /usr/local/lib/python3.11/dist-packages (from transformers) (2.0.2)\n",
            "Requirement already satisfied: packaging>=20.0 in /usr/local/lib/python3.11/dist-packages (from transformers) (24.2)\n",
            "Requirement already satisfied: pyyaml>=5.1 in /usr/local/lib/python3.11/dist-packages (from transformers) (6.0.2)\n",
            "Requirement already satisfied: regex!=2019.12.17 in /usr/local/lib/python3.11/dist-packages (from transformers) (2024.11.6)\n",
            "Requirement already satisfied: requests in /usr/local/lib/python3.11/dist-packages (from transformers) (2.32.3)\n",
            "Requirement already satisfied: tokenizers<0.22,>=0.21 in /usr/local/lib/python3.11/dist-packages (from transformers) (0.21.1)\n",
            "Requirement already satisfied: safetensors>=0.4.3 in /usr/local/lib/python3.11/dist-packages (from transformers) (0.5.3)\n",
            "Requirement already satisfied: tqdm>=4.27 in /usr/local/lib/python3.11/dist-packages (from transformers) (4.67.1)\n",
            "Requirement already satisfied: fsspec>=2023.5.0 in /usr/local/lib/python3.11/dist-packages (from huggingface-hub<1.0,>=0.30.0->transformers) (2025.3.2)\n",
            "Requirement already satisfied: typing-extensions>=3.7.4.3 in /usr/local/lib/python3.11/dist-packages (from huggingface-hub<1.0,>=0.30.0->transformers) (4.13.2)\n",
            "Requirement already satisfied: charset-normalizer<4,>=2 in /usr/local/lib/python3.11/dist-packages (from requests->transformers) (3.4.1)\n",
            "Requirement already satisfied: idna<4,>=2.5 in /usr/local/lib/python3.11/dist-packages (from requests->transformers) (3.10)\n",
            "Requirement already satisfied: urllib3<3,>=1.21.1 in /usr/local/lib/python3.11/dist-packages (from requests->transformers) (2.4.0)\n",
            "Requirement already satisfied: certifi>=2017.4.17 in /usr/local/lib/python3.11/dist-packages (from requests->transformers) (2025.1.31)\n",
            "Requirement already satisfied: nltk in /usr/local/lib/python3.11/dist-packages (3.9.1)\n",
            "Requirement already satisfied: click in /usr/local/lib/python3.11/dist-packages (from nltk) (8.1.8)\n",
            "Requirement already satisfied: joblib in /usr/local/lib/python3.11/dist-packages (from nltk) (1.4.2)\n",
            "Requirement already satisfied: regex>=2021.8.3 in /usr/local/lib/python3.11/dist-packages (from nltk) (2024.11.6)\n",
            "Requirement already satisfied: tqdm in /usr/local/lib/python3.11/dist-packages (from nltk) (4.67.1)\n",
            "Collecting bert_score\n",
            "  Downloading bert_score-0.3.13-py3-none-any.whl.metadata (15 kB)\n",
            "Requirement already satisfied: torch>=1.0.0 in /usr/local/lib/python3.11/dist-packages (from bert_score) (2.6.0+cu124)\n",
            "Requirement already satisfied: pandas>=1.0.1 in /usr/local/lib/python3.11/dist-packages (from bert_score) (2.2.2)\n",
            "Requirement already satisfied: transformers>=3.0.0 in /usr/local/lib/python3.11/dist-packages (from bert_score) (4.51.3)\n",
            "Requirement already satisfied: numpy in /usr/local/lib/python3.11/dist-packages (from bert_score) (2.0.2)\n",
            "Requirement already satisfied: requests in /usr/local/lib/python3.11/dist-packages (from bert_score) (2.32.3)\n",
            "Requirement already satisfied: tqdm>=4.31.1 in /usr/local/lib/python3.11/dist-packages (from bert_score) (4.67.1)\n",
            "Requirement already satisfied: matplotlib in /usr/local/lib/python3.11/dist-packages (from bert_score) (3.10.0)\n",
            "Requirement already satisfied: packaging>=20.9 in /usr/local/lib/python3.11/dist-packages (from bert_score) (24.2)\n",
            "Requirement already satisfied: python-dateutil>=2.8.2 in /usr/local/lib/python3.11/dist-packages (from pandas>=1.0.1->bert_score) (2.9.0.post0)\n",
            "Requirement already satisfied: pytz>=2020.1 in /usr/local/lib/python3.11/dist-packages (from pandas>=1.0.1->bert_score) (2025.2)\n",
            "Requirement already satisfied: tzdata>=2022.7 in /usr/local/lib/python3.11/dist-packages (from pandas>=1.0.1->bert_score) (2025.2)\n",
            "Requirement already satisfied: filelock in /usr/local/lib/python3.11/dist-packages (from torch>=1.0.0->bert_score) (3.18.0)\n",
            "Requirement already satisfied: typing-extensions>=4.10.0 in /usr/local/lib/python3.11/dist-packages (from torch>=1.0.0->bert_score) (4.13.2)\n",
            "Requirement already satisfied: networkx in /usr/local/lib/python3.11/dist-packages (from torch>=1.0.0->bert_score) (3.4.2)\n",
            "Requirement already satisfied: jinja2 in /usr/local/lib/python3.11/dist-packages (from torch>=1.0.0->bert_score) (3.1.6)\n",
            "Requirement already satisfied: fsspec in /usr/local/lib/python3.11/dist-packages (from torch>=1.0.0->bert_score) (2025.3.2)\n",
            "Collecting nvidia-cuda-nvrtc-cu12==12.4.127 (from torch>=1.0.0->bert_score)\n",
            "  Downloading nvidia_cuda_nvrtc_cu12-12.4.127-py3-none-manylinux2014_x86_64.whl.metadata (1.5 kB)\n",
            "Collecting nvidia-cuda-runtime-cu12==12.4.127 (from torch>=1.0.0->bert_score)\n",
            "  Downloading nvidia_cuda_runtime_cu12-12.4.127-py3-none-manylinux2014_x86_64.whl.metadata (1.5 kB)\n",
            "Collecting nvidia-cuda-cupti-cu12==12.4.127 (from torch>=1.0.0->bert_score)\n",
            "  Downloading nvidia_cuda_cupti_cu12-12.4.127-py3-none-manylinux2014_x86_64.whl.metadata (1.6 kB)\n",
            "Collecting nvidia-cudnn-cu12==9.1.0.70 (from torch>=1.0.0->bert_score)\n",
            "  Downloading nvidia_cudnn_cu12-9.1.0.70-py3-none-manylinux2014_x86_64.whl.metadata (1.6 kB)\n",
            "Collecting nvidia-cublas-cu12==12.4.5.8 (from torch>=1.0.0->bert_score)\n",
            "  Downloading nvidia_cublas_cu12-12.4.5.8-py3-none-manylinux2014_x86_64.whl.metadata (1.5 kB)\n",
            "Collecting nvidia-cufft-cu12==11.2.1.3 (from torch>=1.0.0->bert_score)\n",
            "  Downloading nvidia_cufft_cu12-11.2.1.3-py3-none-manylinux2014_x86_64.whl.metadata (1.5 kB)\n",
            "Collecting nvidia-curand-cu12==10.3.5.147 (from torch>=1.0.0->bert_score)\n",
            "  Downloading nvidia_curand_cu12-10.3.5.147-py3-none-manylinux2014_x86_64.whl.metadata (1.5 kB)\n",
            "Collecting nvidia-cusolver-cu12==11.6.1.9 (from torch>=1.0.0->bert_score)\n",
            "  Downloading nvidia_cusolver_cu12-11.6.1.9-py3-none-manylinux2014_x86_64.whl.metadata (1.6 kB)\n",
            "Collecting nvidia-cusparse-cu12==12.3.1.170 (from torch>=1.0.0->bert_score)\n",
            "  Downloading nvidia_cusparse_cu12-12.3.1.170-py3-none-manylinux2014_x86_64.whl.metadata (1.6 kB)\n",
            "Requirement already satisfied: nvidia-cusparselt-cu12==0.6.2 in /usr/local/lib/python3.11/dist-packages (from torch>=1.0.0->bert_score) (0.6.2)\n",
            "Requirement already satisfied: nvidia-nccl-cu12==2.21.5 in /usr/local/lib/python3.11/dist-packages (from torch>=1.0.0->bert_score) (2.21.5)\n",
            "Requirement already satisfied: nvidia-nvtx-cu12==12.4.127 in /usr/local/lib/python3.11/dist-packages (from torch>=1.0.0->bert_score) (12.4.127)\n",
            "Collecting nvidia-nvjitlink-cu12==12.4.127 (from torch>=1.0.0->bert_score)\n",
            "  Downloading nvidia_nvjitlink_cu12-12.4.127-py3-none-manylinux2014_x86_64.whl.metadata (1.5 kB)\n",
            "Requirement already satisfied: triton==3.2.0 in /usr/local/lib/python3.11/dist-packages (from torch>=1.0.0->bert_score) (3.2.0)\n",
            "Requirement already satisfied: sympy==1.13.1 in /usr/local/lib/python3.11/dist-packages (from torch>=1.0.0->bert_score) (1.13.1)\n",
            "Requirement already satisfied: mpmath<1.4,>=1.1.0 in /usr/local/lib/python3.11/dist-packages (from sympy==1.13.1->torch>=1.0.0->bert_score) (1.3.0)\n",
            "Requirement already satisfied: huggingface-hub<1.0,>=0.30.0 in /usr/local/lib/python3.11/dist-packages (from transformers>=3.0.0->bert_score) (0.30.2)\n",
            "Requirement already satisfied: pyyaml>=5.1 in /usr/local/lib/python3.11/dist-packages (from transformers>=3.0.0->bert_score) (6.0.2)\n",
            "Requirement already satisfied: regex!=2019.12.17 in /usr/local/lib/python3.11/dist-packages (from transformers>=3.0.0->bert_score) (2024.11.6)\n",
            "Requirement already satisfied: tokenizers<0.22,>=0.21 in /usr/local/lib/python3.11/dist-packages (from transformers>=3.0.0->bert_score) (0.21.1)\n",
            "Requirement already satisfied: safetensors>=0.4.3 in /usr/local/lib/python3.11/dist-packages (from transformers>=3.0.0->bert_score) (0.5.3)\n",
            "Requirement already satisfied: contourpy>=1.0.1 in /usr/local/lib/python3.11/dist-packages (from matplotlib->bert_score) (1.3.2)\n",
            "Requirement already satisfied: cycler>=0.10 in /usr/local/lib/python3.11/dist-packages (from matplotlib->bert_score) (0.12.1)\n",
            "Requirement already satisfied: fonttools>=4.22.0 in /usr/local/lib/python3.11/dist-packages (from matplotlib->bert_score) (4.57.0)\n",
            "Requirement already satisfied: kiwisolver>=1.3.1 in /usr/local/lib/python3.11/dist-packages (from matplotlib->bert_score) (1.4.8)\n",
            "Requirement already satisfied: pillow>=8 in /usr/local/lib/python3.11/dist-packages (from matplotlib->bert_score) (11.2.1)\n",
            "Requirement already satisfied: pyparsing>=2.3.1 in /usr/local/lib/python3.11/dist-packages (from matplotlib->bert_score) (3.2.3)\n",
            "Requirement already satisfied: charset-normalizer<4,>=2 in /usr/local/lib/python3.11/dist-packages (from requests->bert_score) (3.4.1)\n",
            "Requirement already satisfied: idna<4,>=2.5 in /usr/local/lib/python3.11/dist-packages (from requests->bert_score) (3.10)\n",
            "Requirement already satisfied: urllib3<3,>=1.21.1 in /usr/local/lib/python3.11/dist-packages (from requests->bert_score) (2.4.0)\n",
            "Requirement already satisfied: certifi>=2017.4.17 in /usr/local/lib/python3.11/dist-packages (from requests->bert_score) (2025.1.31)\n",
            "Requirement already satisfied: six>=1.5 in /usr/local/lib/python3.11/dist-packages (from python-dateutil>=2.8.2->pandas>=1.0.1->bert_score) (1.17.0)\n",
            "Requirement already satisfied: MarkupSafe>=2.0 in /usr/local/lib/python3.11/dist-packages (from jinja2->torch>=1.0.0->bert_score) (3.0.2)\n",
            "Downloading bert_score-0.3.13-py3-none-any.whl (61 kB)\n",
            "\u001b[2K   \u001b[90m━━━━━━━━━━━━━━━━━━━━━━━━━━━━━━━━━━━━━━━━\u001b[0m \u001b[32m61.1/61.1 kB\u001b[0m \u001b[31m3.3 MB/s\u001b[0m eta \u001b[36m0:00:00\u001b[0m\n",
            "\u001b[?25hDownloading nvidia_cublas_cu12-12.4.5.8-py3-none-manylinux2014_x86_64.whl (363.4 MB)\n",
            "\u001b[2K   \u001b[90m━━━━━━━━━━━━━━━━━━━━━━━━━━━━━━━━━━━━━━━━\u001b[0m \u001b[32m363.4/363.4 MB\u001b[0m \u001b[31m3.9 MB/s\u001b[0m eta \u001b[36m0:00:00\u001b[0m\n",
            "\u001b[?25hDownloading nvidia_cuda_cupti_cu12-12.4.127-py3-none-manylinux2014_x86_64.whl (13.8 MB)\n",
            "\u001b[2K   \u001b[90m━━━━━━━━━━━━━━━━━━━━━━━━━━━━━━━━━━━━━━━━\u001b[0m \u001b[32m13.8/13.8 MB\u001b[0m \u001b[31m126.6 MB/s\u001b[0m eta \u001b[36m0:00:00\u001b[0m\n",
            "\u001b[?25hDownloading nvidia_cuda_nvrtc_cu12-12.4.127-py3-none-manylinux2014_x86_64.whl (24.6 MB)\n",
            "\u001b[2K   \u001b[90m━━━━━━━━━━━━━━━━━━━━━━━━━━━━━━━━━━━━━━━━\u001b[0m \u001b[32m24.6/24.6 MB\u001b[0m \u001b[31m97.7 MB/s\u001b[0m eta \u001b[36m0:00:00\u001b[0m\n",
            "\u001b[?25hDownloading nvidia_cuda_runtime_cu12-12.4.127-py3-none-manylinux2014_x86_64.whl (883 kB)\n",
            "\u001b[2K   \u001b[90m━━━━━━━━━━━━━━━━━━━━━━━━━━━━━━━━━━━━━━━━\u001b[0m \u001b[32m883.7/883.7 kB\u001b[0m \u001b[31m56.5 MB/s\u001b[0m eta \u001b[36m0:00:00\u001b[0m\n",
            "\u001b[?25hDownloading nvidia_cudnn_cu12-9.1.0.70-py3-none-manylinux2014_x86_64.whl (664.8 MB)\n",
            "\u001b[2K   \u001b[90m━━━━━━━━━━━━━━━━━━━━━━━━━━━━━━━━━━━━━━━━\u001b[0m \u001b[32m664.8/664.8 MB\u001b[0m \u001b[31m2.7 MB/s\u001b[0m eta \u001b[36m0:00:00\u001b[0m\n",
            "\u001b[?25hDownloading nvidia_cufft_cu12-11.2.1.3-py3-none-manylinux2014_x86_64.whl (211.5 MB)\n",
            "\u001b[2K   \u001b[90m━━━━━━━━━━━━━━━━━━━━━━━━━━━━━━━━━━━━━━━━\u001b[0m \u001b[32m211.5/211.5 MB\u001b[0m \u001b[31m5.2 MB/s\u001b[0m eta \u001b[36m0:00:00\u001b[0m\n",
            "\u001b[?25hDownloading nvidia_curand_cu12-10.3.5.147-py3-none-manylinux2014_x86_64.whl (56.3 MB)\n",
            "\u001b[2K   \u001b[90m━━━━━━━━━━━━━━━━━━━━━━━━━━━━━━━━━━━━━━━━\u001b[0m \u001b[32m56.3/56.3 MB\u001b[0m \u001b[31m12.3 MB/s\u001b[0m eta \u001b[36m0:00:00\u001b[0m\n",
            "\u001b[?25hDownloading nvidia_cusolver_cu12-11.6.1.9-py3-none-manylinux2014_x86_64.whl (127.9 MB)\n",
            "\u001b[2K   \u001b[90m━━━━━━━━━━━━━━━━━━━━━━━━━━━━━━━━━━━━━━━━\u001b[0m \u001b[32m127.9/127.9 MB\u001b[0m \u001b[31m7.9 MB/s\u001b[0m eta \u001b[36m0:00:00\u001b[0m\n",
            "\u001b[?25hDownloading nvidia_cusparse_cu12-12.3.1.170-py3-none-manylinux2014_x86_64.whl (207.5 MB)\n",
            "\u001b[2K   \u001b[90m━━━━━━━━━━━━━━━━━━━━━━━━━━━━━━━━━━━━━━━━\u001b[0m \u001b[32m207.5/207.5 MB\u001b[0m \u001b[31m5.3 MB/s\u001b[0m eta \u001b[36m0:00:00\u001b[0m\n",
            "\u001b[?25hDownloading nvidia_nvjitlink_cu12-12.4.127-py3-none-manylinux2014_x86_64.whl (21.1 MB)\n",
            "\u001b[2K   \u001b[90m━━━━━━━━━━━━━━━━━━━━━━━━━━━━━━━━━━━━━━━━\u001b[0m \u001b[32m21.1/21.1 MB\u001b[0m \u001b[31m104.5 MB/s\u001b[0m eta \u001b[36m0:00:00\u001b[0m\n",
            "\u001b[?25hInstalling collected packages: nvidia-nvjitlink-cu12, nvidia-curand-cu12, nvidia-cufft-cu12, nvidia-cuda-runtime-cu12, nvidia-cuda-nvrtc-cu12, nvidia-cuda-cupti-cu12, nvidia-cublas-cu12, nvidia-cusparse-cu12, nvidia-cudnn-cu12, nvidia-cusolver-cu12, bert_score\n",
            "  Attempting uninstall: nvidia-nvjitlink-cu12\n",
            "    Found existing installation: nvidia-nvjitlink-cu12 12.5.82\n",
            "    Uninstalling nvidia-nvjitlink-cu12-12.5.82:\n",
            "      Successfully uninstalled nvidia-nvjitlink-cu12-12.5.82\n",
            "  Attempting uninstall: nvidia-curand-cu12\n",
            "    Found existing installation: nvidia-curand-cu12 10.3.6.82\n",
            "    Uninstalling nvidia-curand-cu12-10.3.6.82:\n",
            "      Successfully uninstalled nvidia-curand-cu12-10.3.6.82\n",
            "  Attempting uninstall: nvidia-cufft-cu12\n",
            "    Found existing installation: nvidia-cufft-cu12 11.2.3.61\n",
            "    Uninstalling nvidia-cufft-cu12-11.2.3.61:\n",
            "      Successfully uninstalled nvidia-cufft-cu12-11.2.3.61\n",
            "  Attempting uninstall: nvidia-cuda-runtime-cu12\n",
            "    Found existing installation: nvidia-cuda-runtime-cu12 12.5.82\n",
            "    Uninstalling nvidia-cuda-runtime-cu12-12.5.82:\n",
            "      Successfully uninstalled nvidia-cuda-runtime-cu12-12.5.82\n",
            "  Attempting uninstall: nvidia-cuda-nvrtc-cu12\n",
            "    Found existing installation: nvidia-cuda-nvrtc-cu12 12.5.82\n",
            "    Uninstalling nvidia-cuda-nvrtc-cu12-12.5.82:\n",
            "      Successfully uninstalled nvidia-cuda-nvrtc-cu12-12.5.82\n",
            "  Attempting uninstall: nvidia-cuda-cupti-cu12\n",
            "    Found existing installation: nvidia-cuda-cupti-cu12 12.5.82\n",
            "    Uninstalling nvidia-cuda-cupti-cu12-12.5.82:\n",
            "      Successfully uninstalled nvidia-cuda-cupti-cu12-12.5.82\n",
            "  Attempting uninstall: nvidia-cublas-cu12\n",
            "    Found existing installation: nvidia-cublas-cu12 12.5.3.2\n",
            "    Uninstalling nvidia-cublas-cu12-12.5.3.2:\n",
            "      Successfully uninstalled nvidia-cublas-cu12-12.5.3.2\n",
            "  Attempting uninstall: nvidia-cusparse-cu12\n",
            "    Found existing installation: nvidia-cusparse-cu12 12.5.1.3\n",
            "    Uninstalling nvidia-cusparse-cu12-12.5.1.3:\n",
            "      Successfully uninstalled nvidia-cusparse-cu12-12.5.1.3\n",
            "  Attempting uninstall: nvidia-cudnn-cu12\n",
            "    Found existing installation: nvidia-cudnn-cu12 9.3.0.75\n",
            "    Uninstalling nvidia-cudnn-cu12-9.3.0.75:\n",
            "      Successfully uninstalled nvidia-cudnn-cu12-9.3.0.75\n",
            "  Attempting uninstall: nvidia-cusolver-cu12\n",
            "    Found existing installation: nvidia-cusolver-cu12 11.6.3.83\n",
            "    Uninstalling nvidia-cusolver-cu12-11.6.3.83:\n",
            "      Successfully uninstalled nvidia-cusolver-cu12-11.6.3.83\n",
            "Successfully installed bert_score-0.3.13 nvidia-cublas-cu12-12.4.5.8 nvidia-cuda-cupti-cu12-12.4.127 nvidia-cuda-nvrtc-cu12-12.4.127 nvidia-cuda-runtime-cu12-12.4.127 nvidia-cudnn-cu12-9.1.0.70 nvidia-cufft-cu12-11.2.1.3 nvidia-curand-cu12-10.3.5.147 nvidia-cusolver-cu12-11.6.1.9 nvidia-cusparse-cu12-12.3.1.170 nvidia-nvjitlink-cu12-12.4.127\n"
          ]
        }
      ],
      "source": [
        "!pip install transformers\n",
        "!pip install nltk\n",
        "!pip install bert_score\n"
      ]
    },
    {
      "cell_type": "code",
      "source": [
        "import json\n",
        "def load_prompts_targets(filepath):\n",
        "    prompts = []\n",
        "    targets = []\n",
        "    with open(filepath, 'r', encoding='utf-8') as f:\n",
        "        for line in f:\n",
        "            entry = json.loads(line)\n",
        "            prompts.append(entry[\"prompt\"].strip())\n",
        "            targets.append(entry[\"diagnosis\"].strip())\n",
        "    return prompts, targets\n",
        "prompts_zeroshot, targets_zeroshot = load_prompts_targets(\"/content/basic_prompts.jsonl\")\n",
        "\n",
        "print(f\" Loaded {len(prompts_zeroshot)} zero-shot prompts\")\n"
      ],
      "metadata": {
        "colab": {
          "base_uri": "https://localhost:8080/"
        },
        "id": "CwK7-7AgrgtA",
        "outputId": "3ad2f2c9-e78e-4978-af9a-df61c86fc51a"
      },
      "execution_count": null,
      "outputs": [
        {
          "output_type": "stream",
          "name": "stdout",
          "text": [
            " Loaded 10 zero-shot prompts\n"
          ]
        }
      ]
    },
    {
      "cell_type": "code",
      "source": [
        "targets_zeroshot[0]"
      ],
      "metadata": {
        "colab": {
          "base_uri": "https://localhost:8080/",
          "height": 35
        },
        "id": "g4VtRLxBDu4p",
        "outputId": "6b0d2ff8-f7a3-4449-b52e-506f2bd0e15e"
      },
      "execution_count": null,
      "outputs": [
        {
          "output_type": "execute_result",
          "data": {
            "text/plain": [
              "'Pulmonary histoplasmosis'"
            ],
            "application/vnd.google.colaboratory.intrinsic+json": {
              "type": "string"
            }
          },
          "metadata": {},
          "execution_count": 4
        }
      ]
    },
    {
      "cell_type": "code",
      "source": [
        "prompts_zeroshot[0]"
      ],
      "metadata": {
        "colab": {
          "base_uri": "https://localhost:8080/",
          "height": 191
        },
        "id": "hZsIhj0NsMt0",
        "outputId": "b3221004-dc22-4b4b-eadb-5135106cb43b"
      },
      "execution_count": null,
      "outputs": [
        {
          "output_type": "execute_result",
          "data": {
            "text/plain": [
              "\"Patient Presentation:\\nDr. Justine V. Cohen: A 47-year-old woman with malignant melanoma was seen in the pulmonary clinic of this hospital because of new abnormal findings on chest imaging. The patient had observed routine quarterly surveillance imaging after resection of right axillary melanoma, radiation therapy, and initiation of pembrolizumab therapy 3 years earlier. The most recent imaging was performed 6 days before this evaluation. Computed tomography (CT) of the chest, performed after the administration of intravenous contrast material, revealed a patchy consolidation in the left upper lobe, bilateral hilar and mediastinal lymphadenopathy, and numerous bilateral scattered solid pulmonary nodules with associated ground-glass halos. These findings were new relative to the most recent imaging performed 3 months earlier. Other pulmonary nodules, measuring 2 to 4 mm in greatest dimension, in the right upper lobe that had been noted on imaging studies obtained during the previous 3 years were stable. Changes in the right upper lobe that had resulted from radiation therapy were also stable relative to previous imaging studies. CT of the abdomen and pelvis, performed after the administration of intravenous contrast material, revealed a hemangioma in the right hepatic lobe that measured 9 mm in greatest dimension and a cyst in the left hepatic lobe that measured 15 mm in diameter; both were unchanged from previous imaging studies. Magnetic resonance imaging (MRI) of the head, performed after the administration of intravenous contrast material, was normal.The patient was referred by her oncologist for urgent evaluation in the pulmonary clinic of this hospital. On evaluation, the patient reported no symptoms, specifically no fever, weight loss, night sweats, fatigue, malaise, headache, chest pain, cough, hemoptysis, new or changed skin lesions (except a mild traumatic abrasion on the right arm), pruritus, or new masses. The patient's medical history was notable for superficial spreading melanoma on the right upper back that had initially been diagnosed two decades before this evaluation and had been surgically excised, with clear pathological margins. Eleven years later, an in situ superficial spreading melanoma developed on the left upper back and was completely excised. Three years before the current evaluation, locally advanced melanoma in the right axilla was diagnosed on the basis of a positron-emission tomographic and CT image that showed a 3.5-cm right axillary nodal conglomerate mass with multiple foci of intense 18F-fluorodeoxyglucose (FDG) uptake; no other sites of FDG avidity were seen . Multiple pulmonary nodules, measuring 2 to 4 mm in greatest dimension, in the right lobe and hypodense hepatic lesions, measuring 9 mm in the right lobe and 10 mm in the left lobe, were noted. MRI of the abdomen suggested that the hepatic lesion in the right lobe corresponded to a hemangioma and the hepatic lesion in the left lobe a cyst. MRI of the head, performed before and after the administration of intravenous contrast material, was normal. At that time, dissection of the right axillary lymph nodes was performed, and examination of the specimens revealed metastatic melanoma in 25 of 39 lymph nodes, with a high degree of extracapsular extension. Molecular profiling identified the BRAF V600E mutation. The patient received radiation therapy to the right axilla and supraclavicular fossa (total dose of 4800 cGy over a period of 5 weeks), followed by pembrolizumab every 3 weeks for the next 12 months. During this course of treatment, lichenoid nodules developed on the fingers of both hands, tenosynovitis developed in the right ankle, and hypothyroidism was diagnosed, for which treatment with levothyroxine was initiated. These findings were attributed to adverse effects of the immune checkpoint inhibitor therapy. The plan for surveillance imaging included CT of the chest, abdomen, and pelvis, which was to be performed every 3 months, and MRI of the head, which was to be performed annually. The patient's medical history also included bilateral ovarian cysts, osteopenia, and a melanocytoma of the left optic disc that had been stable for at least 13 years. A Papanicolaou smear and testing for high-risk human papillomavirus performed 3 years before this evaluation had been negative. Routine screening mammography performed 1 month before this evaluation had revealed dense breast tissue with bilateral calcifications that appeared to be benign; no suspicious lesions were noted. Medications included calcium carbonate, cholecalciferol, and levothyroxine. There were no known drug allergies. The patient was born on the northern coast of South America and had immigrated to the United States as a child. She lived in New England with her husband, two children, and two cats. She worked in the health care industry. She drank one or two glasses of wine per day and did not smoke tobacco or use illicit drugs. One month before this evaluation, she and her family had traveled to the northern coast of South America for 1 week. On the trip, the patient spent most her time outdoors, including taking trips to the jungle and swimming in fresh water, and ate local cuisine, such as water chestnuts. When she returned home with her family, her husband and one of her children had generalized myalgias and malaise that resolved spontaneously. The patient's mother had breast cancer, melanoma, and basal-cell carcinoma; her father had prostate cancer; and her daughter had mixed connective-tissue disease. Her maternal grandfather had colon cancer, her paternal grandmother had breast cancer, and her maternal cousin had melanoma. On examination, the temperature was 37.0 degrees Celcius, the blood pressure 123/68 mm Hg, the pulse 56 beats per minute, the respiratory rate 18 breaths per minute, and the oxygen saturation 100% while the patient was breathing ambient air. The body-mass index (the weight in kilograms divided by the square of the height in meters) was 20.8. She appeared well, and the lungs were clear on auscultation. Examination showed fair skin, multiple nevi without suspicious features, and healed scars at the sites of previous surgical procedures. There were lichenoid nodules on the fingers of both hands. The remainder of the physical examination was normal. The levels of electrolytes, glucose, and lactate dehydrogenase were normal, as were results of renal- and liver-function tests. The complete blood count and differential count were also normal. Blood samples were obtained for culture. An interferon-[gamma] release assay for Mycobacterium tuberculosis was negative, and the level of 1,3-[beta]-D-glucan was less than 31 pg per milliliter (reference value, <60).\\n\\nQuestion: What is the most likely final diagnosis?\\n\\nAnswer:\""
            ],
            "application/vnd.google.colaboratory.intrinsic+json": {
              "type": "string"
            }
          },
          "metadata": {},
          "execution_count": 5
        }
      ]
    },
    {
      "cell_type": "code",
      "source": [
        "prompts_zeroshot[1]"
      ],
      "metadata": {
        "colab": {
          "base_uri": "https://localhost:8080/",
          "height": 191
        },
        "id": "HcoxaVeUsPLm",
        "outputId": "5f8d152e-ca91-4dc1-96bf-d76bba8d5535"
      },
      "execution_count": null,
      "outputs": [
        {
          "output_type": "execute_result",
          "data": {
            "text/plain": [
              "\"Patient Presentation:\\nA 53-year-old woman was transferred to this hospital because of progressive headache, gait instability, and weight loss. Approximately 2 months before the patient's evaluation at this hospital, vertigo developed and resolved spontaneously. One day before evaluation at this hospital, she sought care at another hospital for recurrent dizziness and difficulty walking. The temperature was 36.4 degrees Celcisus, the pulse 86 beats per minute, the blood pressure 170/105 mm Hg, the respiratory rate 15 breaths per minute, and the oxygen saturation 97% while she was breathing ambient air. The patient was alert and oriented, with slow speech, bilateral end-point horizontal nystagmus, and mild dysmetria on the right side on finger-nose-finger testing. Strength and sensory function were normal. She had difficulty maintaining a stable stance; her gait was narrow-based and described as slow and cautious. The remainder of the examination was normal.Computed tomography (CT) of the head, performed without the administration of intravenous contrast material, showed an area of ill-defined hypoattenuation that was consistent with vasogenic edema in the right cerebellar hemisphere, as well as regions of white-matter hypoattenuation in both cerebellar hemispheres. Aspirin and atorvastatin were administered. Magnetic resonance imaging (MRI) of the head, performed before and after the administration of intravenous contrast material, revealed an enhancing intraaxial lesion, measuring 2.0 cm by 1.8 cm by 1.7 cm, in the right inferior cerebellar hemisphere. The lesion had internal signal hypointensity that was indicative of necrosis on T1-weighted imaging, as well as surrounding signal hyperintensity that was suggestive of vasogenic edema on T2-weighted imaging. There was local mass effect with effacement of the overlying cerebellar fissures and the fourth ventricle. There was also an enhancing leptomeningeal lesion, measuring 4 mm in diameter, along the left medial frontal lobe in the left superior frontal gyrus, with possible leptomeningeal extension. The lesion was characterized by internal and surrounding signal hyperintensity on T2-weighted imaging. Intravenous dexamethasone, amlodipine, and labetalol were administered. The patient was transferred to this hospital for specialized neurosurgical consultation. On evaluation at this hospital, review of systems was notable for malaise and lethargy, as well as unintentional weight loss of 15 kg during the past year. The patient also reported an increase in urinary frequency without hematuria, dysuria, or flank pain. She had no fever, chills, sinus pain, dyspnea, cough, abdominal pain, diarrhea, nausea, or vomiting. She had a history of hypertension and hemorrhagic stroke, which had led to a craniotomy on the right side for evacuation of a blood clot 13 years before the current evaluation, with no reported neurologic deficits. The patient reported that, during the admission for craniotomy, she was told that she had human immunodeficiency virus (HIV) infection and was treated with an unknown antiretroviral therapy (ART) regimen; she could not recall the medications included in the regimen. In addition, she reported that, several years later, further testing revealed that an error had been made and she did not have HIV infection. She reported that ART medications were discontinued at least 3 years before the current evaluation. The patient did not have a history of opportunistic infections or cancer. Three years earlier, a Mantoux tuberculin skin test had been negative. One week earlier, a mammogram had been normal. She had never undergone a colonoscopy or a Papanicolaou test. The patient was born in Ivory Coast, West Africa, and had been living in the United States for more than 20 years. She reported no recent travel. She lived with her children and did not smoke tobacco, drink alcohol, or use illicit drugs. She was divorced and not sexually active; in her lifetime, she had had one male sexual partner. Her ex-husband and one of her children reportedly had tested negative for HIV. Her father had had a myocardial infarction in his 60s; her mother and sisters were healthy. The patient had not been taking any medications at home before this illness and had no known allergies to medications. On physical examination, the temperature was 36.9 degrees Celcius, the blood pressure 165/99 mm Hg, and the body-mass index (the weight in kilograms divided by the square of the height in meters) 22.5. The patient was comfortable, alert, and oriented. Her speech was clear, with intact naming and repetition. Her pupils were equal and reactive to light, extraocular movements were intact, and visual fields were full in response to confrontation. She had mild right esotropia and no nystagmus. Her face was symmetric, but there was mild deviation of the tongue to the left. Results of other cranial-nerve testing were normal. Finger-nose-finger testing revealed subtle dysmetria that was greater on the right side than on the left side; there was no dysdiadochokinesia or intention tremor. Her stance was approximately shoulder-width. Her balance was impaired, and her gait was unsteady and ataxic. Psychomotor slowing was present, and the Romberg sign was absent. An evaluation of power, bulk, tone, sensation, and deep-tendon reflexes was normal. She had alopecia and oral thrush. The remainder of the examination was normal. The patient was admitted to the hospital for further evaluation and treatment. Results of tests of renal, liver, and thyroid function were normal, as were blood levels of electrolytes, vitamin B12, and glycated hemoglobin. An HIV screening test for the detection of antibodies to HIV type 1 (HIV-1) and HIV type 2 (HIV-2) and HIV-1 p24 antigen was reactive. Plasma HIV-1 RNA was not detected. The CD4+ T-cell count was 39 per microliter (reference range, 348 to 1456). A urine sample was obtained for culture. CT of the chest, performed after the administration of intravenous contrast material, revealed a mildly enlarged and multinodular left thyroid gland, as well as scattered pulmonary nodules measuring less than 4 mm in diameter. CT of the abdomen and pelvis, performed after the administration of intravenous contrast material, revealed a hypoattenuating hepatic lesion measuring 1.1 cm in the greatest dimension that was consistent with hemangioma, as well as diffuse lytic osseous lesions in the thoracolumbar spine and pelvis..\\n\\nQuestion: What is the most likely final diagnosis?\\n\\nAnswer:\""
            ],
            "application/vnd.google.colaboratory.intrinsic+json": {
              "type": "string"
            }
          },
          "metadata": {},
          "execution_count": 6
        }
      ]
    },
    {
      "cell_type": "code",
      "source": [
        "prompts_zeroshot[2]"
      ],
      "metadata": {
        "colab": {
          "base_uri": "https://localhost:8080/",
          "height": 191
        },
        "id": "_-FmX-8nsQrU",
        "outputId": "b58f11b8-0681-41f2-f83e-85c5f23be726"
      },
      "execution_count": null,
      "outputs": [
        {
          "output_type": "execute_result",
          "data": {
            "text/plain": [
              "\"Patient Presentation:\\nA 63-year-old man was evaluated at this hospital in the spring because of fever, confusion, headache, garbled speech, fatigue, vision changes, lymphocytic pleocytosis, and an elevated protein level in the cerebrospinal fluid (CSF). Approximately 5 years before the current presentation, the patient had received a diagnosis of primary membranous nephropathy at another hospital. Treatment with oral prednisone and cyclosporine was initiated. Two years later, the patient was referred to the nephrology clinic of this hospital for worsening proteinuria and hypertension; rituximab, prednisone, and cyclophosphamide were administered. During the next 21 months, he received four doses of rituximab, the last of which was administered 3 months before this presentation. Three months before this presentation, the patient had a flash of light accompanied by transient sharp pain in the left retro-orbital area and forehead, with monocular blurry vision. He was subsequently evaluated at the other hospital. Magnetic resonance imaging (MRI) and computed tomography (CT) of the head were normal. Intravenous normal saline was administered, and he was discharged. One week later, the patient was reevaluated at the same hospital for an episode of garbled and nonsensical speech with impaired comprehension that resolved after 10 minutes. A CT angiogram and an MRI of the head reportedly showed a subacute infarct in the right side of the pons; intravenous alteplase was administered. Transthoracic echocardiography (TTE) was normal. Mild word-finding difficulties and confusion persisted. After discharge, the patient had worsening vision with floaters in the left eye, headache, photophobia, sonophobia, and fatigue. Three weeks later, he was evaluated by a neuro-ophthalmologist, who prescribed oral butalbital-acetaminophen-caffeine therapy and ophthalmic prednisolone drops for suspected uveitis. The vision improved, and headaches decreased during the subsequent 2 weeks; however, 1 week later, he was readmitted to the other hospital with sudden onset of weakness on the right side, facial droop, and garbled speech. The weakness resolved after 10 minutes. CT and MRI of the head and TTE were reportedly unchanged from the previous imaging studies. An electroencephalogram (EEG) showed focal left temporal slowing, and treatment with levetiracetam was initiated. The garbled speech resolved after 2 days, and he was discharged from the hospital. During the next week, the patient had recurrent staring spells that lasted for 1 minute, during which his family thought he appeared vacant; low-grade fever also developed, and within 48 hours, the temperature increased to 39.4 degrees Celcius  and the garbled speech recurred. He was readmitted to the other hospital, and CT of the head was again reportedly normal. Blood levels of calcium, albumin, globulin, ammonia, thyrotropin, lactate, and troponin T were normal, as were the results of liver-function tests and urinalysis. Tests for Lyme disease antibodies, hepatitis B virus surface antigen, hepatitis C virus antibodies, rapid plasma reagin, antinuclear antibodies, rheumatoid factor, and antineutrophil cytoplasmic antibodies (ANCA) were negative, and levels of complement were normal. Other laboratory test results are shown in Table 1. A lumbar puncture was performed; tests for antibodies to Borrelia burgdorferi and West Nile virus were negative, and a Venereal Disease Research Laboratory (VDRL) test of the CSF was nonreactive . The patient was transferred to this hospital for further evaluation. A review of systems provided by the patient's family was notable for somnolence, fatigue, generalized weakness, unsteadiness, headaches, staring spells, floaters in the left eye, photophobia, sonophobia, mild neck stiffness, unintentional weight loss of 10 kg in the past 6 months, and nocturia. The patient reported no muscle or joint pain, rash, eye pain, diplopia, oral lesions, cough, dyspnea, nausea, or abdominal pain. His medical history was notable for hypertension, dyslipidemia, early-onset coronary artery disease for which he had received percutaneous coronary intervention in his 50s and for which he had undergone aortocoronary bypass grafting in his 60s, congenital color blindness, colonic polyps, and prostatic hypertrophy. Medications included cyclophosphamide, levetiracetam, aspirin, pravastatin, metoprolol, losartan, hydrochlorothiazide, trimethoprim-sulfamethoxazole, omeprazole, calcium carbonate, cholecalciferol, ferrous sulfate, a multivitamin, and fluticasone. He had not taken other antibiotic agents or nonsteroidal antiinflammatory drugs. The patient was a retired government employee and lived with his wife in northern New England. He had recently traveled to Florida and to rural Canada and had spent time hunting. He had smoked one pack of cigarettes per day for approximately 30 years but had quit 7 years before the current presentation. He drank two beers per week and did not use illicit substances. His family history included coronary artery disease in both parents and valvular disease in his mother, psoriatic arthritis in a sister, and sarcoidosis in several siblings; there was no history of renal or neurologic disease. The temperature was 37.2 degrees Celcius, the heart rate 73 beats per minute, the blood pressure 128/78 mm Hg, and the oxygen saturation 96% while the patient was breathing ambient air. The body-mass index (the weight in kilograms divided by the square of the height in meters) was 20.4. He appeared cachectic, with bitemporal wasting. He was somnolent and difficult to arouse with voice; he was oriented to self and intermittently to place, month, and year. His thoughts were perseverative. On mental-status examination, he was unable to name days of the week backward (he named a month and then named the days forward) and was unable to perform serial sevens calculations. Occasional word-finding difficulties were noted, although repetition, naming, and reading were generally intact. When asked to remember three words, he could recall only one word after 5 minutes. He reported that nine quarters equaled $4.25. His affect and speech were intact. The cranial-nerve examination revealed blurriness in the visual fields, discomfort with eye movements, and limited upward gaze. There was no weakness or pronator drift; a low-amplitude intention tremor was present in the left hand. The muscle tone was increased in both legs, with diffuse hyperreflexia, pectoralis reflexes, and seven beats of ankle clonus. The remainder of the examination was normal. Blood levels of calcium, magnesium, phosphorus, glycated hemoglobin, bilirubin, albumin, prealbumin, total protein, lactate dehydrogenase, high-density and low-density lipoprotein cholesterol, and thyrotropin were normal, as were the prothrombin time, partial-thromboplastin time, and results of liver-function tests. A comprehensive urine toxicology screen was negative, and a serum toxicology screen was negative for acetaminophen, salicylates, ethanol, and tricyclic antidepressants. Screening tests for human immunodeficiency virus (HIV) types 1 and 2 and Treponema pallidum were negative. Cultures of the blood and urine were obtained. A chest radiograph was normal. CT of the head, performed without the administration of intravenous contrast material, revealed no hemorrhage, acute infarction, or mass lesion. Opacification of the right maxillary sinus was noted. MRI of the head (Fig. 1) and magnetic resonance angiography of the head and neck revealed signal hyperintensity in the sulci on fluid-attenuated inversion recovery images, with associated subtle enhancement on gadolinium-enhanced T1-weighted images; additional subarachnoid and subdural foci characterized by restricted diffusion with no enhancement; nonspecific changes in the white matter; opacification of the right maxillary sinus; and no vascular abnormality. MRI of the spine revealed multilevel degenerative changes, without mass effect on the spinal cord, cord signal abnormality, or abnormal enhancement. Intravenous acyclovir, ceftriaxone, ampicillin, vancomycin, and thiamine were administered. On the second hospital day, the temperature was 37.6 degrees Celcisu, and myoclonic jerks were noted; marked lethargy, photophobia, and nonsensical speech persisted. The patient was intermittently impulsive and uncooperative. The white-cell count was 17,960 per microliter (reference range, 4500 to 11,000), and the blood levels of vitamin B12, angiotensin-converting enzyme, complement, and haptoglobin and CD4+ T-cell subset counts were normal. ANCA, antinuclear antibodies, cryptococcal antigen, cytomegalovirus (CMV) DNA, Epstein-Barr virus DNA, galactomannan, and B. burgdorferi antibodies were not detected in the blood. A lumbar puncture was performed; the opening pressure was 10 cm of water, and the CSF was yellow and slightly turbid. Additional results of CSF analysis are shown in Table 2. CSF was obtained for culture, cytologic examination, and an autoimmune encephalopathy panel. An EEG showed intermittent periods of theta slowing in the bilateral posterior quadrants, with no epileptiform discharges. On examination by an ophthalmologist, bilateral visual acuity, visual fields, and intraocular pressure were normal, and there was no afferent pupillary defect. Slit-lamp examination of the eyes revealed bilateral posterior vitreal detachment but no cells in the anterior or posterior chambers. Dilated-eye examination revealed edema in both optic nerves, with tortuous vessels. There was no evidence of anterior uveitis, retinitis, or retinal necrosis. On the third hospital day, the temperature was 36.7 degrees Celcius, and the white-cell count was 8300 per microliter. The patient reported improved strength. Tests for bartonella antibodies and Tropheryma whipplei DNA were negative. Serum protein electrophoresis revealed a diffuse decrease in gamma globulin, with an IgG level of 378 mg per deciliter (reference range, 614 to 1295), an IgA level of 30 mg per deciliter (reference range, 69 to 309), and an IgM level of 7 mg per deciliter (reference range, 53 to 334); the serum free light chain levels and the results of immunoelectrophoresis were normal. A CSF VDRL test was nonreactive, and CSF testing was negative for cryptococcal antigen, eastern equine encephalitis antibodies, enterovirus RNA, West Nile virus RNA, herpes simplex virus (HSV) types 1 and 2 DNA, and varicella-zoster virus (VZV) DNA. On the fourth hospital day, the patient reported feeling better and having increased strength, which allowed him to walk. Blood tests for cryoglobulin, 1,3-[beta]-d-glucan, and thyroid peroxidase antibodies were negative. On the fifth hospital day, the patient was calm and cooperative; oriented to person, place, and time; and able to follow complex commands. CSF tests for listeria antibodies, Epstein-Barr virus DNA, and human herpesvirus 6 DNA were negative, as were blood and urine tests for histoplasma antigens. A whole-body positron-emission tomographic (PET)-CT scan did not show fluorodeoxyglucose avidity. A repeat ophthalmologic examination revealed the presence of vitreous cells, which were more numerous in the left eye than in the right eye; persistent edema in the left optic nerve; and an increase in the blind spot of the left eye on Humphrey visual-field testing. A fluorescein angiogram showed no evidence of ocular vasculitis.\\n\\nQuestion: What is the most likely final diagnosis?\\n\\nAnswer:\""
            ],
            "application/vnd.google.colaboratory.intrinsic+json": {
              "type": "string"
            }
          },
          "metadata": {},
          "execution_count": 7
        }
      ]
    },
    {
      "cell_type": "code",
      "source": [
        "prompts_zeroshot[3]"
      ],
      "metadata": {
        "colab": {
          "base_uri": "https://localhost:8080/",
          "height": 191
        },
        "id": "Qfs7PD2ssRe2",
        "outputId": "d149f77b-42cb-4bb8-d3c9-c3004ecb7668"
      },
      "execution_count": null,
      "outputs": [
        {
          "output_type": "execute_result",
          "data": {
            "text/plain": [
              "\"Patient Presentation:\\nA 29-month-old boy was transferred to this hospital because of a seizure and hypocalcemia. Approximately 2 months before the current evaluation, the patient had a febrile seizure associated with an acute viral illness. After the seizure, his mother reported that his waddling gait had become more pronounced. Two weeks before the current evaluation, the patient was seen in the orthopedic clinic at another hospital. On examination, the cover-up test - in which the distal lower leg is covered and the alignment of the proximal lower leg is compared with that of the upper leg - was negative, a finding consistent with physiologic bowing of the leg. There was a pes planus (flatfoot) deformity that resolved when the patient was not bearing weight on the foot, and there was an external (positive) foot progression angle with ambulation. The mother was counseled that the findings were within the normal range for gait and musculoskeletal development. One day before the current evaluation, the mother noticed that the child's legs locked up and appeared shaky when he was walking over a threshold. On the morning of the current evaluation, the patient's mother noticed that the child was grunting while sleeping, with his eyes rolled upward and his arms stiffened and flexed. After less than 1 minute, the grunting and movements stopped and the patient vomited. Emergency medical services were called, and the patient was transported to the emergency department of another hospital. Vital signs, mental status, and findings on physical examination were reportedly normal. Laboratory evaluation was notable for a blood calcium level of 5.0 mg per deciliter (1.25 mmol per liter; reference range, 8.5 to 10.5 mg per deciliter [2.12 to 2.62 mmol per liter]). Intravenous calcium gluconate was administered. The patient was transferred to the emergency department of this hospital, arriving approximately 18 hours after a presumed seizure. Further history was obtained from the patient's parents. The patient had been delivered at full term and had reportedly met developmental milestones for his age. His medical history was notable for atopic dermatitis, which had been diagnosed when he was 9 weeks of age, as well as multiple environmental and food allergies. One year earlier, evaluation by an allergist had revealed elevated levels on IgE tests specific to food allergens (milk, cashews, pistachios, egg whites, almonds, soybeans, chickpeas, green peas, lentils, peanuts, and sesame seeds) and environmental allergens (dogs, cats, and dust mites), although the patient later underwent food challenges to peanuts, legumes, almonds, and sesame seeds in an allergy clinic and had no symptoms. There were no known drug allergies. The patient had received diphenhydramine, hydroxyzine, epinephrine, and topical betamethasone as needed. He had not received any routine childhood vaccinations because of his parents' refusal. The patient lived with his mother, father, two older siblings, and dog in New England. Although the mother was a vegetarian, she occasionally included chicken in the patient's natural and organic diet. The patient's mother had obsessive-compulsive disorder and anxiety, and his father had oral allergy syndrome and a history of varus knee deformity in childhood. The patient's two siblings had atopic dermatitis, environmental allergies, and food allergies. There was no family history of seizure. On physical examination, the patient appeared well and was alert and interactive. The temperature was 36.9 degrees Celcius, the height 83.5 cm (3rd percentile for his age), and the weight 12.4 kg (24th percentile for his age). The blood pressure was 95/63 mm Hg, the pulse 114 beats per minute, the respiratory rate 24 breaths per minute, and the oxygen saturation 99% while the patient was breathing ambient air. Muscle spasms occurred in the arms and legs with passive movement. Chvostek's sign (contraction of the facial muscles) was not elicited after tapping on the region of the facial nerve anterior to the external auditory canal; Trousseau's sign (carpal spasm) was not elicited after exertion of pressure from inflation of a sphygmomanometer on the upper arm. Muscle power, bulk, tone, and deep-tendon reflexes were normal, as was the remainder of the examination. The blood calcium level was 5.6 mg per deciliter (1.40 mmol per liter), the ionized calcium level 0.88 mmol per liter (reference range, 1.14 to 1.30), and the alkaline phosphatase level 673 U per liter (reference range, 142 to 335). The patient was admitted to the pediatric intensive care unit.\\n\\nQuestion: What is the most likely final diagnosis?\\n\\nAnswer:\""
            ],
            "application/vnd.google.colaboratory.intrinsic+json": {
              "type": "string"
            }
          },
          "metadata": {},
          "execution_count": 8
        }
      ]
    },
    {
      "cell_type": "code",
      "source": [
        "prompts_zeroshot[4]"
      ],
      "metadata": {
        "colab": {
          "base_uri": "https://localhost:8080/",
          "height": 191
        },
        "id": "5v80OtlXsSYP",
        "outputId": "f6f3eaea-449e-4c8a-ceac-d380715fba9c"
      },
      "execution_count": null,
      "outputs": [
        {
          "output_type": "execute_result",
          "data": {
            "text/plain": [
              "'Patient Presentation:\\nA 48-year-old man was evaluated at this hospital because of transient vision loss. The patient had been in his usual state of good health until 1 hour before evaluation, when he noticed white sparkles flickering in the vision of the left eye, followed by sudden blurriness. He had no floaters or eye pain. During the next 2 minutes, the blurry vision worsened and became dark, such that the patient could not see a hand in front of his face when he covered the right eye. He presented to this hospital for evaluation, arriving 1 hour after the onset of vision symptoms.On presentation, the patient noted that the vision in the left eye was improving but remained blurry. The temperature was 36.7 degrees Celcius, the blood pressure 120/65 mm Hg, the heart rate 92 beats per minute, and the body-mass index (the weight in kilograms divided by the square of the height in meters) 24.2. Visual acuity was 20/20 in the right eye and was limited to hand motions at 0.9 m (3.0 ft) in the left eye; 2 hours later, visual acuity in the left eye was 20/40 for distance vision and 20/30 with correction for near vision. Results of the Ishihara color test were normal. The pupils were equal, round, and reactive to light, with no relative afferent pupillary defect. Extraocular movements were intact; visual fields were full in response to confrontation. Intraocular pressure and results of a slit-lamp examination of the anterior and posterior segments of the eye were normal bilaterally. There was severe ptosis of the left upper eyelid (margin reflex distance, 4 mm in the right eye and 1 mm in the left eye). A dilated fundus examination revealed normal optic disks, maculae, and vessels. A nontender, irregular mass was palpable under the left superior orbital rim, but there was no proptosis. The temporal arteries were prominent bilaterally, more so on the right side than on the left side, with normal pulsations and no tenderness. There was no tenderness of the scalp or temporomandibular joints. The remainder of the physical examination was normal. A review of systems was notable for fatigue and weight loss of 4.5 kg in the past year, which the patient attributed to inactivity and decreased appetite. There was a 2-month history of bilateral jaw pain with chewing of firm foods but not with soft foods. There was lateral hip soreness in both hips after walking but no stiffness. There was a sensation of locking when flexing or extending the right first finger. Two days before evaluation, the patient had a temporal headache on the right side that resolved. He reported no numbness or weakness.The patient had a history of presbyopia. He had not undergone any surgeries, was not currently taking any medications, and had no known allergies. He was born and raised in a country in Eurasia and had lived in the United States for 20 years. He traveled internationally for his work as a university professor. He was divorced and lived with his two children in a house in New England. He had smoked a half pack of cigarettes for 5 years but had quit smoking 20 years earlier. He drank alcohol rarely and did not use illicit drugs. His parents were alive and well, both of his grandmothers had had breast cancer, and there was no family history of ocular or autoimmune disease. Laboratory evaluation revealed normocytic anemia and elevated levels of alanine aminotransferase, aspartate aminotransferase, and alkaline phosphatase. Results of tests of kidney and thyroid function were normal, as were blood levels of electrolytes, calcium, glucose, glycated hemoglobin, creatine kinase, homocysteine, and lipoprotein(a). Testing for antinuclear antibodies was negative, and levels of IgG subclasses were normal. Other laboratory test results are shown in Table 1. Aspirin was administered, along with empirical treatment with intravenous methylprednisolone, and the patient was admitted to the hospital. Magnetic resonance imaging (MRI) of the head and orbits, performed before and after the administration of intravenous contrast material, revealed enlargement of the right medial rectus muscle with stranding of the adjacent extraconal fat, as well as an enhancing masslike lesion in the left anterior superior orbit, abutting the left lacrimal gland. The masslike lesion showed a hypointense signal on short-tau inversion recovery imaging. The brain parenchyma was normal. Magnetic resonance angiography of the head and neck was normal, as was ultrasonography of the temporal arteries. Ultrasonography of the abdomen revealed markedly heterogeneous liver parenchyma and an enlarged periportal lymph node, measuring 2 cm in largest dimension. Computed tomography (CT) of the chest, abdomen, and pelvis, performed after the administration of intravenous contrast material, revealed multiple punctate calcifications throughout the liver and hypoattenuation of the right hepatic lobe, as well as diffuse coalescent mesenteric and retroperitoneal lymphadenopathy with coarse calcifications. There was a prominent right hilar lymph node, measuring 10 mm in diameter. The lung parenchyma was unremarkable. On the second hospital day, diplopia occurred when the patient looked to the far right. On examination, there was mild limitation of abduction of the right eye. After a second dose of intravenous methylprednisolone was administered, the patient chose to leave the hospital against medical advice. After discharge, he took prednisone daily. During the next week, additional laboratory test results became available. Testing for antineutrophil cytoplasmic antibodies (ANCAs) was negative. Blood testing for blastomyces antigen, coccidioides antibodies, and histoplasma antibodies was negative, as was an interferon-[gamma] release assay for Mycobacterium tuberculosis.\\n\\nQuestion: What is the most likely final diagnosis?\\n\\nAnswer:'"
            ],
            "application/vnd.google.colaboratory.intrinsic+json": {
              "type": "string"
            }
          },
          "metadata": {},
          "execution_count": 9
        }
      ]
    },
    {
      "cell_type": "code",
      "source": [
        "prompts_zeroshot[5]"
      ],
      "metadata": {
        "colab": {
          "base_uri": "https://localhost:8080/",
          "height": 191
        },
        "id": "UhNxhQsdsTWy",
        "outputId": "1e8c9116-c82e-4233-d39f-db62fcf0c4f5"
      },
      "execution_count": null,
      "outputs": [
        {
          "output_type": "execute_result",
          "data": {
            "text/plain": [
              "'Patient Presentation:\\nA 22-year-old man was admitted to this hospital because of pain and rapidly spreading erythema of the left hand. The patient had been well until the day of admission, when he awoke with pain and swelling of the left hand that involved the distal interphalangeal joint of the second finger and the proximal interphalangeal joint of the fourth finger. Over a period of several hours, the pain progressed and bullae began to form. He began to have pain with movement of the second and fourth fingers, and the bullae turned dark purple; these changes prompted the patient to present to the emergency department of this hospital. In the emergency department, the patient reported pain of the left hand that worsened with movement of the second and fourth fingers. There was no lethargy, fatigue, headache, dyspnea, cough, or pain elsewhere. The patient had no notable medical history and had been well before the day of presentation. On examination, the patient appeared well. The temperature was 38.6 degrees Celcius, the blood pressure 126/63 mm Hg, the heart rate 101 beats per minute, the respiratory rate 18 breaths per minute, and the oxygen saturation 100% while he was breathing ambient air. There were two violaceous, tender bullae on the dorsal aspect of the left hand - one on the distal interphalangeal joint of the second finger and one on the proximal interphalangeal joint of the fourth finger, each measuring 7 mm by 3 mm. In addition, there was nontender, streaking erythema spreading across the dorsal aspect of the left hand, the volar aspect of the left forearm, and the medial aspect of the left upper arm into the axilla. There was no axillary lymphadenopathy. On further examination of the left arm, the soft-tissue compartments were soft and compressible, without evidence of crepitus. Finger flexion and extension were intact but limited by pain and swelling in the second and fourth fingers. Results of motor and sensory examinations were normal. The hand was warm. The radial pulse was palpable, and the capillary refill was brisk. The remainder of the overall physical examination was unremarkable.\\n\\nQuestion: What is the most likely final diagnosis?\\n\\nAnswer:'"
            ],
            "application/vnd.google.colaboratory.intrinsic+json": {
              "type": "string"
            }
          },
          "metadata": {},
          "execution_count": 10
        }
      ]
    },
    {
      "cell_type": "code",
      "source": [
        "prompts_zeroshot[6]"
      ],
      "metadata": {
        "colab": {
          "base_uri": "https://localhost:8080/",
          "height": 191
        },
        "id": "5MriinyVsUDW",
        "outputId": "4952e1cd-849d-4bb8-bfd2-091fa72d94bb"
      },
      "execution_count": null,
      "outputs": [
        {
          "output_type": "execute_result",
          "data": {
            "text/plain": [
              "'Patient Presentation:\\nA 14-year-old boy was admitted to this hospital because of fatigue, fever, joint pain, abdominal cramping, and diarrhea. The patient had been well until 2 weeks before this admission, when fatigue and fever developed on his final day of summer camp. He was taken to the primary care clinic at another hospital and was told that he had a viral infection. Nine days before this admission, new mild sore throat developed, and the patient returned to the primary care clinic. A throat culture for group A beta-hemolytic streptococcus was reportedly negative. The patient was told that he had possible sinusitis, and treatment with amoxicillin-clavulanate was started. During the next 3 days, the sore throat abated, but fatigue and fever persisted. Six days before this admission, new pain in the right shoulder and left knee developed, and the patient again returned to the primary care clinic. The white-cell count and erythrocyte sedimentation rate were reportedly elevated; a blood test for Lyme disease was performed. On the day of admission, the joint pain progressed to involve the shoulders and knees on both sides, and the temperature increased to 39.4 degrees Celcius . The patient was given ibuprofen and brought to the emergency department at this hospital. On evaluation, the patient described aching pain in the shoulders and knees, which was worst in his right shoulder and left knee. He rated the pain at 7 on a scale of 0 to 10, with 10 indicating the most severe pain. He had not noticed redness, swelling, or stiffness of the joints. A review of systems was notable for chills, intermittent night sweats, headache, myalgias, and lightheadedness when he stood up from a sitting position. He had no weight loss, rash, vision changes, or respiratory symptoms. He had mild abdominal cramping, decreased appetite, and intermittent nausea. During the past week, there had been a few episodes of nonbloody emesis and watery diarrhea. There had been no hematemesis, hematochezia, or melena. The patient had autism spectrum disorder, with an early delay in speech development that had resolved after speech therapy. He had met milestones for gross and fine motor skills and growth. He had reportedly received all routine childhood vaccinations. Other history included asthma, seasonal rhinosinusitis, and allergies to peanuts and tree nuts; there were no known drug allergies. He had undergone a tonsillectomy in early childhood. Medications included amoxicillin-clavulanate, inhaled fluticasone, and ibuprofen and inhaled albuterol as needed. At the time of admission, the patient was on his summer break before entering high school. Earlier in the summer, he had gone on vacation to a coastal area of New England. He had also attended camp in a rural area of New England, where he camped and hiked in wooded areas and swam in fresh water. He had seen a tick on his clothing but did not recall any bites. Two weeks before this admission, the patient had returned to his home in a suburban area of New England, where he lived with his mother (who was a veterinarian), father, sister, and pet dog. His sister had recently had an acute gastrointestinal illness that resolved after several days. The patient was not sexually active and did not use alcohol, drugs, or tobacco. His mother had hypothyroidism, and his maternal uncle had rheumatoid arthritis; there was no other known family history of autoimmune diseases. On examination, the temperature was 36.1 degrees Celcius, the blood pressure 128/58 mm Hg, the heart rate 107 beats per minute, the respiratory rate 18 breaths per minute, and the oxygen saturation 97% while the patient was breathing ambient air. The body-mass index (the weight in kilograms divided by the square of the height in meters) was 27.2. The patient appeared to be well developed and well nourished, but he looked tired. The conjunctivae were normal. The mucous membranes were dry, and there was an aphthous ulcer on the right buccal mucosa. The lungs were clear on auscultation. There was tenderness on palpation of the epigastric and periumbilical abdomen. There was no erythema, warmth, swelling, or crepitus of the large and small joints. There was tenderness on palpation, as well as pain with movement, of the right shoulder and knees; range of motion in these joints was not decreased. The patient had no rash or lymphadenopathy. The white-cell count was 12,950 per microliter (reference range, 4500 to 13,000), the erythrocyte sedimentation rate 48 mm per hour (reference range, 0 to 13), the C-reactive protein level 207.6 mg per liter (reference range, 0.0 to 8.0), and the lipase level 82 U per liter (reference range, 13 to 60). While the patient was in the emergency department, the temperature increased to 39.2 degrees Celcius. Intravenous fluids were administered, and empirical treatment with doxycycline was started. The patient was admitted to the hospital. During the next 2 days, the fever resolved, but the joint pain, abdominal cramping, and diarrhea worsened in severity. On the third hospital day, fever recurred. The white-cell count was 15,190 per microliter, the C-reactive protein level 178.3 mg per liter, and the lipase level 145 U per liter. A fecal occult blood test was positive. A plain film of the right shoulder was normal.\\n\\nQuestion: What is the most likely final diagnosis?\\n\\nAnswer:'"
            ],
            "application/vnd.google.colaboratory.intrinsic+json": {
              "type": "string"
            }
          },
          "metadata": {},
          "execution_count": 11
        }
      ]
    },
    {
      "cell_type": "code",
      "source": [
        "prompts_zeroshot[7]"
      ],
      "metadata": {
        "colab": {
          "base_uri": "https://localhost:8080/",
          "height": 191
        },
        "id": "xigyC4A0sVGA",
        "outputId": "98d14506-4326-4c03-81bf-6c150f4af334"
      },
      "execution_count": null,
      "outputs": [
        {
          "output_type": "execute_result",
          "data": {
            "text/plain": [
              "\"Patient Presentation:\\nA 57-year-old man was evaluated at this hospital because of persistent cough and pulmonary opacities. Six years before the current admission, the patient received a diagnosis of polyarteritis nodosa after fevers, arthralgias, abdominal pain, and testicular pain had developed. He was treated with six cycles of cyclophosphamide, followed by maintenance therapy with prednisone and weekly methotrexate. He was treated intermittently with escalating doses of prednisone because of episodic worsening of the arthralgias; the most recent such treatment was given 5 months before the current admission. At that time, owing to an exacerbation of pain associated with the arthralgias and at the direction of his physician, he increased the amount of oxycodone he had been taking. He also reported fever and weight loss. Imaging studies were obtained. Five months before the current admission, computed tomography (CT) of the chest, abdomen, and pelvis was performed after the administration of intravenous contrast material. Chest CT revealed mild centrilobular emphysema and small pulmonary nodules that appeared unchanged from those seen on imaging that had been performed 6 years earlier. There was also diffuse thickening of the bronchial wall, layering secretions in the trachea and right main-stem bronchus, a mildly patulous esophagus, and a small hiatal hernia. There were no clinically significant findings on imaging of the abdomen or pelvis. A test for Mycobacterium tuberculosis was negative. Serum protein electrophoresis results were normal, as was the IgG level. Three months before the current admission, the patient had fevers and a cough productive of green sputum. The temperature was 37.3 degrees Celcius  and the oxygen saturation 89% while he was breathing ambient air. Thrush was present in the oropharynx. Auscultation of the chest revealed crackles and wheezing in the right lung. Blood levels of electrolytes, lipase, amylase, lactate dehydrogenase, and troponin T were normal, as were the results of liver-function and kidney-function tests; other laboratory test results are shown in Table 1. A chest radiograph showed patchy and confluent opacities predominantly in the right mid and lower lung. The patient was admitted to this hospital, and empirical treatment with intravenous vancomycin, cefepime, and levofloxacin was administered. A blood test for cryptococcal antigen and a urine test for legionella antigen were negative. A sputum culture grew normal respiratory flora and Candida albicans; a test for Pneumocystis jirovecii was negative. During the next several days, fever resolved and the oxygen saturation and white-cell count normalized. On the fifth hospital day, the patient was discharged home to complete a 14-day course of levofloxacin. After he completed the course of levofloxacin, his cough and constitutional symptoms abated partially but did not return to baseline. His primary care physician prescribed inhaled fluticasone-salmeterol and as-needed inhaled albuterol. Six weeks after the patient was discharged from this hospital (approximately 5 weeks before the current admission), his wife began to have a nonproductive cough and rhinorrhea; several days later, the patient had similar symptoms, along with increased production of brown sputum. He sought medical attention after awakening with coughing and dyspnea. The temperature was 38.4 degrees Celcius  and the oxygen saturation 89% while he was breathing ambient air. A chest radiograph obtained 1 month before the current admission showed patchy opacities in the right upper, middle, and lower lobes. Electrolyte levels were normal, as were the results of liver-function and kidney-function tests. The patient was again admitted to this hospital, and empirical treatment with intravenous vancomycin, cefepime, and azithromycin; oral prednisone; and inhaled albuterol and ipratropium was administered. A sputum culture grew normal respiratory flora and C. albicans. After two days, the patient was discharged home to complete a 7-day course of levofloxacin. Over the course of the next 3 weeks, the patient had malaise, productive cough, fever, and sweats. He stopped smoking cigarettes. Eight days before the current admission, the patient was referred to the emergency department of this hospital for evaluation. On examination, the temperature was 37.2 degrees Celcius  and the oxygen saturation 94% while he was breathing ambient air. There were crackles in both lung bases and in the right middle lung field, with no wheezes. Blood levels of electrolytes and lactate dehydrogenase were normal, as were the results of liver-function and kidney-function tests and urinalysis. A chest radiograph showed multifocal reticulonodular and patchy opacities, which were confluent in the right lower lobe. CT of the chest, performed without the administration of intravenous contrast material, revealed multifocal clustered, centrilobular nodules and opacities in a tree-in-bud pattern with scattered areas of focal consolidation that were present predominantly in the right middle and lower lobes. There was associated mild mediastinal and right hilar lymphadenopathy that had not been present on the previous chest CT examination. The patient was again admitted to this hospital, and additional testing was performed. Tests for antineutrophil cytoplasmic antibodies and anti-double-stranded DNA antibodies were negative, and blood levels of C3 and C4 were normal. A urine test for legionella antigen was negative. On the third hospital day, a bronchoscopy and a transbronchial biopsy were performed. The bronchoalveolar-lavage (BAL) fluid obtained from the right middle lobe was cloudy; analysis of the fluid revealed 888 nucleated cells per microliter (of which 48% were neutrophils and 2% were lymphocytes, with no eosinophils). Gram's staining of the BAL fluid revealed neutrophils and sparse growth of gram-positive cocci. Staining for acid-fast organisms was negative; culture grew normal respiratory flora and C. albicans. Tests of the BAL fluid for influenza virus, adenovirus, parainfluenza virus, respiratory syncytial virus, human metapneumovirus, P. jirovecii, histoplasma antigen, and blastomyces antigen were negative, as were cultures for cytomegalovirus and herpes simplex virus. An interferon-[gamma] release assay for M. tuberculosis was also negative. The patient was discharged home on the third hospital day, with follow-up scheduled in the pulmonary clinic for 3 weeks later. Four days after the patient was discharged, a BAL test for galactomannan returned a positive result (antigen index, >=3.750; negative test, <0.5), and the patient was readmitted to this hospital. He reported ongoing dyspnea, cough with thick white sputum, and persistent fever with a temperature of up to 39.3 degrees Celcius . A review of systems was notable for diffuse chronic arthralgias, a bitter taste in the mouth, and intermittent dysphagia. There was no chest pain, edema, orthopnea, nausea, vomiting, jaundice, or rash, and he had no known current sick contacts. The weight was 5 kg lower than that recorded 1 year earlier. Medical history was notable for polyarteritis nodosa, deep venous thrombosis, gastroesophageal reflux disease (GERD), pancreatitis in the context of choledocholithiasis, hypertension, dyslipidemia, diabetes mellitus, osteopenia, and chronic neuropathic pain. Medications included aspirin, prednisone, methotrexate, trimethoprim-sulfamethoxazole, folate supplementation, metformin, atenolol, simvastatin, pregabalin, and as-needed oxycodone, as well as inhaled fluticasone-salmeterol and albuterol as needed. Lisinopril had reportedly caused pancreatic inflammation; there were no other known adverse reactions to medications. The patient was of White European ancestry. He lived in New England with his wife and was retired from an office position. Three decades earlier, he had worked in a machine shop where solvents, fuels, and sulfur compounds were used but had had no known exposure to these agents. There was no history of exposure to mold, pets, or asbestos. He had received influenza and pneumococcal vaccines. He and his wife had traveled within the United States and to the Caribbean. He had smoked 1.5 packs of cigarettes per day for 30 years but had quit in the weeks before the current admission. He had previously smoked marijuana, rarely consumed alcohol, and never used other substances. There was no family history of autoimmune or pulmonary disease; his father had died from colorectal cancer, and his mother had had esophageal cancer and had died after a stroke. His three adult children were healthy. The temperature was 36.6 degrees Celcius , the heart rate 75 beats per minute, the blood pressure 135/69 mm Hg, the respiratory rate 28 breaths per minute, and the oxygen saturation 91% while the patient was receiving supplemental oxygen through a nasal cannula at a rate of 6 liters per minute. He had a slightly cushingoid appearance and was tachypneic, although he was able to speak in full sentences. Auscultation of the chest revealed rales at the right lung base, rhonchi during both the inspiratory and expiratory phases that were more pronounced in the right lung than in the left lung, and intermittent inspiratory wheezing in the right lung. The rest of the examination was normal. A chest radiograph showed progression of the diffuse bilateral reticulonodular opacities, with additional patchy opacities in the right lung and left lower lobe, as compared with the image obtained 1 week earlier. Blood levels of electrolytes, amylase, lipase, N-terminal pro-B-type natriuretic peptide, and troponin T were normal, as were the results of tests of kidney and liver function; other laboratory test results are shown in Table 1. Urinalysis was normal, and a urine test for legionella antigen was negative. The BAL-fluid culture obtained during the previous admission grew enterococcus species, C. albicans, and C. glabrata; no mycobacteria grew in any of three induced sputum samples obtained during the previous admission. Empirical treatment with intravenous voriconazole was initiated, and ongoing treatment with methotrexate was interrupted. Cytologic analysis of the BAL fluid and the transbronchial-biopsy specimen obtained during the previous admission revealed evidence of acute inflammation, bronchial columnar cells, and pulmonary macrophages. There were no malignant cells. Evaluation of the bronchial mucosa revealed no abnormalities. On the second hospital day, the temperature was 37.9 degrees Celcius  and the oxygen saturation 91% while the patient was receiving supplemental oxygen through a nasal cannula at a rate of 5 liters per minute. Repeat CT of the chest was performed after the administration of intravenous contrast material as part of a pulmonary embolism protocol. This imaging study revealed extensive centrilobular pulmonary nodules, opacities in a tree-in-bud pattern, and patchy ground-glass opacities. There was bronchial wall thickening with mucus plugging, predominantly affecting the lower lobes. There were additional areas of nodular consolidation that were more prominent in the right lung than in the left lung. These findings indicated a progression of disease as compared with the chest CT performed 1 week before the current admission. There was no evidence of pulmonary embolism. Additional induced sputum samples were obtained for culture; Gram's staining revealed abundant neutrophils and abundant mixed gram-positive and gram-negative organisms. On the third hospital day, the temperature was 36.9 degrees Celcius  and the oxygen saturation 96% while the patient was receiving supplemental oxygen through a nasal cannula at a rate of 3 liters per minute.\\n\\nQuestion: What is the most likely final diagnosis?\\n\\nAnswer:\""
            ],
            "application/vnd.google.colaboratory.intrinsic+json": {
              "type": "string"
            }
          },
          "metadata": {},
          "execution_count": 12
        }
      ]
    },
    {
      "cell_type": "code",
      "source": [
        "prompts_zeroshot[8]"
      ],
      "metadata": {
        "colab": {
          "base_uri": "https://localhost:8080/",
          "height": 191
        },
        "id": "SSbEzZW8sWNs",
        "outputId": "73fe2e5f-8abd-4fa4-90fe-aa7487b31470"
      },
      "execution_count": null,
      "outputs": [
        {
          "output_type": "execute_result",
          "data": {
            "text/plain": [
              "'Patient Presentation:\\nA 17-year-old girl was admitted to this hospital during the coronavirus disease 2019 (Covid-19) pandemic because of fever and cough. The patient had been well until 10 days before admission, when fever and cough that was productive of clear sputum developed. She also had fatigue, eye redness, sore throat, nasal congestion, rhinorrhea, and myalgias. Seven days before this admission, the patient was evaluated in the urgent care clinic of another hospital. On examination, there was conjunctival injection in both eyes. The lungs were clear on auscultation, and the remainder of the physical examination was reportedly normal. Testing of a nasopharyngeal specimen for severe acute respiratory syndrome coronavirus 2 (SARS-CoV-2) RNA was negative. Treatment with acetaminophen and dextromethorphan was recommended. During the next 2 days, the fever decreased but did not resolve with the use of acetaminophen. New mild chest discomfort occurred with coughing. An expectorated sputum specimen contained flecks of blood, and the patient returned to the urgent care clinic. The physical examination was unchanged, and rapid antigen testing for influenza types A and B was negative. Additional treatment with ibuprofen, benzonatate, and guaifenesin was recommended. Three days before this admission, the patient had persistent symptoms and was unable to sleep because of the fever and cough. New shortness of breath developed. She was evaluated by a primary care physician at the other hospital in a telehealth visit. Empirical treatment with amoxicillin was started, and close monitoring was recommended. During the next 3 days, the shortness of breath increased in severity, and the patient was instructed to present to the emergency department of this hospital. On evaluation, the patient reported cough that was worse with exertion and deep breathing, improved with rest, and was associated with pain in the chest and back on the left side. The sputum had streaks of bright red blood. Other symptoms included fatigue, sore throat, nasal congestion, rhinorrhea, myalgias, and pain in both knees when walking. The eye redness had resolved, but there was mild soreness of the right eye. There was no headache, ear pain, difficulty swallowing, abdominal pain, nausea, vomiting, diarrhea, or rash. The patient had a history of developmental dysplasia of the hip and was otherwise healthy. She had normal growth and development and had received all routine childhood vaccinations. Medications included amoxicillin, acetaminophen, ibuprofen, benzonatate, guaifenesin, and dextromethorphan. There were no known drug allergies. The patient was born in New England and lived in a suburban area of New England with her mother, father, and brother. She performed well in high school, which she was attending remotely because of the Covid-19 pandemic; she had no known sick contacts. She had traveled to a Caribbean island 1 year earlier. She was a vegetarian and did not drink alcohol, smoke tobacco, or use illicit drugs. Her parents and brother were healthy. On examination, the temperature was 38.5 degrees Celcius , the heart rate 124 beats per minute, the blood pressure 142/62 mm Hg, the respiratory rate 30 breaths per minute, and the oxygen saturation 97% while the patient was breathing ambient air. The body-mass index (the weight in kilograms divided by the square of the height in meters) was 35.9. The patient appeared pale, and she coughed and sniffled frequently. She did not use accessory muscles while breathing, and breath sounds in the lower lung fields were decreased. There was no conjunctival injection, lymphadenopathy, joint swelling or tenderness, or rash; the remainder of the physical examination was normal. The creatinine level was 2.00 mg per deciliter (177 [mu]mol per liter; reference range, 0.60 to 1.50 mg per deciliter [53 to 133 [mu]mol per liter]) and the C-reactive protein level 77.5 mg per liter (reference value, <8.0). The hemoglobin level was 6.7 g per deciliter (reference range, 12.0 to 16.0), the hematocrit 21.1% (reference range, 36.0 to 46.0), the white-cell count 11,890 per microliter (reference range, 4500 to 13,000), and the platelet count 526,000 per microliter (reference range, 150,000 to 450,000). Urinalysis revealed 3+ blood and 2+ protein; microscopic examination of the urinary sediment revealed more than 100 red cells per high-power field (reference range, 0 to 2) and 10 to 20 white cells per high-power field (reference value, <10), as well as mixed granular casts and red-cell casts. Nucleic acid testing of a nasopharyngeal specimen for SARS-CoV-2, influenza types A and B, and respiratory syncytial virus was negative. An interferon-[gamma] release assay for Mycobacterium tuberculosis was performed, and blood cultures were obtained. Chest radiography revealed prominent patchy opacities in the lower lung zones. Computed tomography (CT) of the chest, performed without the administration of intravenous contrast material, revealed peripheral patchy ground-glass opacification with greater involvement of the lower lobes than of the upper lobes, the lingula (left lung), and the middle lobe (right lung). There were also areas of normal-appearing lung. These findings are not specific and can be seen with infectious causes such as bacterial pneumonia and Covid-19, as well as with noninfectious causes such as aspiration, pulmonary hemorrhage, and less likely, alveolar proteinosis. Ceftriaxone, azithromycin, and intravenous fluids were administered.\\n\\nQuestion: What is the most likely final diagnosis?\\n\\nAnswer:'"
            ],
            "application/vnd.google.colaboratory.intrinsic+json": {
              "type": "string"
            }
          },
          "metadata": {},
          "execution_count": 13
        }
      ]
    },
    {
      "cell_type": "code",
      "source": [
        "prompts_zeroshot[9]"
      ],
      "metadata": {
        "colab": {
          "base_uri": "https://localhost:8080/",
          "height": 191
        },
        "id": "XKDJsixTsXKn",
        "outputId": "23ef98a5-cd49-4825-91fb-9ec31237aacb"
      },
      "execution_count": null,
      "outputs": [
        {
          "output_type": "execute_result",
          "data": {
            "text/plain": [
              "\"Patient Presentation:\\nAn 11-year-old girl was evaluated in the rheumatology clinic of this hospital because of redness of the eyes. The patient had been well until 8 weeks before the current evaluation, when she noticed mild eye redness, which was worse in the right eye than in the left eye. There was intermittent swelling of the eyelids but no photophobia, itching, pain, tearing, or discharge. The patient's parents administered naphazoline hydrochloride and glycerin eye drops, but the eye redness did not abate. When the eye redness had persisted for 2 weeks, the patient was taken to the pediatrics clinic of another hospital. She was given a 7-day course of an oral antibiotic agent as empirical treatment for possible preseptal cellulitis. Five weeks before the current evaluation, the eye redness persisted despite treatment, and the patient was referred to the ophthalmology clinic of the other hospital. The blood pressure was not measured during this evaluation. The visual acuity with correction was 20/20 in the right eye and 20/25 in the left eye. The pupils were symmetric and reactive to light, with no relative afferent pupillary defect. Slit-lamp examination revealed abundant white cells in the anterior chamber of both eyes, with a greater amount in the right eye than in the left eye. There were also keratic precipitates, posterior synechiae, and rare iris nodules in the right eye. Funduscopic examination was notable for optic-disk swelling and peripheral retinal hemorrhages in both eyes, as well as perivascular exudates in the right eye. Cyclopentolate eye drops in the right eye and prednisolone eye drops in both eyes were prescribed. During the subsequent 3 weeks, additional tests were performed in the pediatrics clinic of the other hospital. Screening blood tests for human immunodeficiency virus (HIV) types 1 and 2, syphilis, and Lyme disease were negative. An interferon-[gamma] release assay for Mycobacterium tuberculosis was indeterminate. Other laboratory test results are shown in Table 1. Radiography of the chest revealed hilar fullness. Computed tomography (CT) of the chest and abdomen, performed after the administration of intravenous contrast material, showed a normal-appearing thymus. However, diffuse lymphadenopathy was detected in the mediastinum, upper abdomen, and axillae, with the largest lymph node measuring 2.0 cm by 1.3 cm by 1.8 cm. Two weeks before the current evaluation, the patient was asked to present to the emergency department of the other hospital for an expedited workup. On evaluation, she described eye redness that had persisted but decreased in severity. She reported no fever, weight loss, night sweats, rash, headache, cough, shortness of breath, or joint pain. On examination, the temperature was 37.0 degrees Celcius , the blood pressure 96/61 mm Hg, the heart rate 95 beats per minute, the respiratory rate 20 breaths per minute, and the oxygen saturation 100% while she was breathing ambient air. The body-mass index (the weight in kilograms divided by the square of the height in meters) was 18.3. The patient appeared well, with no oral lesions or rash. The visual acuity was unchanged. Slit-lamp examination revealed keratic precipitates and white cells in the anterior chamber of both eyes, with a greater amount in the right eye than in the left eye. There were extensive posterior synechiae in the right eye. Funduscopic examination showed vitreous white cells, optic-disk swelling, perivascular exudates, peripheral retinal hemorrhages, and cotton-wool spots in both eyes. The lungs were clear on auscultation. Urinalysis was normal. Other laboratory test results are shown in Table 1. Methylprednisolone was administered, and the patient was admitted to the other hospital. During the next 4 days, additional tests were performed, and sputum specimens were obtained for an acid-fast bacilli smear and culture. Optical coherence tomography revealed optic-disk swelling but no cystoid macular swelling. Fluorescein angiography revealed optic-disk leakage with areas of peripheral retinal nonperfusion and some vessel leakage. Dr. Figueiro Longo: Magnetic resonance imaging (MRI) of the head, performed before and after the administration of intravenous contrast material, showed protrusion and enhancement of the optic disks and enhancement of the irises, a finding consistent with the clinical diagnosis of uveitis. There was no evidence of optic neuritis or perineuritis. The administration of cyclopentolate eye drops in the right eye and prednisolone eye drops in both eyes was continued. Treatment with oral prednisone was started, and a regimen of rifampin, isoniazid, ethambutol, and pyrazinamide was begun as empirical treatment for possible tuberculosis. On the fifth hospital day, the patient was discharged home. She was instructed to follow up in the ophthalmology clinic of the other hospital and was referred to the rheumatology clinic of this hospital. In the rheumatology clinic, additional history was obtained. The patient had had normal growth and development and was currently in middle school. She had received all routine childhood vaccinations. She had emigrated from West Africa to the United States 6 years earlier; since then, she had lived with her mother and father in a suburban town in New England and had not traveled outside the region. Six months before this evaluation, an interferon-[gamma] release assay for M. tuberculosis had been positive. At that time, the patient had received a prescription for a medication to treat latent tuberculosis infection; however, the patient's parents could not recall giving the medication to the patient. She was taking the prescribed cyclopentolate and prednisolone eye drops, oral prednisone, and regimen of rifampin, isoniazid, ethambutol, and pyrazinamide. There were no known drug allergies. The patient's parents were healthy.\\n\\nQuestion: What is the most likely final diagnosis?\\n\\nAnswer:\""
            ],
            "application/vnd.google.colaboratory.intrinsic+json": {
              "type": "string"
            }
          },
          "metadata": {},
          "execution_count": 14
        }
      ]
    },
    {
      "cell_type": "code",
      "execution_count": null,
      "metadata": {
        "colab": {
          "base_uri": "https://localhost:8080/"
        },
        "id": "4xRS0MihjloN",
        "outputId": "f0184072-828c-4f69-d9aa-05cacc2c1f19"
      },
      "outputs": [
        {
          "output_type": "stream",
          "name": "stderr",
          "text": [
            "[nltk_data] Downloading package punkt to /root/nltk_data...\n",
            "[nltk_data]   Unzipping tokenizers/punkt.zip.\n"
          ]
        },
        {
          "output_type": "execute_result",
          "data": {
            "text/plain": [
              "True"
            ]
          },
          "metadata": {},
          "execution_count": 15
        }
      ],
      "source": [
        "\n",
        "import json\n",
        "import torch\n",
        "from transformers import AutoTokenizer, AutoModelForCausalLM\n",
        "from nltk.translate.bleu_score import sentence_bleu, SmoothingFunction\n",
        "import nltk\n",
        "from bert_score import score as bert_score\n",
        "\n",
        "nltk.download('punkt')"
      ]
    },
    {
      "cell_type": "code",
      "execution_count": null,
      "metadata": {
        "id": "JKhlJBgbJri7"
      },
      "outputs": [],
      "source": [
        "def diagnosis_coverage(prediction, diagnosis):\n",
        "    \"\"\"\n",
        "    Returns the percentage of words from the diagnosis string that appear in the prediction.\n",
        "    \"\"\"\n",
        "    diagnosis_words = diagnosis.lower().split()\n",
        "    prediction_words = prediction.lower()\n",
        "\n",
        "    hits = sum(word in prediction_words for word in diagnosis_words)\n",
        "    return hits / len(diagnosis_words) if diagnosis_words else 0\n",
        "\n",
        "\n",
        "from nltk.translate.bleu_score import sentence_bleu, SmoothingFunction\n",
        "def compute_bleu(reference, prediction):\n",
        "    smoothie = SmoothingFunction().method4\n",
        "    ref_tokens = [reference.lower().split()]\n",
        "    pred_tokens = prediction.lower().split()\n",
        "    return sentence_bleu(ref_tokens, pred_tokens, smoothing_function=smoothie)\n",
        "\n",
        "from bert_score import score as compute_bertscore\n"
      ]
    },
    {
      "cell_type": "code",
      "source": [
        "# Initialize empty list\n",
        "predictions_llama4 = []\n"
      ],
      "metadata": {
        "id": "QsQLQiGYtlP8"
      },
      "execution_count": null,
      "outputs": []
    },
    {
      "cell_type": "code",
      "source": [
        "prediction0 = (\n",
        "    \"Given the patient's history of malignant melanoma treated with pembrolizumab and the new findings on chest imaging, \"\n",
        "    \"including patchy consolidation, lymphadenopathy, and scattered solid pulmonary nodules with ground-glass halos, the most likely final diagnosis is: \"\n",
        "    \"Checkpoint inhibitor pneumonitis secondary to pembrolizumab therapy. \"\n",
        "    \"This diagnosis is supported by the temporal relationship between the initiation of pembrolizumab therapy and the development of new pulmonary findings, \"\n",
        "    \"as well as the patient's asymptomatic presentation, which is consistent with checkpoint inhibitor pneumonitis. \"\n",
        "    \"Other potential diagnoses, such as infection or progression of melanoma, seem less likely given the patient's lack of symptoms and the specific radiographic findings.\"\n",
        ")"
      ],
      "metadata": {
        "id": "1qIa7ct2mkEQ"
      },
      "execution_count": null,
      "outputs": []
    },
    {
      "cell_type": "code",
      "source": [
        "targets_zeroshot[0]"
      ],
      "metadata": {
        "colab": {
          "base_uri": "https://localhost:8080/",
          "height": 35
        },
        "id": "n7aShMqTG--o",
        "outputId": "6e3e0194-a31e-4ac5-b57b-91361897e09d"
      },
      "execution_count": null,
      "outputs": [
        {
          "output_type": "execute_result",
          "data": {
            "text/plain": [
              "'Pulmonary histoplasmosis'"
            ],
            "application/vnd.google.colaboratory.intrinsic+json": {
              "type": "string"
            }
          },
          "metadata": {},
          "execution_count": 19
        }
      ]
    },
    {
      "cell_type": "code",
      "source": [
        "prediction1 = (\n",
        "    \"Given the patient's clinical presentation, imaging findings, and laboratory results, the most likely final diagnosis is: \"\n",
        "    \"Primary Central Nervous System Lymphoma (PCNSL) associated with HIV infection. \"\n",
        "    \"This diagnosis is supported by: \"\n",
        "    \"The presence of an enhancing intraaxial lesion in the right inferior cerebellar hemisphere with surrounding vasogenic edema and mass effect on MRI. \"\n",
        "    \"The presence of an enhancing leptomeningeal lesion along the left medial frontal lobe. \"\n",
        "    \"The patient's reactive HIV screening test and low CD4+ T-cell count, indicating immunosuppression. \"\n",
        "    \"The absence of detectable plasma HIV-1 RNA suggests that the patient may be on effective antiretroviral therapy (ART) or have a suppressed viral load, \"\n",
        "    \"but the low CD4+ count indicates ongoing immunosuppression. \"\n",
        "    \"The patient's previous false-positive HIV diagnosis and treatment with ART may be a red herring, but the current laboratory results confirm HIV infection. \"\n",
        "    \"PCNSL is a known complication of HIV/AIDS, particularly in patients with low CD4+ counts.\"\n",
        ")"
      ],
      "metadata": {
        "id": "jCTf7hU3t1rH"
      },
      "execution_count": null,
      "outputs": []
    },
    {
      "cell_type": "code",
      "source": [
        "prediction2 = (\n",
        "    \"Given the patient's complex presentation, including fever, confusion, headache, garbled speech, lymphocytic pleocytosis, and elevated protein level in the CSF, \"\n",
        "    \"along with the findings on MRI and ophthalmologic examination, the most likely final diagnosis is: \"\n",
        "    \"Neurosarcoidosis or another granulomatous disease process affecting the central nervous system, given the patient's family history of sarcoidosis and the clinical and radiographic findings. \"\n",
        "    \"However, other possibilities to consider include: \"\n",
        "    \"Infectious meningoencephalitis (although various tests have ruled out common causes), \"\n",
        "    \"Autoimmune encephalopathy (given the patient's symptoms and CSF findings), \"\n",
        "    \"Lymphoma or another malignancy affecting the CNS (although the PET-CT scan did not show fluorodeoxyglucose avidity). \"\n",
        "    \"Further diagnostic evaluation, including CSF analysis for specific markers and potentially a biopsy, may be necessary to confirm the diagnosis.\"\n",
        ")"
      ],
      "metadata": {
        "id": "_bWTG8tYunlp"
      },
      "execution_count": null,
      "outputs": []
    },
    {
      "cell_type": "code",
      "source": [
        "targets_zeroshot[2]"
      ],
      "metadata": {
        "colab": {
          "base_uri": "https://localhost:8080/",
          "height": 35
        },
        "id": "wZn5gPB8G74O",
        "outputId": "3111efaf-2aaf-4f7b-a984-e1c323bdd01a"
      },
      "execution_count": null,
      "outputs": [
        {
          "output_type": "execute_result",
          "data": {
            "text/plain": [
              "'Borrelia miyamotoi infection'"
            ],
            "application/vnd.google.colaboratory.intrinsic+json": {
              "type": "string"
            }
          },
          "metadata": {},
          "execution_count": 23
        }
      ]
    },
    {
      "cell_type": "code",
      "source": [
        "prediction3 = (\n",
        "    \"Given the patient's presentation with seizure, hypocalcemia, and elevated alkaline phosphatase level, along with the history of limited sun exposure \"\n",
        "    \"(due to living in New England and possibly limited outdoor activities) and a diet that may not have included sufficient vitamin D sources \"\n",
        "    \"(given the mother's vegetarian diet with occasional inclusion of chicken for the patient), the most likely final diagnosis is: \"\n",
        "    \"Vitamin D deficiency rickets. \"\n",
        "    \"This diagnosis is supported by the patient's symptoms, including hypocalcemia, seizures, and possibly the waddling gait and leg deformities noted earlier. \"\n",
        "    \"The elevated alkaline phosphatase level is also consistent with bone turnover seen in rickets. \"\n",
        "    \"The lack of routine childhood vaccinations due to parental refusal might also contribute to a higher risk of nutritional deficiencies if the diet is not well balanced. \"\n",
        "    \"Further testing, including measurement of vitamin D levels and potentially radiographic evaluation of bone health, would be necessary to confirm this diagnosis.\"\n",
        ")"
      ],
      "metadata": {
        "id": "EwzTggsruz3g"
      },
      "execution_count": null,
      "outputs": []
    },
    {
      "cell_type": "code",
      "source": [
        "prediction4 = (\n",
        "    \"Given the patient's complex presentation, including transient vision loss, ptosis, orbital mass, and systemic symptoms such as fatigue, weight loss, and lymphadenopathy, \"\n",
        "    \"along with laboratory findings of elevated liver enzymes and alkaline phosphatase, the most likely final diagnosis is: \"\n",
        "    \"Sarcoidosis. \"\n",
        "    \"This diagnosis is supported by the presence of: \"\n",
        "    \"Orbital involvement (masslike lesion in the left anterior superior orbit), \"\n",
        "    \"Systemic symptoms (fatigue, weight loss), \"\n",
        "    \"Lymphadenopathy (diffuse coalescent mesenteric and retroperitoneal lymphadenopathy with coarse calcifications), \"\n",
        "    \"Elevated liver enzymes and alkaline phosphatase, \"\n",
        "    \"Negative tests for other potential causes (infections, ANCA-associated vasculitis). \"\n",
        "    \"The patient's clinical and radiographic findings are consistent with sarcoidosis, a systemic granulomatous disease that can affect multiple organs, including the eyes, lungs, lymph nodes, and liver.\"\n",
        ")"
      ],
      "metadata": {
        "id": "Mku6VZvrvWQV"
      },
      "execution_count": null,
      "outputs": []
    },
    {
      "cell_type": "code",
      "source": [
        "prediction5 = (\n",
        "    \"Given the patient's presentation with rapidly spreading erythema, violaceous bullae, and pain in the left hand, the most likely final diagnosis is: \"\n",
        "    \"Necrotizing soft tissue infection, likely caused by Streptococcus pyogenes (Group A streptococcus) or Staphylococcus aureus. \"\n",
        "    \"However, the absence of crepitus and the soft, compressible soft-tissue compartments make gas gangrene less likely. \"\n",
        "    \"The presence of violaceous bullae and rapidly spreading erythema suggests a severe infection that requires prompt treatment, including antibiotics and possibly surgical debridement. \"\n",
        "    \"Other possible diagnoses to consider include: \"\n",
        "    \"Cellulitis with lymphangitis (given the streaking erythema), \"\n",
        "    \"Pyomyositis or abscess formation (although crepitus and fluctuance are not mentioned). \"\n",
        "    \"Further evaluation, including blood cultures, imaging studies (e.g., ultrasound or MRI), and possibly surgical exploration, would be necessary to confirm the diagnosis and guide treatment.\"\n",
        ")"
      ],
      "metadata": {
        "id": "kI8XQqt1vi5H"
      },
      "execution_count": null,
      "outputs": []
    },
    {
      "cell_type": "code",
      "source": [
        "prediction6 = (\n",
        "    \"Given the patient's complex presentation, including fever, joint pain, abdominal cramping, diarrhea, and elevated inflammatory markers, the most likely final diagnosis is: \"\n",
        "    \"Lyme disease or another tick-borne illness, given the patient's exposure to ticks and symptoms consistent with Lyme arthritis or an inflammatory response. \"\n",
        "    \"However, other possible diagnoses to consider include: \"\n",
        "    \"Reactive arthritis, \"\n",
        "    \"Inflammatory bowel disease (IBD), \"\n",
        "    \"Henoch-Schönlein purpura (HSP), \"\n",
        "    \"Acute rheumatic fever. \"\n",
        "    \"The patient's symptoms and laboratory findings, including elevated inflammatory markers and joint pain, suggest an inflammatory or infectious process. \"\n",
        "    \"Further evaluation, including serologic testing for Lyme disease and other tick-borne illnesses, gastrointestinal evaluation, and potentially joint aspiration or biopsy, would be necessary to confirm the diagnosis and guide treatment.\"\n",
        ")"
      ],
      "metadata": {
        "id": "YSdTmHz0vvq5"
      },
      "execution_count": null,
      "outputs": []
    },
    {
      "cell_type": "code",
      "source": [
        "prediction7 = (\n",
        "    \"Given the patient's complex presentation, including persistent cough, pulmonary opacities, and a history of immunosuppression due to polyarteritis nodosa treatment, \"\n",
        "    \"the most likely final diagnosis is: Invasive aspergillosis or another fungal infection, given the positive BAL test for galactomannan and the patient's clinical presentation. \"\n",
        "    \"The patient's symptoms, laboratory findings, and radiographic results, including the presence of centrilobular nodules and tree-in-bud opacities on CT, are consistent with a fungal infection. \"\n",
        "    \"The positive galactomannan test supports this diagnosis. Other possible diagnoses to consider include: \"\n",
        "    \"Other opportunistic infections (e.g., Pneumocystis jirovecii pneumonia, although testing was previously negative), \"\n",
        "    \"Bacterial infections (although multiple cultures have grown mixed flora or normal respiratory flora), \"\n",
        "    \"Lymphoproliferative disorder or malignancy (although cytologic analysis of BAL fluid and transbronchial biopsy showed no malignant cells). \"\n",
        "    \"Further evaluation, including repeat cultures, histopathological examination of tissue samples, and monitoring of response to antifungal therapy, would be necessary to confirm the diagnosis and guide treatment.\"\n",
        ")"
      ],
      "metadata": {
        "id": "rUV0ZeOFv8JT"
      },
      "execution_count": null,
      "outputs": []
    },
    {
      "cell_type": "code",
      "source": [
        "prediction8 = (\n",
        "    \"Given the patient's complex presentation, including fever, cough, shortness of breath, and laboratory findings of anemia, thrombocytosis, and kidney involvement \"\n",
        "    \"(elevated creatinine, hematuria, proteinuria, and red-cell casts), the most likely final diagnosis is: \"\n",
        "    \"Anti-glomerular basement membrane (anti-GBM) disease or another autoimmune cause, such as vasculitis (e.g., Goodpasture syndrome), given the pulmonary and renal involvement. \"\n",
        "    \"The patient's symptoms and laboratory findings, including the presence of ground-glass opacities on CT and kidney involvement, suggest a systemic autoimmune process. \"\n",
        "    \"Other possible diagnoses to consider include: \"\n",
        "    \"Infection (although testing for SARS-CoV-2 and other infections has been negative), \"\n",
        "    \"Vasculitis (e.g., granulomatosis with polyangiitis), \"\n",
        "    \"Other autoimmune causes (e.g., systemic lupus erythematosus). \"\n",
        "    \"Further evaluation, including serologic testing for autoimmune antibodies (e.g., anti-GBM, ANCA), would be necessary to confirm the diagnosis and guide treatment.\"\n",
        ")"
      ],
      "metadata": {
        "id": "_JlqbXPrwLEU"
      },
      "execution_count": null,
      "outputs": []
    },
    {
      "cell_type": "code",
      "source": [
        "prediction9 = (\n",
        "    \"Given the patient's complex presentation, including uveitis, lymphadenopathy, and laboratory findings, the most likely final diagnosis is: \"\n",
        "    \"Sarcoidosis. \"\n",
        "    \"The patient's symptoms and findings, including: \"\n",
        "    \"Uveitis (anterior and posterior), \"\n",
        "    \"Lymphadenopathy (diffuse, including mediastinal and axillary), \"\n",
        "    \"Optic disk swelling and retinal findings, \"\n",
        "    \"Indeterminate interferon-gamma release assay (previous positive result may be a red herring), \"\n",
        "    \"are consistent with sarcoidosis, a systemic granulomatous disease that can affect multiple organs, including the eyes, lungs, and lymph nodes. \"\n",
        "    \"Other possible diagnoses to consider: \"\n",
        "    \"Tuberculosis (although empirical treatment is already being administered), \"\n",
        "    \"Other autoimmune or inflammatory conditions (e.g., juvenile idiopathic arthritis). \"\n",
        "    \"Further evaluation, including biopsy of affected tissue (e.g., lymph node) and monitoring of response to treatment, would be necessary to confirm the diagnosis and guide management.\"\n",
        ")"
      ],
      "metadata": {
        "id": "gkvo3GQnCZu5"
      },
      "execution_count": null,
      "outputs": []
    },
    {
      "cell_type": "code",
      "source": [
        "targets_zeroshot[9]"
      ],
      "metadata": {
        "colab": {
          "base_uri": "https://localhost:8080/",
          "height": 35
        },
        "id": "cYe16lV3HjuR",
        "outputId": "2a7c39f6-121b-4413-a6ee-9d1eef24c719"
      },
      "execution_count": null,
      "outputs": [
        {
          "output_type": "execute_result",
          "data": {
            "text/plain": [
              "'Sarcoidosis'"
            ],
            "application/vnd.google.colaboratory.intrinsic+json": {
              "type": "string"
            }
          },
          "metadata": {},
          "execution_count": 37
        }
      ]
    },
    {
      "cell_type": "code",
      "source": [
        "predictions_llama4 = [\n",
        "    prediction0,\n",
        "    prediction1,\n",
        "    prediction2,\n",
        "    prediction3,\n",
        "    prediction4,\n",
        "    prediction5,\n",
        "    prediction6,\n",
        "    prediction7,\n",
        "    prediction8,\n",
        "    prediction9\n",
        "]"
      ],
      "metadata": {
        "id": "mxofz_8mtmgX"
      },
      "execution_count": null,
      "outputs": []
    },
    {
      "cell_type": "code",
      "source": [
        "import pandas as pd\n",
        "\n",
        "# Evaluate\n",
        "diagnosis_coverage_list = []\n",
        "bleu_scores = []\n",
        "bert_precisions = []\n",
        "bert_recalls = []\n",
        "bert_f1s = []\n",
        "\n",
        "for label, pred in zip(targets_zeroshot, predictions_llama4):\n",
        "    diagnosis_coverage_list.append(diagnosis_coverage(pred, label))\n",
        "    bleu_scores.append(compute_bleu(label, pred))\n",
        "\n",
        "    precision, recall, f1 = compute_bertscore([pred], [label], lang=\"en\")\n",
        "\n",
        "    bert_precisions.append(precision.mean().item())\n",
        "    bert_recalls.append(recall.mean().item())\n",
        "    bert_f1s.append(f1.mean().item())\n",
        "\n",
        "results_df = pd.DataFrame({\n",
        "    \"Diagnosis Coverage\": diagnosis_coverage_list,\n",
        "    \"BLEU Score\": bleu_scores,\n",
        "    \"BERT Precision\": bert_precisions,\n",
        "    \"BERT Recall\": bert_recalls,\n",
        "    \"BERTScore (F1)\": bert_f1s\n",
        "})\n",
        "\n",
        "\n",
        "print(results_df)\n",
        "\n",
        "\n",
        "print(\"\\n--- Overall Metrics ---\")\n",
        "print(f\"Diagnosis Coverage Accuracy: {sum(diagnosis_coverage_list) / len(diagnosis_coverage_list):.2%}\")\n",
        "print(f\"Average BLEU Score: {sum(bleu_scores) / len(bleu_scores):.4f}\")\n",
        "print(f\"Average BERT Precision: {sum(bert_precisions) / len(bert_precisions):.4f}\")\n",
        "print(f\"Average BERT Recall: {sum(bert_recalls) / len(bert_recalls):.4f}\")\n",
        "print(f\"Average BERTScore (F1): {sum(bert_f1s) / len(bert_f1s):.4f}\")\n"
      ],
      "metadata": {
        "colab": {
          "base_uri": "https://localhost:8080/",
          "height": 1000,
          "referenced_widgets": [
            "2569e35fb7664983959884d618b7ae3e",
            "d294858d5db3489882ced5709c16c773",
            "918b799666f04798a109a39653e4efdd",
            "cd0d78989d214045bfd4d0ec28b447c0",
            "ca9f3ad1b8994c4eb0cc21b153533b70",
            "d5523c0e755d4c6c9a18f4ecd8947e71",
            "75b96fe6cd334647b724189cc44d2c2c",
            "1c2029c68c5e4a9695d0f599be5bbfc5",
            "8d55394317dd4160bcf583b7a142323e",
            "0d0d4d0f815c42d597a9a60004cfc5f1",
            "8dbac141552844c2b414f8c775555971",
            "1166f9dd46c14678b8741eb2083fc134",
            "44f27ee84532402694f54ea4aadae50d",
            "f0316efeb3a748a0ac6c98d641a9b7eb",
            "f5596ff1e9dc41fcad01ea76799913dc",
            "42e8d1e2c4014878ac3cdbc5e5cda43b",
            "4ebd007ea7094107a9ab7b6e5edacb51",
            "074b2c78df4d453dbde315367c61239b",
            "3633f705723e49d1a3fc66d8032f3d98",
            "bfbfb46b313d4d4e82852c80f19f8e48",
            "4be43974cfb3422c9efc852d7d3e056e",
            "95545ad6e0424ad2a3b0e8781e63ce46",
            "bb36a182ed3e4ef49e5b6f084ddcc07d",
            "8566d401f430401c943f1fbaa5b39d77",
            "ec30ee760b45437ca95eb6edaa759642",
            "7901fe09621642469b0f2929d4d54c9b",
            "34ae9c07d0c34c6ba0b84940d11667cc",
            "38e20118bd3241308e7e7efbe7f11f40",
            "8912b8d123dd416c8ba552eddbb35c35",
            "abc0931849514e9dba43cbcdcd1aa8ab",
            "4b1154110ac644f9a350d253be949f80",
            "0611db665bf44f939fe75af0b1ff7fb7",
            "ebf129ed770e46f0b3d42baa2c1254f0",
            "3c75cb8aec6746ffad1df6375c0956a9",
            "d7f928befa9c4b15bf218868715f4d57",
            "bbab6725b59140c5b3456a4052779312",
            "7a5071d4caf1473ba5b681bbbf800f2b",
            "8ba4aab671b04cb39d3f11c6acd55e14",
            "0c83d769726d4882b484e87939126766",
            "b97d44c153f64fd1aaa1f9b96e7f21ce",
            "1941a92cc7814192945ed384e2cf228a",
            "70e437a128284ae8995b790393b5ae61",
            "aab47f8b8b36494d9c73724a54531cb2",
            "0975f2d7907a482d9e44ce5110a612fe",
            "544b0aeaa3224386b6b5883eed1fd0b4",
            "2636a8ef434945a8875ba829fbe7f70b",
            "2158ef2d634e4007b16669fff8c8b81b",
            "f8f1cd0af227460791229113b8744660",
            "c44c52d3f80a4faf8dc678002acd0ce6",
            "545ba2c42f31462b851da4b85eb54c6c",
            "8e6ad1d333164d04a8aa96b29ca0b176",
            "0b39301ae83244269e9a9cd2e003eac3",
            "fc9ec85ce73e47658a0582aeb46af9d0",
            "9321e9d6063f4de2bb670686ef21f785",
            "6c74fbfda13641f29d8894bac9d7fd19",
            "fee3aa21c70c466fbcf594bb79250915",
            "cb64dd9411064ec4b3a7af6d6de7e9d0",
            "ff370fe9914d4194824cffe6e4a85cd9",
            "467aa8bc98664ab88ff31402ac94f1ca",
            "f4c0ba1ddfbe41d281dfe504445c3e47",
            "1c38ad69290b49a4ae0aaa208a264823",
            "79ff8d80f4304847a9b0a2e02e7cc0bd",
            "49f83aca39e84ed8954c315fc81fda77",
            "ec218e2ef9fe4744a029a36cdc8e4a37",
            "5f8770ca92f54e51ae9971b3530da3ce",
            "f9f99ce9651142dcab8dcfe20a038fde"
          ]
        },
        "id": "A7LfaLKFCogR",
        "outputId": "fe2f4bea-d5ea-473d-804e-7c33506cd547"
      },
      "execution_count": null,
      "outputs": [
        {
          "output_type": "stream",
          "name": "stderr",
          "text": [
            "/usr/local/lib/python3.11/dist-packages/huggingface_hub/utils/_auth.py:94: UserWarning: \n",
            "The secret `HF_TOKEN` does not exist in your Colab secrets.\n",
            "To authenticate with the Hugging Face Hub, create a token in your settings tab (https://huggingface.co/settings/tokens), set it as secret in your Google Colab and restart your session.\n",
            "You will be able to reuse this secret in all of your notebooks.\n",
            "Please note that authentication is recommended but still optional to access public models or datasets.\n",
            "  warnings.warn(\n"
          ]
        },
        {
          "output_type": "display_data",
          "data": {
            "text/plain": [
              "tokenizer_config.json:   0%|          | 0.00/25.0 [00:00<?, ?B/s]"
            ],
            "application/vnd.jupyter.widget-view+json": {
              "version_major": 2,
              "version_minor": 0,
              "model_id": "2569e35fb7664983959884d618b7ae3e"
            }
          },
          "metadata": {}
        },
        {
          "output_type": "display_data",
          "data": {
            "text/plain": [
              "config.json:   0%|          | 0.00/482 [00:00<?, ?B/s]"
            ],
            "application/vnd.jupyter.widget-view+json": {
              "version_major": 2,
              "version_minor": 0,
              "model_id": "1166f9dd46c14678b8741eb2083fc134"
            }
          },
          "metadata": {}
        },
        {
          "output_type": "display_data",
          "data": {
            "text/plain": [
              "vocab.json:   0%|          | 0.00/899k [00:00<?, ?B/s]"
            ],
            "application/vnd.jupyter.widget-view+json": {
              "version_major": 2,
              "version_minor": 0,
              "model_id": "bb36a182ed3e4ef49e5b6f084ddcc07d"
            }
          },
          "metadata": {}
        },
        {
          "output_type": "display_data",
          "data": {
            "text/plain": [
              "merges.txt:   0%|          | 0.00/456k [00:00<?, ?B/s]"
            ],
            "application/vnd.jupyter.widget-view+json": {
              "version_major": 2,
              "version_minor": 0,
              "model_id": "3c75cb8aec6746ffad1df6375c0956a9"
            }
          },
          "metadata": {}
        },
        {
          "output_type": "display_data",
          "data": {
            "text/plain": [
              "tokenizer.json:   0%|          | 0.00/1.36M [00:00<?, ?B/s]"
            ],
            "application/vnd.jupyter.widget-view+json": {
              "version_major": 2,
              "version_minor": 0,
              "model_id": "544b0aeaa3224386b6b5883eed1fd0b4"
            }
          },
          "metadata": {}
        },
        {
          "output_type": "stream",
          "name": "stderr",
          "text": [
            "Xet Storage is enabled for this repo, but the 'hf_xet' package is not installed. Falling back to regular HTTP download. For better performance, install the package with: `pip install huggingface_hub[hf_xet]` or `pip install hf_xet`\n",
            "WARNING:huggingface_hub.file_download:Xet Storage is enabled for this repo, but the 'hf_xet' package is not installed. Falling back to regular HTTP download. For better performance, install the package with: `pip install huggingface_hub[hf_xet]` or `pip install hf_xet`\n"
          ]
        },
        {
          "output_type": "display_data",
          "data": {
            "text/plain": [
              "model.safetensors:   0%|          | 0.00/1.42G [00:00<?, ?B/s]"
            ],
            "application/vnd.jupyter.widget-view+json": {
              "version_major": 2,
              "version_minor": 0,
              "model_id": "fee3aa21c70c466fbcf594bb79250915"
            }
          },
          "metadata": {}
        },
        {
          "output_type": "stream",
          "name": "stderr",
          "text": [
            "Some weights of RobertaModel were not initialized from the model checkpoint at roberta-large and are newly initialized: ['pooler.dense.bias', 'pooler.dense.weight']\n",
            "You should probably TRAIN this model on a down-stream task to be able to use it for predictions and inference.\n",
            "Some weights of RobertaModel were not initialized from the model checkpoint at roberta-large and are newly initialized: ['pooler.dense.bias', 'pooler.dense.weight']\n",
            "You should probably TRAIN this model on a down-stream task to be able to use it for predictions and inference.\n",
            "Some weights of RobertaModel were not initialized from the model checkpoint at roberta-large and are newly initialized: ['pooler.dense.bias', 'pooler.dense.weight']\n",
            "You should probably TRAIN this model on a down-stream task to be able to use it for predictions and inference.\n",
            "Some weights of RobertaModel were not initialized from the model checkpoint at roberta-large and are newly initialized: ['pooler.dense.bias', 'pooler.dense.weight']\n",
            "You should probably TRAIN this model on a down-stream task to be able to use it for predictions and inference.\n",
            "Some weights of RobertaModel were not initialized from the model checkpoint at roberta-large and are newly initialized: ['pooler.dense.bias', 'pooler.dense.weight']\n",
            "You should probably TRAIN this model on a down-stream task to be able to use it for predictions and inference.\n",
            "Some weights of RobertaModel were not initialized from the model checkpoint at roberta-large and are newly initialized: ['pooler.dense.bias', 'pooler.dense.weight']\n",
            "You should probably TRAIN this model on a down-stream task to be able to use it for predictions and inference.\n",
            "Some weights of RobertaModel were not initialized from the model checkpoint at roberta-large and are newly initialized: ['pooler.dense.bias', 'pooler.dense.weight']\n",
            "You should probably TRAIN this model on a down-stream task to be able to use it for predictions and inference.\n",
            "Some weights of RobertaModel were not initialized from the model checkpoint at roberta-large and are newly initialized: ['pooler.dense.bias', 'pooler.dense.weight']\n",
            "You should probably TRAIN this model on a down-stream task to be able to use it for predictions and inference.\n",
            "Some weights of RobertaModel were not initialized from the model checkpoint at roberta-large and are newly initialized: ['pooler.dense.bias', 'pooler.dense.weight']\n",
            "You should probably TRAIN this model on a down-stream task to be able to use it for predictions and inference.\n",
            "Some weights of RobertaModel were not initialized from the model checkpoint at roberta-large and are newly initialized: ['pooler.dense.bias', 'pooler.dense.weight']\n",
            "You should probably TRAIN this model on a down-stream task to be able to use it for predictions and inference.\n"
          ]
        },
        {
          "output_type": "stream",
          "name": "stdout",
          "text": [
            "   Diagnosis Coverage  BLEU Score  BERT Precision  BERT Recall  BERTScore (F1)\n",
            "0            0.500000    0.003346        0.779375     0.822650        0.800428\n",
            "1            0.222222    0.002412        0.787701     0.806354        0.796918\n",
            "2            0.000000    0.000000        0.755550     0.731789        0.743480\n",
            "3            1.000000    0.008867        0.774804     0.875058        0.821885\n",
            "4            0.333333    0.002995        0.765826     0.809887        0.787240\n",
            "5            0.333333    0.002789        0.757471     0.745425        0.751400\n",
            "6            0.600000    0.011739        0.790226     0.881095        0.833190\n",
            "7            0.500000    0.000000        0.751735     0.810998        0.780243\n",
            "8            1.000000    0.005586        0.759962     0.895015        0.821978\n",
            "9            1.000000    0.000000        0.758356     0.828776        0.792004\n",
            "\n",
            "--- Overall Metrics ---\n",
            "Diagnosis Coverage Accuracy: 54.89%\n",
            "Average BLEU Score: 0.0038\n",
            "Average BERT Precision: 0.7681\n",
            "Average BERT Recall: 0.8207\n",
            "Average BERTScore (F1): 0.7929\n"
          ]
        }
      ]
    },
    {
      "cell_type": "code",
      "source": [
        "table_inputs_outputs = pd.DataFrame({\n",
        "    \"Prompt ID\": list(range(1, len(predictions_llama4)+1)),\n",
        "    \"Input (Diagnosis Target)\": targets_zeroshot[:len(predictions_llama4)],\n",
        "    \"Generated Output (LLaMA 4)\": predictions_llama4\n",
        "})\n",
        "\n",
        "# Display\n",
        "table_inputs_outputs"
      ],
      "metadata": {
        "colab": {
          "base_uri": "https://localhost:8080/",
          "height": 363
        },
        "id": "FuZEz-AcCodT",
        "outputId": "713bc232-a7c7-4a9b-f0e0-6a0a764705d5"
      },
      "execution_count": null,
      "outputs": [
        {
          "output_type": "execute_result",
          "data": {
            "text/plain": [
              "   Prompt ID                           Input (Diagnosis Target)  \\\n",
              "0          1                           Pulmonary histoplasmosis   \n",
              "1          2  Human immunodeficiency virus type 2 infection ...   \n",
              "2          3                       Borrelia miyamotoi infection   \n",
              "3          4                               Vitamin D deficiency   \n",
              "4          5                       Systemic primary amyloidosis   \n",
              "5          6             Erysipelothrix rhusiopathiae infection   \n",
              "6          7       Inflammatory bowel disease (Crohn’s disease)   \n",
              "7          8                               Aspiration pneumonia   \n",
              "8          9                   Granulomatosis with polyangiitis   \n",
              "9         10                                        Sarcoidosis   \n",
              "\n",
              "                          Generated Output (LLaMA 4)  \n",
              "0  Given the patient's history of malignant melan...  \n",
              "1  Given the patient's clinical presentation, ima...  \n",
              "2  Given the patient's complex presentation, incl...  \n",
              "3  Given the patient's presentation with seizure,...  \n",
              "4  Given the patient's complex presentation, incl...  \n",
              "5  Given the patient's presentation with rapidly ...  \n",
              "6  Given the patient's complex presentation, incl...  \n",
              "7  Given the patient's complex presentation, incl...  \n",
              "8  Given the patient's complex presentation, incl...  \n",
              "9  Given the patient's complex presentation, incl...  "
            ],
            "text/html": [
              "\n",
              "  <div id=\"df-d2543012-2158-41a6-a065-df62f762e3b4\" class=\"colab-df-container\">\n",
              "    <div>\n",
              "<style scoped>\n",
              "    .dataframe tbody tr th:only-of-type {\n",
              "        vertical-align: middle;\n",
              "    }\n",
              "\n",
              "    .dataframe tbody tr th {\n",
              "        vertical-align: top;\n",
              "    }\n",
              "\n",
              "    .dataframe thead th {\n",
              "        text-align: right;\n",
              "    }\n",
              "</style>\n",
              "<table border=\"1\" class=\"dataframe\">\n",
              "  <thead>\n",
              "    <tr style=\"text-align: right;\">\n",
              "      <th></th>\n",
              "      <th>Prompt ID</th>\n",
              "      <th>Input (Diagnosis Target)</th>\n",
              "      <th>Generated Output (LLaMA 4)</th>\n",
              "    </tr>\n",
              "  </thead>\n",
              "  <tbody>\n",
              "    <tr>\n",
              "      <th>0</th>\n",
              "      <td>1</td>\n",
              "      <td>Pulmonary histoplasmosis</td>\n",
              "      <td>Given the patient's history of malignant melan...</td>\n",
              "    </tr>\n",
              "    <tr>\n",
              "      <th>1</th>\n",
              "      <td>2</td>\n",
              "      <td>Human immunodeficiency virus type 2 infection ...</td>\n",
              "      <td>Given the patient's clinical presentation, ima...</td>\n",
              "    </tr>\n",
              "    <tr>\n",
              "      <th>2</th>\n",
              "      <td>3</td>\n",
              "      <td>Borrelia miyamotoi infection</td>\n",
              "      <td>Given the patient's complex presentation, incl...</td>\n",
              "    </tr>\n",
              "    <tr>\n",
              "      <th>3</th>\n",
              "      <td>4</td>\n",
              "      <td>Vitamin D deficiency</td>\n",
              "      <td>Given the patient's presentation with seizure,...</td>\n",
              "    </tr>\n",
              "    <tr>\n",
              "      <th>4</th>\n",
              "      <td>5</td>\n",
              "      <td>Systemic primary amyloidosis</td>\n",
              "      <td>Given the patient's complex presentation, incl...</td>\n",
              "    </tr>\n",
              "    <tr>\n",
              "      <th>5</th>\n",
              "      <td>6</td>\n",
              "      <td>Erysipelothrix rhusiopathiae infection</td>\n",
              "      <td>Given the patient's presentation with rapidly ...</td>\n",
              "    </tr>\n",
              "    <tr>\n",
              "      <th>6</th>\n",
              "      <td>7</td>\n",
              "      <td>Inflammatory bowel disease (Crohn’s disease)</td>\n",
              "      <td>Given the patient's complex presentation, incl...</td>\n",
              "    </tr>\n",
              "    <tr>\n",
              "      <th>7</th>\n",
              "      <td>8</td>\n",
              "      <td>Aspiration pneumonia</td>\n",
              "      <td>Given the patient's complex presentation, incl...</td>\n",
              "    </tr>\n",
              "    <tr>\n",
              "      <th>8</th>\n",
              "      <td>9</td>\n",
              "      <td>Granulomatosis with polyangiitis</td>\n",
              "      <td>Given the patient's complex presentation, incl...</td>\n",
              "    </tr>\n",
              "    <tr>\n",
              "      <th>9</th>\n",
              "      <td>10</td>\n",
              "      <td>Sarcoidosis</td>\n",
              "      <td>Given the patient's complex presentation, incl...</td>\n",
              "    </tr>\n",
              "  </tbody>\n",
              "</table>\n",
              "</div>\n",
              "    <div class=\"colab-df-buttons\">\n",
              "\n",
              "  <div class=\"colab-df-container\">\n",
              "    <button class=\"colab-df-convert\" onclick=\"convertToInteractive('df-d2543012-2158-41a6-a065-df62f762e3b4')\"\n",
              "            title=\"Convert this dataframe to an interactive table.\"\n",
              "            style=\"display:none;\">\n",
              "\n",
              "  <svg xmlns=\"http://www.w3.org/2000/svg\" height=\"24px\" viewBox=\"0 -960 960 960\">\n",
              "    <path d=\"M120-120v-720h720v720H120Zm60-500h600v-160H180v160Zm220 220h160v-160H400v160Zm0 220h160v-160H400v160ZM180-400h160v-160H180v160Zm440 0h160v-160H620v160ZM180-180h160v-160H180v160Zm440 0h160v-160H620v160Z\"/>\n",
              "  </svg>\n",
              "    </button>\n",
              "\n",
              "  <style>\n",
              "    .colab-df-container {\n",
              "      display:flex;\n",
              "      gap: 12px;\n",
              "    }\n",
              "\n",
              "    .colab-df-convert {\n",
              "      background-color: #E8F0FE;\n",
              "      border: none;\n",
              "      border-radius: 50%;\n",
              "      cursor: pointer;\n",
              "      display: none;\n",
              "      fill: #1967D2;\n",
              "      height: 32px;\n",
              "      padding: 0 0 0 0;\n",
              "      width: 32px;\n",
              "    }\n",
              "\n",
              "    .colab-df-convert:hover {\n",
              "      background-color: #E2EBFA;\n",
              "      box-shadow: 0px 1px 2px rgba(60, 64, 67, 0.3), 0px 1px 3px 1px rgba(60, 64, 67, 0.15);\n",
              "      fill: #174EA6;\n",
              "    }\n",
              "\n",
              "    .colab-df-buttons div {\n",
              "      margin-bottom: 4px;\n",
              "    }\n",
              "\n",
              "    [theme=dark] .colab-df-convert {\n",
              "      background-color: #3B4455;\n",
              "      fill: #D2E3FC;\n",
              "    }\n",
              "\n",
              "    [theme=dark] .colab-df-convert:hover {\n",
              "      background-color: #434B5C;\n",
              "      box-shadow: 0px 1px 3px 1px rgba(0, 0, 0, 0.15);\n",
              "      filter: drop-shadow(0px 1px 2px rgba(0, 0, 0, 0.3));\n",
              "      fill: #FFFFFF;\n",
              "    }\n",
              "  </style>\n",
              "\n",
              "    <script>\n",
              "      const buttonEl =\n",
              "        document.querySelector('#df-d2543012-2158-41a6-a065-df62f762e3b4 button.colab-df-convert');\n",
              "      buttonEl.style.display =\n",
              "        google.colab.kernel.accessAllowed ? 'block' : 'none';\n",
              "\n",
              "      async function convertToInteractive(key) {\n",
              "        const element = document.querySelector('#df-d2543012-2158-41a6-a065-df62f762e3b4');\n",
              "        const dataTable =\n",
              "          await google.colab.kernel.invokeFunction('convertToInteractive',\n",
              "                                                    [key], {});\n",
              "        if (!dataTable) return;\n",
              "\n",
              "        const docLinkHtml = 'Like what you see? Visit the ' +\n",
              "          '<a target=\"_blank\" href=https://colab.research.google.com/notebooks/data_table.ipynb>data table notebook</a>'\n",
              "          + ' to learn more about interactive tables.';\n",
              "        element.innerHTML = '';\n",
              "        dataTable['output_type'] = 'display_data';\n",
              "        await google.colab.output.renderOutput(dataTable, element);\n",
              "        const docLink = document.createElement('div');\n",
              "        docLink.innerHTML = docLinkHtml;\n",
              "        element.appendChild(docLink);\n",
              "      }\n",
              "    </script>\n",
              "  </div>\n",
              "\n",
              "\n",
              "    <div id=\"df-587635f6-32c9-40f4-8d99-a450c6dbe05e\">\n",
              "      <button class=\"colab-df-quickchart\" onclick=\"quickchart('df-587635f6-32c9-40f4-8d99-a450c6dbe05e')\"\n",
              "                title=\"Suggest charts\"\n",
              "                style=\"display:none;\">\n",
              "\n",
              "<svg xmlns=\"http://www.w3.org/2000/svg\" height=\"24px\"viewBox=\"0 0 24 24\"\n",
              "     width=\"24px\">\n",
              "    <g>\n",
              "        <path d=\"M19 3H5c-1.1 0-2 .9-2 2v14c0 1.1.9 2 2 2h14c1.1 0 2-.9 2-2V5c0-1.1-.9-2-2-2zM9 17H7v-7h2v7zm4 0h-2V7h2v10zm4 0h-2v-4h2v4z\"/>\n",
              "    </g>\n",
              "</svg>\n",
              "      </button>\n",
              "\n",
              "<style>\n",
              "  .colab-df-quickchart {\n",
              "      --bg-color: #E8F0FE;\n",
              "      --fill-color: #1967D2;\n",
              "      --hover-bg-color: #E2EBFA;\n",
              "      --hover-fill-color: #174EA6;\n",
              "      --disabled-fill-color: #AAA;\n",
              "      --disabled-bg-color: #DDD;\n",
              "  }\n",
              "\n",
              "  [theme=dark] .colab-df-quickchart {\n",
              "      --bg-color: #3B4455;\n",
              "      --fill-color: #D2E3FC;\n",
              "      --hover-bg-color: #434B5C;\n",
              "      --hover-fill-color: #FFFFFF;\n",
              "      --disabled-bg-color: #3B4455;\n",
              "      --disabled-fill-color: #666;\n",
              "  }\n",
              "\n",
              "  .colab-df-quickchart {\n",
              "    background-color: var(--bg-color);\n",
              "    border: none;\n",
              "    border-radius: 50%;\n",
              "    cursor: pointer;\n",
              "    display: none;\n",
              "    fill: var(--fill-color);\n",
              "    height: 32px;\n",
              "    padding: 0;\n",
              "    width: 32px;\n",
              "  }\n",
              "\n",
              "  .colab-df-quickchart:hover {\n",
              "    background-color: var(--hover-bg-color);\n",
              "    box-shadow: 0 1px 2px rgba(60, 64, 67, 0.3), 0 1px 3px 1px rgba(60, 64, 67, 0.15);\n",
              "    fill: var(--button-hover-fill-color);\n",
              "  }\n",
              "\n",
              "  .colab-df-quickchart-complete:disabled,\n",
              "  .colab-df-quickchart-complete:disabled:hover {\n",
              "    background-color: var(--disabled-bg-color);\n",
              "    fill: var(--disabled-fill-color);\n",
              "    box-shadow: none;\n",
              "  }\n",
              "\n",
              "  .colab-df-spinner {\n",
              "    border: 2px solid var(--fill-color);\n",
              "    border-color: transparent;\n",
              "    border-bottom-color: var(--fill-color);\n",
              "    animation:\n",
              "      spin 1s steps(1) infinite;\n",
              "  }\n",
              "\n",
              "  @keyframes spin {\n",
              "    0% {\n",
              "      border-color: transparent;\n",
              "      border-bottom-color: var(--fill-color);\n",
              "      border-left-color: var(--fill-color);\n",
              "    }\n",
              "    20% {\n",
              "      border-color: transparent;\n",
              "      border-left-color: var(--fill-color);\n",
              "      border-top-color: var(--fill-color);\n",
              "    }\n",
              "    30% {\n",
              "      border-color: transparent;\n",
              "      border-left-color: var(--fill-color);\n",
              "      border-top-color: var(--fill-color);\n",
              "      border-right-color: var(--fill-color);\n",
              "    }\n",
              "    40% {\n",
              "      border-color: transparent;\n",
              "      border-right-color: var(--fill-color);\n",
              "      border-top-color: var(--fill-color);\n",
              "    }\n",
              "    60% {\n",
              "      border-color: transparent;\n",
              "      border-right-color: var(--fill-color);\n",
              "    }\n",
              "    80% {\n",
              "      border-color: transparent;\n",
              "      border-right-color: var(--fill-color);\n",
              "      border-bottom-color: var(--fill-color);\n",
              "    }\n",
              "    90% {\n",
              "      border-color: transparent;\n",
              "      border-bottom-color: var(--fill-color);\n",
              "    }\n",
              "  }\n",
              "</style>\n",
              "\n",
              "      <script>\n",
              "        async function quickchart(key) {\n",
              "          const quickchartButtonEl =\n",
              "            document.querySelector('#' + key + ' button');\n",
              "          quickchartButtonEl.disabled = true;  // To prevent multiple clicks.\n",
              "          quickchartButtonEl.classList.add('colab-df-spinner');\n",
              "          try {\n",
              "            const charts = await google.colab.kernel.invokeFunction(\n",
              "                'suggestCharts', [key], {});\n",
              "          } catch (error) {\n",
              "            console.error('Error during call to suggestCharts:', error);\n",
              "          }\n",
              "          quickchartButtonEl.classList.remove('colab-df-spinner');\n",
              "          quickchartButtonEl.classList.add('colab-df-quickchart-complete');\n",
              "        }\n",
              "        (() => {\n",
              "          let quickchartButtonEl =\n",
              "            document.querySelector('#df-587635f6-32c9-40f4-8d99-a450c6dbe05e button');\n",
              "          quickchartButtonEl.style.display =\n",
              "            google.colab.kernel.accessAllowed ? 'block' : 'none';\n",
              "        })();\n",
              "      </script>\n",
              "    </div>\n",
              "\n",
              "  <div id=\"id_03c8ade2-eb2a-45a9-acfb-bd0a6f47a44b\">\n",
              "    <style>\n",
              "      .colab-df-generate {\n",
              "        background-color: #E8F0FE;\n",
              "        border: none;\n",
              "        border-radius: 50%;\n",
              "        cursor: pointer;\n",
              "        display: none;\n",
              "        fill: #1967D2;\n",
              "        height: 32px;\n",
              "        padding: 0 0 0 0;\n",
              "        width: 32px;\n",
              "      }\n",
              "\n",
              "      .colab-df-generate:hover {\n",
              "        background-color: #E2EBFA;\n",
              "        box-shadow: 0px 1px 2px rgba(60, 64, 67, 0.3), 0px 1px 3px 1px rgba(60, 64, 67, 0.15);\n",
              "        fill: #174EA6;\n",
              "      }\n",
              "\n",
              "      [theme=dark] .colab-df-generate {\n",
              "        background-color: #3B4455;\n",
              "        fill: #D2E3FC;\n",
              "      }\n",
              "\n",
              "      [theme=dark] .colab-df-generate:hover {\n",
              "        background-color: #434B5C;\n",
              "        box-shadow: 0px 1px 3px 1px rgba(0, 0, 0, 0.15);\n",
              "        filter: drop-shadow(0px 1px 2px rgba(0, 0, 0, 0.3));\n",
              "        fill: #FFFFFF;\n",
              "      }\n",
              "    </style>\n",
              "    <button class=\"colab-df-generate\" onclick=\"generateWithVariable('table_inputs_outputs')\"\n",
              "            title=\"Generate code using this dataframe.\"\n",
              "            style=\"display:none;\">\n",
              "\n",
              "  <svg xmlns=\"http://www.w3.org/2000/svg\" height=\"24px\"viewBox=\"0 0 24 24\"\n",
              "       width=\"24px\">\n",
              "    <path d=\"M7,19H8.4L18.45,9,17,7.55,7,17.6ZM5,21V16.75L18.45,3.32a2,2,0,0,1,2.83,0l1.4,1.43a1.91,1.91,0,0,1,.58,1.4,1.91,1.91,0,0,1-.58,1.4L9.25,21ZM18.45,9,17,7.55Zm-12,3A5.31,5.31,0,0,0,4.9,8.1,5.31,5.31,0,0,0,1,6.5,5.31,5.31,0,0,0,4.9,4.9,5.31,5.31,0,0,0,6.5,1,5.31,5.31,0,0,0,8.1,4.9,5.31,5.31,0,0,0,12,6.5,5.46,5.46,0,0,0,6.5,12Z\"/>\n",
              "  </svg>\n",
              "    </button>\n",
              "    <script>\n",
              "      (() => {\n",
              "      const buttonEl =\n",
              "        document.querySelector('#id_03c8ade2-eb2a-45a9-acfb-bd0a6f47a44b button.colab-df-generate');\n",
              "      buttonEl.style.display =\n",
              "        google.colab.kernel.accessAllowed ? 'block' : 'none';\n",
              "\n",
              "      buttonEl.onclick = () => {\n",
              "        google.colab.notebook.generateWithVariable('table_inputs_outputs');\n",
              "      }\n",
              "      })();\n",
              "    </script>\n",
              "  </div>\n",
              "\n",
              "    </div>\n",
              "  </div>\n"
            ],
            "application/vnd.google.colaboratory.intrinsic+json": {
              "type": "dataframe",
              "variable_name": "table_inputs_outputs",
              "summary": "{\n  \"name\": \"table_inputs_outputs\",\n  \"rows\": 10,\n  \"fields\": [\n    {\n      \"column\": \"Prompt ID\",\n      \"properties\": {\n        \"dtype\": \"number\",\n        \"std\": 3,\n        \"min\": 1,\n        \"max\": 10,\n        \"num_unique_values\": 10,\n        \"samples\": [\n          9,\n          2,\n          6\n        ],\n        \"semantic_type\": \"\",\n        \"description\": \"\"\n      }\n    },\n    {\n      \"column\": \"Input (Diagnosis Target)\",\n      \"properties\": {\n        \"dtype\": \"string\",\n        \"num_unique_values\": 10,\n        \"samples\": [\n          \"Granulomatosis with polyangiitis\",\n          \"Human immunodeficiency virus type 2 infection and cerebral toxoplasmosis\",\n          \"Erysipelothrix rhusiopathiae infection\"\n        ],\n        \"semantic_type\": \"\",\n        \"description\": \"\"\n      }\n    },\n    {\n      \"column\": \"Generated Output (LLaMA 4)\",\n      \"properties\": {\n        \"dtype\": \"string\",\n        \"num_unique_values\": 10,\n        \"samples\": [\n          \"Given the patient's complex presentation, including fever, cough, shortness of breath, and laboratory findings of anemia, thrombocytosis, and kidney involvement (elevated creatinine, hematuria, proteinuria, and red-cell casts), the most likely final diagnosis is: Anti-glomerular basement membrane (anti-GBM) disease or another autoimmune cause, such as vasculitis (e.g., Goodpasture syndrome), given the pulmonary and renal involvement. The patient's symptoms and laboratory findings, including the presence of ground-glass opacities on CT and kidney involvement, suggest a systemic autoimmune process. Other possible diagnoses to consider include: Infection (although testing for SARS-CoV-2 and other infections has been negative), Vasculitis (e.g., granulomatosis with polyangiitis), Other autoimmune causes (e.g., systemic lupus erythematosus). Further evaluation, including serologic testing for autoimmune antibodies (e.g., anti-GBM, ANCA), would be necessary to confirm the diagnosis and guide treatment.\",\n          \"Given the patient's clinical presentation, imaging findings, and laboratory results, the most likely final diagnosis is: Primary Central Nervous System Lymphoma (PCNSL) associated with HIV infection. This diagnosis is supported by: The presence of an enhancing intraaxial lesion in the right inferior cerebellar hemisphere with surrounding vasogenic edema and mass effect on MRI. The presence of an enhancing leptomeningeal lesion along the left medial frontal lobe. The patient's reactive HIV screening test and low CD4+ T-cell count, indicating immunosuppression. The absence of detectable plasma HIV-1 RNA suggests that the patient may be on effective antiretroviral therapy (ART) or have a suppressed viral load, but the low CD4+ count indicates ongoing immunosuppression. The patient's previous false-positive HIV diagnosis and treatment with ART may be a red herring, but the current laboratory results confirm HIV infection. PCNSL is a known complication of HIV/AIDS, particularly in patients with low CD4+ counts.\",\n          \"Given the patient's presentation with rapidly spreading erythema, violaceous bullae, and pain in the left hand, the most likely final diagnosis is: Necrotizing soft tissue infection, likely caused by Streptococcus pyogenes (Group A streptococcus) or Staphylococcus aureus. However, the absence of crepitus and the soft, compressible soft-tissue compartments make gas gangrene less likely. The presence of violaceous bullae and rapidly spreading erythema suggests a severe infection that requires prompt treatment, including antibiotics and possibly surgical debridement. Other possible diagnoses to consider include: Cellulitis with lymphangitis (given the streaking erythema), Pyomyositis or abscess formation (although crepitus and fluctuance are not mentioned). Further evaluation, including blood cultures, imaging studies (e.g., ultrasound or MRI), and possibly surgical exploration, would be necessary to confirm the diagnosis and guide treatment.\"\n        ],\n        \"semantic_type\": \"\",\n        \"description\": \"\"\n      }\n    }\n  ]\n}"
            }
          },
          "metadata": {},
          "execution_count": 40
        }
      ]
    },
    {
      "cell_type": "code",
      "source": [],
      "metadata": {
        "id": "r9JC58vZQy0e"
      },
      "execution_count": null,
      "outputs": []
    }
  ],
  "metadata": {
    "colab": {
      "provenance": [],
      "gpuType": "T4"
    },
    "kernelspec": {
      "display_name": "Python 3",
      "name": "python3"
    },
    "language_info": {
      "name": "python"
    },
    "accelerator": "GPU",
    "widgets": {
      "application/vnd.jupyter.widget-state+json": {
        "2569e35fb7664983959884d618b7ae3e": {
          "model_module": "@jupyter-widgets/controls",
          "model_name": "HBoxModel",
          "model_module_version": "1.5.0",
          "state": {
            "_dom_classes": [],
            "_model_module": "@jupyter-widgets/controls",
            "_model_module_version": "1.5.0",
            "_model_name": "HBoxModel",
            "_view_count": null,
            "_view_module": "@jupyter-widgets/controls",
            "_view_module_version": "1.5.0",
            "_view_name": "HBoxView",
            "box_style": "",
            "children": [
              "IPY_MODEL_d294858d5db3489882ced5709c16c773",
              "IPY_MODEL_918b799666f04798a109a39653e4efdd",
              "IPY_MODEL_cd0d78989d214045bfd4d0ec28b447c0"
            ],
            "layout": "IPY_MODEL_ca9f3ad1b8994c4eb0cc21b153533b70"
          }
        },
        "d294858d5db3489882ced5709c16c773": {
          "model_module": "@jupyter-widgets/controls",
          "model_name": "HTMLModel",
          "model_module_version": "1.5.0",
          "state": {
            "_dom_classes": [],
            "_model_module": "@jupyter-widgets/controls",
            "_model_module_version": "1.5.0",
            "_model_name": "HTMLModel",
            "_view_count": null,
            "_view_module": "@jupyter-widgets/controls",
            "_view_module_version": "1.5.0",
            "_view_name": "HTMLView",
            "description": "",
            "description_tooltip": null,
            "layout": "IPY_MODEL_d5523c0e755d4c6c9a18f4ecd8947e71",
            "placeholder": "​",
            "style": "IPY_MODEL_75b96fe6cd334647b724189cc44d2c2c",
            "value": "tokenizer_config.json: 100%"
          }
        },
        "918b799666f04798a109a39653e4efdd": {
          "model_module": "@jupyter-widgets/controls",
          "model_name": "FloatProgressModel",
          "model_module_version": "1.5.0",
          "state": {
            "_dom_classes": [],
            "_model_module": "@jupyter-widgets/controls",
            "_model_module_version": "1.5.0",
            "_model_name": "FloatProgressModel",
            "_view_count": null,
            "_view_module": "@jupyter-widgets/controls",
            "_view_module_version": "1.5.0",
            "_view_name": "ProgressView",
            "bar_style": "success",
            "description": "",
            "description_tooltip": null,
            "layout": "IPY_MODEL_1c2029c68c5e4a9695d0f599be5bbfc5",
            "max": 25,
            "min": 0,
            "orientation": "horizontal",
            "style": "IPY_MODEL_8d55394317dd4160bcf583b7a142323e",
            "value": 25
          }
        },
        "cd0d78989d214045bfd4d0ec28b447c0": {
          "model_module": "@jupyter-widgets/controls",
          "model_name": "HTMLModel",
          "model_module_version": "1.5.0",
          "state": {
            "_dom_classes": [],
            "_model_module": "@jupyter-widgets/controls",
            "_model_module_version": "1.5.0",
            "_model_name": "HTMLModel",
            "_view_count": null,
            "_view_module": "@jupyter-widgets/controls",
            "_view_module_version": "1.5.0",
            "_view_name": "HTMLView",
            "description": "",
            "description_tooltip": null,
            "layout": "IPY_MODEL_0d0d4d0f815c42d597a9a60004cfc5f1",
            "placeholder": "​",
            "style": "IPY_MODEL_8dbac141552844c2b414f8c775555971",
            "value": " 25.0/25.0 [00:00&lt;00:00, 2.03kB/s]"
          }
        },
        "ca9f3ad1b8994c4eb0cc21b153533b70": {
          "model_module": "@jupyter-widgets/base",
          "model_name": "LayoutModel",
          "model_module_version": "1.2.0",
          "state": {
            "_model_module": "@jupyter-widgets/base",
            "_model_module_version": "1.2.0",
            "_model_name": "LayoutModel",
            "_view_count": null,
            "_view_module": "@jupyter-widgets/base",
            "_view_module_version": "1.2.0",
            "_view_name": "LayoutView",
            "align_content": null,
            "align_items": null,
            "align_self": null,
            "border": null,
            "bottom": null,
            "display": null,
            "flex": null,
            "flex_flow": null,
            "grid_area": null,
            "grid_auto_columns": null,
            "grid_auto_flow": null,
            "grid_auto_rows": null,
            "grid_column": null,
            "grid_gap": null,
            "grid_row": null,
            "grid_template_areas": null,
            "grid_template_columns": null,
            "grid_template_rows": null,
            "height": null,
            "justify_content": null,
            "justify_items": null,
            "left": null,
            "margin": null,
            "max_height": null,
            "max_width": null,
            "min_height": null,
            "min_width": null,
            "object_fit": null,
            "object_position": null,
            "order": null,
            "overflow": null,
            "overflow_x": null,
            "overflow_y": null,
            "padding": null,
            "right": null,
            "top": null,
            "visibility": null,
            "width": null
          }
        },
        "d5523c0e755d4c6c9a18f4ecd8947e71": {
          "model_module": "@jupyter-widgets/base",
          "model_name": "LayoutModel",
          "model_module_version": "1.2.0",
          "state": {
            "_model_module": "@jupyter-widgets/base",
            "_model_module_version": "1.2.0",
            "_model_name": "LayoutModel",
            "_view_count": null,
            "_view_module": "@jupyter-widgets/base",
            "_view_module_version": "1.2.0",
            "_view_name": "LayoutView",
            "align_content": null,
            "align_items": null,
            "align_self": null,
            "border": null,
            "bottom": null,
            "display": null,
            "flex": null,
            "flex_flow": null,
            "grid_area": null,
            "grid_auto_columns": null,
            "grid_auto_flow": null,
            "grid_auto_rows": null,
            "grid_column": null,
            "grid_gap": null,
            "grid_row": null,
            "grid_template_areas": null,
            "grid_template_columns": null,
            "grid_template_rows": null,
            "height": null,
            "justify_content": null,
            "justify_items": null,
            "left": null,
            "margin": null,
            "max_height": null,
            "max_width": null,
            "min_height": null,
            "min_width": null,
            "object_fit": null,
            "object_position": null,
            "order": null,
            "overflow": null,
            "overflow_x": null,
            "overflow_y": null,
            "padding": null,
            "right": null,
            "top": null,
            "visibility": null,
            "width": null
          }
        },
        "75b96fe6cd334647b724189cc44d2c2c": {
          "model_module": "@jupyter-widgets/controls",
          "model_name": "DescriptionStyleModel",
          "model_module_version": "1.5.0",
          "state": {
            "_model_module": "@jupyter-widgets/controls",
            "_model_module_version": "1.5.0",
            "_model_name": "DescriptionStyleModel",
            "_view_count": null,
            "_view_module": "@jupyter-widgets/base",
            "_view_module_version": "1.2.0",
            "_view_name": "StyleView",
            "description_width": ""
          }
        },
        "1c2029c68c5e4a9695d0f599be5bbfc5": {
          "model_module": "@jupyter-widgets/base",
          "model_name": "LayoutModel",
          "model_module_version": "1.2.0",
          "state": {
            "_model_module": "@jupyter-widgets/base",
            "_model_module_version": "1.2.0",
            "_model_name": "LayoutModel",
            "_view_count": null,
            "_view_module": "@jupyter-widgets/base",
            "_view_module_version": "1.2.0",
            "_view_name": "LayoutView",
            "align_content": null,
            "align_items": null,
            "align_self": null,
            "border": null,
            "bottom": null,
            "display": null,
            "flex": null,
            "flex_flow": null,
            "grid_area": null,
            "grid_auto_columns": null,
            "grid_auto_flow": null,
            "grid_auto_rows": null,
            "grid_column": null,
            "grid_gap": null,
            "grid_row": null,
            "grid_template_areas": null,
            "grid_template_columns": null,
            "grid_template_rows": null,
            "height": null,
            "justify_content": null,
            "justify_items": null,
            "left": null,
            "margin": null,
            "max_height": null,
            "max_width": null,
            "min_height": null,
            "min_width": null,
            "object_fit": null,
            "object_position": null,
            "order": null,
            "overflow": null,
            "overflow_x": null,
            "overflow_y": null,
            "padding": null,
            "right": null,
            "top": null,
            "visibility": null,
            "width": null
          }
        },
        "8d55394317dd4160bcf583b7a142323e": {
          "model_module": "@jupyter-widgets/controls",
          "model_name": "ProgressStyleModel",
          "model_module_version": "1.5.0",
          "state": {
            "_model_module": "@jupyter-widgets/controls",
            "_model_module_version": "1.5.0",
            "_model_name": "ProgressStyleModel",
            "_view_count": null,
            "_view_module": "@jupyter-widgets/base",
            "_view_module_version": "1.2.0",
            "_view_name": "StyleView",
            "bar_color": null,
            "description_width": ""
          }
        },
        "0d0d4d0f815c42d597a9a60004cfc5f1": {
          "model_module": "@jupyter-widgets/base",
          "model_name": "LayoutModel",
          "model_module_version": "1.2.0",
          "state": {
            "_model_module": "@jupyter-widgets/base",
            "_model_module_version": "1.2.0",
            "_model_name": "LayoutModel",
            "_view_count": null,
            "_view_module": "@jupyter-widgets/base",
            "_view_module_version": "1.2.0",
            "_view_name": "LayoutView",
            "align_content": null,
            "align_items": null,
            "align_self": null,
            "border": null,
            "bottom": null,
            "display": null,
            "flex": null,
            "flex_flow": null,
            "grid_area": null,
            "grid_auto_columns": null,
            "grid_auto_flow": null,
            "grid_auto_rows": null,
            "grid_column": null,
            "grid_gap": null,
            "grid_row": null,
            "grid_template_areas": null,
            "grid_template_columns": null,
            "grid_template_rows": null,
            "height": null,
            "justify_content": null,
            "justify_items": null,
            "left": null,
            "margin": null,
            "max_height": null,
            "max_width": null,
            "min_height": null,
            "min_width": null,
            "object_fit": null,
            "object_position": null,
            "order": null,
            "overflow": null,
            "overflow_x": null,
            "overflow_y": null,
            "padding": null,
            "right": null,
            "top": null,
            "visibility": null,
            "width": null
          }
        },
        "8dbac141552844c2b414f8c775555971": {
          "model_module": "@jupyter-widgets/controls",
          "model_name": "DescriptionStyleModel",
          "model_module_version": "1.5.0",
          "state": {
            "_model_module": "@jupyter-widgets/controls",
            "_model_module_version": "1.5.0",
            "_model_name": "DescriptionStyleModel",
            "_view_count": null,
            "_view_module": "@jupyter-widgets/base",
            "_view_module_version": "1.2.0",
            "_view_name": "StyleView",
            "description_width": ""
          }
        },
        "1166f9dd46c14678b8741eb2083fc134": {
          "model_module": "@jupyter-widgets/controls",
          "model_name": "HBoxModel",
          "model_module_version": "1.5.0",
          "state": {
            "_dom_classes": [],
            "_model_module": "@jupyter-widgets/controls",
            "_model_module_version": "1.5.0",
            "_model_name": "HBoxModel",
            "_view_count": null,
            "_view_module": "@jupyter-widgets/controls",
            "_view_module_version": "1.5.0",
            "_view_name": "HBoxView",
            "box_style": "",
            "children": [
              "IPY_MODEL_44f27ee84532402694f54ea4aadae50d",
              "IPY_MODEL_f0316efeb3a748a0ac6c98d641a9b7eb",
              "IPY_MODEL_f5596ff1e9dc41fcad01ea76799913dc"
            ],
            "layout": "IPY_MODEL_42e8d1e2c4014878ac3cdbc5e5cda43b"
          }
        },
        "44f27ee84532402694f54ea4aadae50d": {
          "model_module": "@jupyter-widgets/controls",
          "model_name": "HTMLModel",
          "model_module_version": "1.5.0",
          "state": {
            "_dom_classes": [],
            "_model_module": "@jupyter-widgets/controls",
            "_model_module_version": "1.5.0",
            "_model_name": "HTMLModel",
            "_view_count": null,
            "_view_module": "@jupyter-widgets/controls",
            "_view_module_version": "1.5.0",
            "_view_name": "HTMLView",
            "description": "",
            "description_tooltip": null,
            "layout": "IPY_MODEL_4ebd007ea7094107a9ab7b6e5edacb51",
            "placeholder": "​",
            "style": "IPY_MODEL_074b2c78df4d453dbde315367c61239b",
            "value": "config.json: 100%"
          }
        },
        "f0316efeb3a748a0ac6c98d641a9b7eb": {
          "model_module": "@jupyter-widgets/controls",
          "model_name": "FloatProgressModel",
          "model_module_version": "1.5.0",
          "state": {
            "_dom_classes": [],
            "_model_module": "@jupyter-widgets/controls",
            "_model_module_version": "1.5.0",
            "_model_name": "FloatProgressModel",
            "_view_count": null,
            "_view_module": "@jupyter-widgets/controls",
            "_view_module_version": "1.5.0",
            "_view_name": "ProgressView",
            "bar_style": "success",
            "description": "",
            "description_tooltip": null,
            "layout": "IPY_MODEL_3633f705723e49d1a3fc66d8032f3d98",
            "max": 482,
            "min": 0,
            "orientation": "horizontal",
            "style": "IPY_MODEL_bfbfb46b313d4d4e82852c80f19f8e48",
            "value": 482
          }
        },
        "f5596ff1e9dc41fcad01ea76799913dc": {
          "model_module": "@jupyter-widgets/controls",
          "model_name": "HTMLModel",
          "model_module_version": "1.5.0",
          "state": {
            "_dom_classes": [],
            "_model_module": "@jupyter-widgets/controls",
            "_model_module_version": "1.5.0",
            "_model_name": "HTMLModel",
            "_view_count": null,
            "_view_module": "@jupyter-widgets/controls",
            "_view_module_version": "1.5.0",
            "_view_name": "HTMLView",
            "description": "",
            "description_tooltip": null,
            "layout": "IPY_MODEL_4be43974cfb3422c9efc852d7d3e056e",
            "placeholder": "​",
            "style": "IPY_MODEL_95545ad6e0424ad2a3b0e8781e63ce46",
            "value": " 482/482 [00:00&lt;00:00, 49.5kB/s]"
          }
        },
        "42e8d1e2c4014878ac3cdbc5e5cda43b": {
          "model_module": "@jupyter-widgets/base",
          "model_name": "LayoutModel",
          "model_module_version": "1.2.0",
          "state": {
            "_model_module": "@jupyter-widgets/base",
            "_model_module_version": "1.2.0",
            "_model_name": "LayoutModel",
            "_view_count": null,
            "_view_module": "@jupyter-widgets/base",
            "_view_module_version": "1.2.0",
            "_view_name": "LayoutView",
            "align_content": null,
            "align_items": null,
            "align_self": null,
            "border": null,
            "bottom": null,
            "display": null,
            "flex": null,
            "flex_flow": null,
            "grid_area": null,
            "grid_auto_columns": null,
            "grid_auto_flow": null,
            "grid_auto_rows": null,
            "grid_column": null,
            "grid_gap": null,
            "grid_row": null,
            "grid_template_areas": null,
            "grid_template_columns": null,
            "grid_template_rows": null,
            "height": null,
            "justify_content": null,
            "justify_items": null,
            "left": null,
            "margin": null,
            "max_height": null,
            "max_width": null,
            "min_height": null,
            "min_width": null,
            "object_fit": null,
            "object_position": null,
            "order": null,
            "overflow": null,
            "overflow_x": null,
            "overflow_y": null,
            "padding": null,
            "right": null,
            "top": null,
            "visibility": null,
            "width": null
          }
        },
        "4ebd007ea7094107a9ab7b6e5edacb51": {
          "model_module": "@jupyter-widgets/base",
          "model_name": "LayoutModel",
          "model_module_version": "1.2.0",
          "state": {
            "_model_module": "@jupyter-widgets/base",
            "_model_module_version": "1.2.0",
            "_model_name": "LayoutModel",
            "_view_count": null,
            "_view_module": "@jupyter-widgets/base",
            "_view_module_version": "1.2.0",
            "_view_name": "LayoutView",
            "align_content": null,
            "align_items": null,
            "align_self": null,
            "border": null,
            "bottom": null,
            "display": null,
            "flex": null,
            "flex_flow": null,
            "grid_area": null,
            "grid_auto_columns": null,
            "grid_auto_flow": null,
            "grid_auto_rows": null,
            "grid_column": null,
            "grid_gap": null,
            "grid_row": null,
            "grid_template_areas": null,
            "grid_template_columns": null,
            "grid_template_rows": null,
            "height": null,
            "justify_content": null,
            "justify_items": null,
            "left": null,
            "margin": null,
            "max_height": null,
            "max_width": null,
            "min_height": null,
            "min_width": null,
            "object_fit": null,
            "object_position": null,
            "order": null,
            "overflow": null,
            "overflow_x": null,
            "overflow_y": null,
            "padding": null,
            "right": null,
            "top": null,
            "visibility": null,
            "width": null
          }
        },
        "074b2c78df4d453dbde315367c61239b": {
          "model_module": "@jupyter-widgets/controls",
          "model_name": "DescriptionStyleModel",
          "model_module_version": "1.5.0",
          "state": {
            "_model_module": "@jupyter-widgets/controls",
            "_model_module_version": "1.5.0",
            "_model_name": "DescriptionStyleModel",
            "_view_count": null,
            "_view_module": "@jupyter-widgets/base",
            "_view_module_version": "1.2.0",
            "_view_name": "StyleView",
            "description_width": ""
          }
        },
        "3633f705723e49d1a3fc66d8032f3d98": {
          "model_module": "@jupyter-widgets/base",
          "model_name": "LayoutModel",
          "model_module_version": "1.2.0",
          "state": {
            "_model_module": "@jupyter-widgets/base",
            "_model_module_version": "1.2.0",
            "_model_name": "LayoutModel",
            "_view_count": null,
            "_view_module": "@jupyter-widgets/base",
            "_view_module_version": "1.2.0",
            "_view_name": "LayoutView",
            "align_content": null,
            "align_items": null,
            "align_self": null,
            "border": null,
            "bottom": null,
            "display": null,
            "flex": null,
            "flex_flow": null,
            "grid_area": null,
            "grid_auto_columns": null,
            "grid_auto_flow": null,
            "grid_auto_rows": null,
            "grid_column": null,
            "grid_gap": null,
            "grid_row": null,
            "grid_template_areas": null,
            "grid_template_columns": null,
            "grid_template_rows": null,
            "height": null,
            "justify_content": null,
            "justify_items": null,
            "left": null,
            "margin": null,
            "max_height": null,
            "max_width": null,
            "min_height": null,
            "min_width": null,
            "object_fit": null,
            "object_position": null,
            "order": null,
            "overflow": null,
            "overflow_x": null,
            "overflow_y": null,
            "padding": null,
            "right": null,
            "top": null,
            "visibility": null,
            "width": null
          }
        },
        "bfbfb46b313d4d4e82852c80f19f8e48": {
          "model_module": "@jupyter-widgets/controls",
          "model_name": "ProgressStyleModel",
          "model_module_version": "1.5.0",
          "state": {
            "_model_module": "@jupyter-widgets/controls",
            "_model_module_version": "1.5.0",
            "_model_name": "ProgressStyleModel",
            "_view_count": null,
            "_view_module": "@jupyter-widgets/base",
            "_view_module_version": "1.2.0",
            "_view_name": "StyleView",
            "bar_color": null,
            "description_width": ""
          }
        },
        "4be43974cfb3422c9efc852d7d3e056e": {
          "model_module": "@jupyter-widgets/base",
          "model_name": "LayoutModel",
          "model_module_version": "1.2.0",
          "state": {
            "_model_module": "@jupyter-widgets/base",
            "_model_module_version": "1.2.0",
            "_model_name": "LayoutModel",
            "_view_count": null,
            "_view_module": "@jupyter-widgets/base",
            "_view_module_version": "1.2.0",
            "_view_name": "LayoutView",
            "align_content": null,
            "align_items": null,
            "align_self": null,
            "border": null,
            "bottom": null,
            "display": null,
            "flex": null,
            "flex_flow": null,
            "grid_area": null,
            "grid_auto_columns": null,
            "grid_auto_flow": null,
            "grid_auto_rows": null,
            "grid_column": null,
            "grid_gap": null,
            "grid_row": null,
            "grid_template_areas": null,
            "grid_template_columns": null,
            "grid_template_rows": null,
            "height": null,
            "justify_content": null,
            "justify_items": null,
            "left": null,
            "margin": null,
            "max_height": null,
            "max_width": null,
            "min_height": null,
            "min_width": null,
            "object_fit": null,
            "object_position": null,
            "order": null,
            "overflow": null,
            "overflow_x": null,
            "overflow_y": null,
            "padding": null,
            "right": null,
            "top": null,
            "visibility": null,
            "width": null
          }
        },
        "95545ad6e0424ad2a3b0e8781e63ce46": {
          "model_module": "@jupyter-widgets/controls",
          "model_name": "DescriptionStyleModel",
          "model_module_version": "1.5.0",
          "state": {
            "_model_module": "@jupyter-widgets/controls",
            "_model_module_version": "1.5.0",
            "_model_name": "DescriptionStyleModel",
            "_view_count": null,
            "_view_module": "@jupyter-widgets/base",
            "_view_module_version": "1.2.0",
            "_view_name": "StyleView",
            "description_width": ""
          }
        },
        "bb36a182ed3e4ef49e5b6f084ddcc07d": {
          "model_module": "@jupyter-widgets/controls",
          "model_name": "HBoxModel",
          "model_module_version": "1.5.0",
          "state": {
            "_dom_classes": [],
            "_model_module": "@jupyter-widgets/controls",
            "_model_module_version": "1.5.0",
            "_model_name": "HBoxModel",
            "_view_count": null,
            "_view_module": "@jupyter-widgets/controls",
            "_view_module_version": "1.5.0",
            "_view_name": "HBoxView",
            "box_style": "",
            "children": [
              "IPY_MODEL_8566d401f430401c943f1fbaa5b39d77",
              "IPY_MODEL_ec30ee760b45437ca95eb6edaa759642",
              "IPY_MODEL_7901fe09621642469b0f2929d4d54c9b"
            ],
            "layout": "IPY_MODEL_34ae9c07d0c34c6ba0b84940d11667cc"
          }
        },
        "8566d401f430401c943f1fbaa5b39d77": {
          "model_module": "@jupyter-widgets/controls",
          "model_name": "HTMLModel",
          "model_module_version": "1.5.0",
          "state": {
            "_dom_classes": [],
            "_model_module": "@jupyter-widgets/controls",
            "_model_module_version": "1.5.0",
            "_model_name": "HTMLModel",
            "_view_count": null,
            "_view_module": "@jupyter-widgets/controls",
            "_view_module_version": "1.5.0",
            "_view_name": "HTMLView",
            "description": "",
            "description_tooltip": null,
            "layout": "IPY_MODEL_38e20118bd3241308e7e7efbe7f11f40",
            "placeholder": "​",
            "style": "IPY_MODEL_8912b8d123dd416c8ba552eddbb35c35",
            "value": "vocab.json: 100%"
          }
        },
        "ec30ee760b45437ca95eb6edaa759642": {
          "model_module": "@jupyter-widgets/controls",
          "model_name": "FloatProgressModel",
          "model_module_version": "1.5.0",
          "state": {
            "_dom_classes": [],
            "_model_module": "@jupyter-widgets/controls",
            "_model_module_version": "1.5.0",
            "_model_name": "FloatProgressModel",
            "_view_count": null,
            "_view_module": "@jupyter-widgets/controls",
            "_view_module_version": "1.5.0",
            "_view_name": "ProgressView",
            "bar_style": "success",
            "description": "",
            "description_tooltip": null,
            "layout": "IPY_MODEL_abc0931849514e9dba43cbcdcd1aa8ab",
            "max": 898823,
            "min": 0,
            "orientation": "horizontal",
            "style": "IPY_MODEL_4b1154110ac644f9a350d253be949f80",
            "value": 898823
          }
        },
        "7901fe09621642469b0f2929d4d54c9b": {
          "model_module": "@jupyter-widgets/controls",
          "model_name": "HTMLModel",
          "model_module_version": "1.5.0",
          "state": {
            "_dom_classes": [],
            "_model_module": "@jupyter-widgets/controls",
            "_model_module_version": "1.5.0",
            "_model_name": "HTMLModel",
            "_view_count": null,
            "_view_module": "@jupyter-widgets/controls",
            "_view_module_version": "1.5.0",
            "_view_name": "HTMLView",
            "description": "",
            "description_tooltip": null,
            "layout": "IPY_MODEL_0611db665bf44f939fe75af0b1ff7fb7",
            "placeholder": "​",
            "style": "IPY_MODEL_ebf129ed770e46f0b3d42baa2c1254f0",
            "value": " 899k/899k [00:00&lt;00:00, 5.60MB/s]"
          }
        },
        "34ae9c07d0c34c6ba0b84940d11667cc": {
          "model_module": "@jupyter-widgets/base",
          "model_name": "LayoutModel",
          "model_module_version": "1.2.0",
          "state": {
            "_model_module": "@jupyter-widgets/base",
            "_model_module_version": "1.2.0",
            "_model_name": "LayoutModel",
            "_view_count": null,
            "_view_module": "@jupyter-widgets/base",
            "_view_module_version": "1.2.0",
            "_view_name": "LayoutView",
            "align_content": null,
            "align_items": null,
            "align_self": null,
            "border": null,
            "bottom": null,
            "display": null,
            "flex": null,
            "flex_flow": null,
            "grid_area": null,
            "grid_auto_columns": null,
            "grid_auto_flow": null,
            "grid_auto_rows": null,
            "grid_column": null,
            "grid_gap": null,
            "grid_row": null,
            "grid_template_areas": null,
            "grid_template_columns": null,
            "grid_template_rows": null,
            "height": null,
            "justify_content": null,
            "justify_items": null,
            "left": null,
            "margin": null,
            "max_height": null,
            "max_width": null,
            "min_height": null,
            "min_width": null,
            "object_fit": null,
            "object_position": null,
            "order": null,
            "overflow": null,
            "overflow_x": null,
            "overflow_y": null,
            "padding": null,
            "right": null,
            "top": null,
            "visibility": null,
            "width": null
          }
        },
        "38e20118bd3241308e7e7efbe7f11f40": {
          "model_module": "@jupyter-widgets/base",
          "model_name": "LayoutModel",
          "model_module_version": "1.2.0",
          "state": {
            "_model_module": "@jupyter-widgets/base",
            "_model_module_version": "1.2.0",
            "_model_name": "LayoutModel",
            "_view_count": null,
            "_view_module": "@jupyter-widgets/base",
            "_view_module_version": "1.2.0",
            "_view_name": "LayoutView",
            "align_content": null,
            "align_items": null,
            "align_self": null,
            "border": null,
            "bottom": null,
            "display": null,
            "flex": null,
            "flex_flow": null,
            "grid_area": null,
            "grid_auto_columns": null,
            "grid_auto_flow": null,
            "grid_auto_rows": null,
            "grid_column": null,
            "grid_gap": null,
            "grid_row": null,
            "grid_template_areas": null,
            "grid_template_columns": null,
            "grid_template_rows": null,
            "height": null,
            "justify_content": null,
            "justify_items": null,
            "left": null,
            "margin": null,
            "max_height": null,
            "max_width": null,
            "min_height": null,
            "min_width": null,
            "object_fit": null,
            "object_position": null,
            "order": null,
            "overflow": null,
            "overflow_x": null,
            "overflow_y": null,
            "padding": null,
            "right": null,
            "top": null,
            "visibility": null,
            "width": null
          }
        },
        "8912b8d123dd416c8ba552eddbb35c35": {
          "model_module": "@jupyter-widgets/controls",
          "model_name": "DescriptionStyleModel",
          "model_module_version": "1.5.0",
          "state": {
            "_model_module": "@jupyter-widgets/controls",
            "_model_module_version": "1.5.0",
            "_model_name": "DescriptionStyleModel",
            "_view_count": null,
            "_view_module": "@jupyter-widgets/base",
            "_view_module_version": "1.2.0",
            "_view_name": "StyleView",
            "description_width": ""
          }
        },
        "abc0931849514e9dba43cbcdcd1aa8ab": {
          "model_module": "@jupyter-widgets/base",
          "model_name": "LayoutModel",
          "model_module_version": "1.2.0",
          "state": {
            "_model_module": "@jupyter-widgets/base",
            "_model_module_version": "1.2.0",
            "_model_name": "LayoutModel",
            "_view_count": null,
            "_view_module": "@jupyter-widgets/base",
            "_view_module_version": "1.2.0",
            "_view_name": "LayoutView",
            "align_content": null,
            "align_items": null,
            "align_self": null,
            "border": null,
            "bottom": null,
            "display": null,
            "flex": null,
            "flex_flow": null,
            "grid_area": null,
            "grid_auto_columns": null,
            "grid_auto_flow": null,
            "grid_auto_rows": null,
            "grid_column": null,
            "grid_gap": null,
            "grid_row": null,
            "grid_template_areas": null,
            "grid_template_columns": null,
            "grid_template_rows": null,
            "height": null,
            "justify_content": null,
            "justify_items": null,
            "left": null,
            "margin": null,
            "max_height": null,
            "max_width": null,
            "min_height": null,
            "min_width": null,
            "object_fit": null,
            "object_position": null,
            "order": null,
            "overflow": null,
            "overflow_x": null,
            "overflow_y": null,
            "padding": null,
            "right": null,
            "top": null,
            "visibility": null,
            "width": null
          }
        },
        "4b1154110ac644f9a350d253be949f80": {
          "model_module": "@jupyter-widgets/controls",
          "model_name": "ProgressStyleModel",
          "model_module_version": "1.5.0",
          "state": {
            "_model_module": "@jupyter-widgets/controls",
            "_model_module_version": "1.5.0",
            "_model_name": "ProgressStyleModel",
            "_view_count": null,
            "_view_module": "@jupyter-widgets/base",
            "_view_module_version": "1.2.0",
            "_view_name": "StyleView",
            "bar_color": null,
            "description_width": ""
          }
        },
        "0611db665bf44f939fe75af0b1ff7fb7": {
          "model_module": "@jupyter-widgets/base",
          "model_name": "LayoutModel",
          "model_module_version": "1.2.0",
          "state": {
            "_model_module": "@jupyter-widgets/base",
            "_model_module_version": "1.2.0",
            "_model_name": "LayoutModel",
            "_view_count": null,
            "_view_module": "@jupyter-widgets/base",
            "_view_module_version": "1.2.0",
            "_view_name": "LayoutView",
            "align_content": null,
            "align_items": null,
            "align_self": null,
            "border": null,
            "bottom": null,
            "display": null,
            "flex": null,
            "flex_flow": null,
            "grid_area": null,
            "grid_auto_columns": null,
            "grid_auto_flow": null,
            "grid_auto_rows": null,
            "grid_column": null,
            "grid_gap": null,
            "grid_row": null,
            "grid_template_areas": null,
            "grid_template_columns": null,
            "grid_template_rows": null,
            "height": null,
            "justify_content": null,
            "justify_items": null,
            "left": null,
            "margin": null,
            "max_height": null,
            "max_width": null,
            "min_height": null,
            "min_width": null,
            "object_fit": null,
            "object_position": null,
            "order": null,
            "overflow": null,
            "overflow_x": null,
            "overflow_y": null,
            "padding": null,
            "right": null,
            "top": null,
            "visibility": null,
            "width": null
          }
        },
        "ebf129ed770e46f0b3d42baa2c1254f0": {
          "model_module": "@jupyter-widgets/controls",
          "model_name": "DescriptionStyleModel",
          "model_module_version": "1.5.0",
          "state": {
            "_model_module": "@jupyter-widgets/controls",
            "_model_module_version": "1.5.0",
            "_model_name": "DescriptionStyleModel",
            "_view_count": null,
            "_view_module": "@jupyter-widgets/base",
            "_view_module_version": "1.2.0",
            "_view_name": "StyleView",
            "description_width": ""
          }
        },
        "3c75cb8aec6746ffad1df6375c0956a9": {
          "model_module": "@jupyter-widgets/controls",
          "model_name": "HBoxModel",
          "model_module_version": "1.5.0",
          "state": {
            "_dom_classes": [],
            "_model_module": "@jupyter-widgets/controls",
            "_model_module_version": "1.5.0",
            "_model_name": "HBoxModel",
            "_view_count": null,
            "_view_module": "@jupyter-widgets/controls",
            "_view_module_version": "1.5.0",
            "_view_name": "HBoxView",
            "box_style": "",
            "children": [
              "IPY_MODEL_d7f928befa9c4b15bf218868715f4d57",
              "IPY_MODEL_bbab6725b59140c5b3456a4052779312",
              "IPY_MODEL_7a5071d4caf1473ba5b681bbbf800f2b"
            ],
            "layout": "IPY_MODEL_8ba4aab671b04cb39d3f11c6acd55e14"
          }
        },
        "d7f928befa9c4b15bf218868715f4d57": {
          "model_module": "@jupyter-widgets/controls",
          "model_name": "HTMLModel",
          "model_module_version": "1.5.0",
          "state": {
            "_dom_classes": [],
            "_model_module": "@jupyter-widgets/controls",
            "_model_module_version": "1.5.0",
            "_model_name": "HTMLModel",
            "_view_count": null,
            "_view_module": "@jupyter-widgets/controls",
            "_view_module_version": "1.5.0",
            "_view_name": "HTMLView",
            "description": "",
            "description_tooltip": null,
            "layout": "IPY_MODEL_0c83d769726d4882b484e87939126766",
            "placeholder": "​",
            "style": "IPY_MODEL_b97d44c153f64fd1aaa1f9b96e7f21ce",
            "value": "merges.txt: 100%"
          }
        },
        "bbab6725b59140c5b3456a4052779312": {
          "model_module": "@jupyter-widgets/controls",
          "model_name": "FloatProgressModel",
          "model_module_version": "1.5.0",
          "state": {
            "_dom_classes": [],
            "_model_module": "@jupyter-widgets/controls",
            "_model_module_version": "1.5.0",
            "_model_name": "FloatProgressModel",
            "_view_count": null,
            "_view_module": "@jupyter-widgets/controls",
            "_view_module_version": "1.5.0",
            "_view_name": "ProgressView",
            "bar_style": "success",
            "description": "",
            "description_tooltip": null,
            "layout": "IPY_MODEL_1941a92cc7814192945ed384e2cf228a",
            "max": 456318,
            "min": 0,
            "orientation": "horizontal",
            "style": "IPY_MODEL_70e437a128284ae8995b790393b5ae61",
            "value": 456318
          }
        },
        "7a5071d4caf1473ba5b681bbbf800f2b": {
          "model_module": "@jupyter-widgets/controls",
          "model_name": "HTMLModel",
          "model_module_version": "1.5.0",
          "state": {
            "_dom_classes": [],
            "_model_module": "@jupyter-widgets/controls",
            "_model_module_version": "1.5.0",
            "_model_name": "HTMLModel",
            "_view_count": null,
            "_view_module": "@jupyter-widgets/controls",
            "_view_module_version": "1.5.0",
            "_view_name": "HTMLView",
            "description": "",
            "description_tooltip": null,
            "layout": "IPY_MODEL_aab47f8b8b36494d9c73724a54531cb2",
            "placeholder": "​",
            "style": "IPY_MODEL_0975f2d7907a482d9e44ce5110a612fe",
            "value": " 456k/456k [00:00&lt;00:00, 3.14MB/s]"
          }
        },
        "8ba4aab671b04cb39d3f11c6acd55e14": {
          "model_module": "@jupyter-widgets/base",
          "model_name": "LayoutModel",
          "model_module_version": "1.2.0",
          "state": {
            "_model_module": "@jupyter-widgets/base",
            "_model_module_version": "1.2.0",
            "_model_name": "LayoutModel",
            "_view_count": null,
            "_view_module": "@jupyter-widgets/base",
            "_view_module_version": "1.2.0",
            "_view_name": "LayoutView",
            "align_content": null,
            "align_items": null,
            "align_self": null,
            "border": null,
            "bottom": null,
            "display": null,
            "flex": null,
            "flex_flow": null,
            "grid_area": null,
            "grid_auto_columns": null,
            "grid_auto_flow": null,
            "grid_auto_rows": null,
            "grid_column": null,
            "grid_gap": null,
            "grid_row": null,
            "grid_template_areas": null,
            "grid_template_columns": null,
            "grid_template_rows": null,
            "height": null,
            "justify_content": null,
            "justify_items": null,
            "left": null,
            "margin": null,
            "max_height": null,
            "max_width": null,
            "min_height": null,
            "min_width": null,
            "object_fit": null,
            "object_position": null,
            "order": null,
            "overflow": null,
            "overflow_x": null,
            "overflow_y": null,
            "padding": null,
            "right": null,
            "top": null,
            "visibility": null,
            "width": null
          }
        },
        "0c83d769726d4882b484e87939126766": {
          "model_module": "@jupyter-widgets/base",
          "model_name": "LayoutModel",
          "model_module_version": "1.2.0",
          "state": {
            "_model_module": "@jupyter-widgets/base",
            "_model_module_version": "1.2.0",
            "_model_name": "LayoutModel",
            "_view_count": null,
            "_view_module": "@jupyter-widgets/base",
            "_view_module_version": "1.2.0",
            "_view_name": "LayoutView",
            "align_content": null,
            "align_items": null,
            "align_self": null,
            "border": null,
            "bottom": null,
            "display": null,
            "flex": null,
            "flex_flow": null,
            "grid_area": null,
            "grid_auto_columns": null,
            "grid_auto_flow": null,
            "grid_auto_rows": null,
            "grid_column": null,
            "grid_gap": null,
            "grid_row": null,
            "grid_template_areas": null,
            "grid_template_columns": null,
            "grid_template_rows": null,
            "height": null,
            "justify_content": null,
            "justify_items": null,
            "left": null,
            "margin": null,
            "max_height": null,
            "max_width": null,
            "min_height": null,
            "min_width": null,
            "object_fit": null,
            "object_position": null,
            "order": null,
            "overflow": null,
            "overflow_x": null,
            "overflow_y": null,
            "padding": null,
            "right": null,
            "top": null,
            "visibility": null,
            "width": null
          }
        },
        "b97d44c153f64fd1aaa1f9b96e7f21ce": {
          "model_module": "@jupyter-widgets/controls",
          "model_name": "DescriptionStyleModel",
          "model_module_version": "1.5.0",
          "state": {
            "_model_module": "@jupyter-widgets/controls",
            "_model_module_version": "1.5.0",
            "_model_name": "DescriptionStyleModel",
            "_view_count": null,
            "_view_module": "@jupyter-widgets/base",
            "_view_module_version": "1.2.0",
            "_view_name": "StyleView",
            "description_width": ""
          }
        },
        "1941a92cc7814192945ed384e2cf228a": {
          "model_module": "@jupyter-widgets/base",
          "model_name": "LayoutModel",
          "model_module_version": "1.2.0",
          "state": {
            "_model_module": "@jupyter-widgets/base",
            "_model_module_version": "1.2.0",
            "_model_name": "LayoutModel",
            "_view_count": null,
            "_view_module": "@jupyter-widgets/base",
            "_view_module_version": "1.2.0",
            "_view_name": "LayoutView",
            "align_content": null,
            "align_items": null,
            "align_self": null,
            "border": null,
            "bottom": null,
            "display": null,
            "flex": null,
            "flex_flow": null,
            "grid_area": null,
            "grid_auto_columns": null,
            "grid_auto_flow": null,
            "grid_auto_rows": null,
            "grid_column": null,
            "grid_gap": null,
            "grid_row": null,
            "grid_template_areas": null,
            "grid_template_columns": null,
            "grid_template_rows": null,
            "height": null,
            "justify_content": null,
            "justify_items": null,
            "left": null,
            "margin": null,
            "max_height": null,
            "max_width": null,
            "min_height": null,
            "min_width": null,
            "object_fit": null,
            "object_position": null,
            "order": null,
            "overflow": null,
            "overflow_x": null,
            "overflow_y": null,
            "padding": null,
            "right": null,
            "top": null,
            "visibility": null,
            "width": null
          }
        },
        "70e437a128284ae8995b790393b5ae61": {
          "model_module": "@jupyter-widgets/controls",
          "model_name": "ProgressStyleModel",
          "model_module_version": "1.5.0",
          "state": {
            "_model_module": "@jupyter-widgets/controls",
            "_model_module_version": "1.5.0",
            "_model_name": "ProgressStyleModel",
            "_view_count": null,
            "_view_module": "@jupyter-widgets/base",
            "_view_module_version": "1.2.0",
            "_view_name": "StyleView",
            "bar_color": null,
            "description_width": ""
          }
        },
        "aab47f8b8b36494d9c73724a54531cb2": {
          "model_module": "@jupyter-widgets/base",
          "model_name": "LayoutModel",
          "model_module_version": "1.2.0",
          "state": {
            "_model_module": "@jupyter-widgets/base",
            "_model_module_version": "1.2.0",
            "_model_name": "LayoutModel",
            "_view_count": null,
            "_view_module": "@jupyter-widgets/base",
            "_view_module_version": "1.2.0",
            "_view_name": "LayoutView",
            "align_content": null,
            "align_items": null,
            "align_self": null,
            "border": null,
            "bottom": null,
            "display": null,
            "flex": null,
            "flex_flow": null,
            "grid_area": null,
            "grid_auto_columns": null,
            "grid_auto_flow": null,
            "grid_auto_rows": null,
            "grid_column": null,
            "grid_gap": null,
            "grid_row": null,
            "grid_template_areas": null,
            "grid_template_columns": null,
            "grid_template_rows": null,
            "height": null,
            "justify_content": null,
            "justify_items": null,
            "left": null,
            "margin": null,
            "max_height": null,
            "max_width": null,
            "min_height": null,
            "min_width": null,
            "object_fit": null,
            "object_position": null,
            "order": null,
            "overflow": null,
            "overflow_x": null,
            "overflow_y": null,
            "padding": null,
            "right": null,
            "top": null,
            "visibility": null,
            "width": null
          }
        },
        "0975f2d7907a482d9e44ce5110a612fe": {
          "model_module": "@jupyter-widgets/controls",
          "model_name": "DescriptionStyleModel",
          "model_module_version": "1.5.0",
          "state": {
            "_model_module": "@jupyter-widgets/controls",
            "_model_module_version": "1.5.0",
            "_model_name": "DescriptionStyleModel",
            "_view_count": null,
            "_view_module": "@jupyter-widgets/base",
            "_view_module_version": "1.2.0",
            "_view_name": "StyleView",
            "description_width": ""
          }
        },
        "544b0aeaa3224386b6b5883eed1fd0b4": {
          "model_module": "@jupyter-widgets/controls",
          "model_name": "HBoxModel",
          "model_module_version": "1.5.0",
          "state": {
            "_dom_classes": [],
            "_model_module": "@jupyter-widgets/controls",
            "_model_module_version": "1.5.0",
            "_model_name": "HBoxModel",
            "_view_count": null,
            "_view_module": "@jupyter-widgets/controls",
            "_view_module_version": "1.5.0",
            "_view_name": "HBoxView",
            "box_style": "",
            "children": [
              "IPY_MODEL_2636a8ef434945a8875ba829fbe7f70b",
              "IPY_MODEL_2158ef2d634e4007b16669fff8c8b81b",
              "IPY_MODEL_f8f1cd0af227460791229113b8744660"
            ],
            "layout": "IPY_MODEL_c44c52d3f80a4faf8dc678002acd0ce6"
          }
        },
        "2636a8ef434945a8875ba829fbe7f70b": {
          "model_module": "@jupyter-widgets/controls",
          "model_name": "HTMLModel",
          "model_module_version": "1.5.0",
          "state": {
            "_dom_classes": [],
            "_model_module": "@jupyter-widgets/controls",
            "_model_module_version": "1.5.0",
            "_model_name": "HTMLModel",
            "_view_count": null,
            "_view_module": "@jupyter-widgets/controls",
            "_view_module_version": "1.5.0",
            "_view_name": "HTMLView",
            "description": "",
            "description_tooltip": null,
            "layout": "IPY_MODEL_545ba2c42f31462b851da4b85eb54c6c",
            "placeholder": "​",
            "style": "IPY_MODEL_8e6ad1d333164d04a8aa96b29ca0b176",
            "value": "tokenizer.json: 100%"
          }
        },
        "2158ef2d634e4007b16669fff8c8b81b": {
          "model_module": "@jupyter-widgets/controls",
          "model_name": "FloatProgressModel",
          "model_module_version": "1.5.0",
          "state": {
            "_dom_classes": [],
            "_model_module": "@jupyter-widgets/controls",
            "_model_module_version": "1.5.0",
            "_model_name": "FloatProgressModel",
            "_view_count": null,
            "_view_module": "@jupyter-widgets/controls",
            "_view_module_version": "1.5.0",
            "_view_name": "ProgressView",
            "bar_style": "success",
            "description": "",
            "description_tooltip": null,
            "layout": "IPY_MODEL_0b39301ae83244269e9a9cd2e003eac3",
            "max": 1355863,
            "min": 0,
            "orientation": "horizontal",
            "style": "IPY_MODEL_fc9ec85ce73e47658a0582aeb46af9d0",
            "value": 1355863
          }
        },
        "f8f1cd0af227460791229113b8744660": {
          "model_module": "@jupyter-widgets/controls",
          "model_name": "HTMLModel",
          "model_module_version": "1.5.0",
          "state": {
            "_dom_classes": [],
            "_model_module": "@jupyter-widgets/controls",
            "_model_module_version": "1.5.0",
            "_model_name": "HTMLModel",
            "_view_count": null,
            "_view_module": "@jupyter-widgets/controls",
            "_view_module_version": "1.5.0",
            "_view_name": "HTMLView",
            "description": "",
            "description_tooltip": null,
            "layout": "IPY_MODEL_9321e9d6063f4de2bb670686ef21f785",
            "placeholder": "​",
            "style": "IPY_MODEL_6c74fbfda13641f29d8894bac9d7fd19",
            "value": " 1.36M/1.36M [00:00&lt;00:00, 4.65MB/s]"
          }
        },
        "c44c52d3f80a4faf8dc678002acd0ce6": {
          "model_module": "@jupyter-widgets/base",
          "model_name": "LayoutModel",
          "model_module_version": "1.2.0",
          "state": {
            "_model_module": "@jupyter-widgets/base",
            "_model_module_version": "1.2.0",
            "_model_name": "LayoutModel",
            "_view_count": null,
            "_view_module": "@jupyter-widgets/base",
            "_view_module_version": "1.2.0",
            "_view_name": "LayoutView",
            "align_content": null,
            "align_items": null,
            "align_self": null,
            "border": null,
            "bottom": null,
            "display": null,
            "flex": null,
            "flex_flow": null,
            "grid_area": null,
            "grid_auto_columns": null,
            "grid_auto_flow": null,
            "grid_auto_rows": null,
            "grid_column": null,
            "grid_gap": null,
            "grid_row": null,
            "grid_template_areas": null,
            "grid_template_columns": null,
            "grid_template_rows": null,
            "height": null,
            "justify_content": null,
            "justify_items": null,
            "left": null,
            "margin": null,
            "max_height": null,
            "max_width": null,
            "min_height": null,
            "min_width": null,
            "object_fit": null,
            "object_position": null,
            "order": null,
            "overflow": null,
            "overflow_x": null,
            "overflow_y": null,
            "padding": null,
            "right": null,
            "top": null,
            "visibility": null,
            "width": null
          }
        },
        "545ba2c42f31462b851da4b85eb54c6c": {
          "model_module": "@jupyter-widgets/base",
          "model_name": "LayoutModel",
          "model_module_version": "1.2.0",
          "state": {
            "_model_module": "@jupyter-widgets/base",
            "_model_module_version": "1.2.0",
            "_model_name": "LayoutModel",
            "_view_count": null,
            "_view_module": "@jupyter-widgets/base",
            "_view_module_version": "1.2.0",
            "_view_name": "LayoutView",
            "align_content": null,
            "align_items": null,
            "align_self": null,
            "border": null,
            "bottom": null,
            "display": null,
            "flex": null,
            "flex_flow": null,
            "grid_area": null,
            "grid_auto_columns": null,
            "grid_auto_flow": null,
            "grid_auto_rows": null,
            "grid_column": null,
            "grid_gap": null,
            "grid_row": null,
            "grid_template_areas": null,
            "grid_template_columns": null,
            "grid_template_rows": null,
            "height": null,
            "justify_content": null,
            "justify_items": null,
            "left": null,
            "margin": null,
            "max_height": null,
            "max_width": null,
            "min_height": null,
            "min_width": null,
            "object_fit": null,
            "object_position": null,
            "order": null,
            "overflow": null,
            "overflow_x": null,
            "overflow_y": null,
            "padding": null,
            "right": null,
            "top": null,
            "visibility": null,
            "width": null
          }
        },
        "8e6ad1d333164d04a8aa96b29ca0b176": {
          "model_module": "@jupyter-widgets/controls",
          "model_name": "DescriptionStyleModel",
          "model_module_version": "1.5.0",
          "state": {
            "_model_module": "@jupyter-widgets/controls",
            "_model_module_version": "1.5.0",
            "_model_name": "DescriptionStyleModel",
            "_view_count": null,
            "_view_module": "@jupyter-widgets/base",
            "_view_module_version": "1.2.0",
            "_view_name": "StyleView",
            "description_width": ""
          }
        },
        "0b39301ae83244269e9a9cd2e003eac3": {
          "model_module": "@jupyter-widgets/base",
          "model_name": "LayoutModel",
          "model_module_version": "1.2.0",
          "state": {
            "_model_module": "@jupyter-widgets/base",
            "_model_module_version": "1.2.0",
            "_model_name": "LayoutModel",
            "_view_count": null,
            "_view_module": "@jupyter-widgets/base",
            "_view_module_version": "1.2.0",
            "_view_name": "LayoutView",
            "align_content": null,
            "align_items": null,
            "align_self": null,
            "border": null,
            "bottom": null,
            "display": null,
            "flex": null,
            "flex_flow": null,
            "grid_area": null,
            "grid_auto_columns": null,
            "grid_auto_flow": null,
            "grid_auto_rows": null,
            "grid_column": null,
            "grid_gap": null,
            "grid_row": null,
            "grid_template_areas": null,
            "grid_template_columns": null,
            "grid_template_rows": null,
            "height": null,
            "justify_content": null,
            "justify_items": null,
            "left": null,
            "margin": null,
            "max_height": null,
            "max_width": null,
            "min_height": null,
            "min_width": null,
            "object_fit": null,
            "object_position": null,
            "order": null,
            "overflow": null,
            "overflow_x": null,
            "overflow_y": null,
            "padding": null,
            "right": null,
            "top": null,
            "visibility": null,
            "width": null
          }
        },
        "fc9ec85ce73e47658a0582aeb46af9d0": {
          "model_module": "@jupyter-widgets/controls",
          "model_name": "ProgressStyleModel",
          "model_module_version": "1.5.0",
          "state": {
            "_model_module": "@jupyter-widgets/controls",
            "_model_module_version": "1.5.0",
            "_model_name": "ProgressStyleModel",
            "_view_count": null,
            "_view_module": "@jupyter-widgets/base",
            "_view_module_version": "1.2.0",
            "_view_name": "StyleView",
            "bar_color": null,
            "description_width": ""
          }
        },
        "9321e9d6063f4de2bb670686ef21f785": {
          "model_module": "@jupyter-widgets/base",
          "model_name": "LayoutModel",
          "model_module_version": "1.2.0",
          "state": {
            "_model_module": "@jupyter-widgets/base",
            "_model_module_version": "1.2.0",
            "_model_name": "LayoutModel",
            "_view_count": null,
            "_view_module": "@jupyter-widgets/base",
            "_view_module_version": "1.2.0",
            "_view_name": "LayoutView",
            "align_content": null,
            "align_items": null,
            "align_self": null,
            "border": null,
            "bottom": null,
            "display": null,
            "flex": null,
            "flex_flow": null,
            "grid_area": null,
            "grid_auto_columns": null,
            "grid_auto_flow": null,
            "grid_auto_rows": null,
            "grid_column": null,
            "grid_gap": null,
            "grid_row": null,
            "grid_template_areas": null,
            "grid_template_columns": null,
            "grid_template_rows": null,
            "height": null,
            "justify_content": null,
            "justify_items": null,
            "left": null,
            "margin": null,
            "max_height": null,
            "max_width": null,
            "min_height": null,
            "min_width": null,
            "object_fit": null,
            "object_position": null,
            "order": null,
            "overflow": null,
            "overflow_x": null,
            "overflow_y": null,
            "padding": null,
            "right": null,
            "top": null,
            "visibility": null,
            "width": null
          }
        },
        "6c74fbfda13641f29d8894bac9d7fd19": {
          "model_module": "@jupyter-widgets/controls",
          "model_name": "DescriptionStyleModel",
          "model_module_version": "1.5.0",
          "state": {
            "_model_module": "@jupyter-widgets/controls",
            "_model_module_version": "1.5.0",
            "_model_name": "DescriptionStyleModel",
            "_view_count": null,
            "_view_module": "@jupyter-widgets/base",
            "_view_module_version": "1.2.0",
            "_view_name": "StyleView",
            "description_width": ""
          }
        },
        "fee3aa21c70c466fbcf594bb79250915": {
          "model_module": "@jupyter-widgets/controls",
          "model_name": "HBoxModel",
          "model_module_version": "1.5.0",
          "state": {
            "_dom_classes": [],
            "_model_module": "@jupyter-widgets/controls",
            "_model_module_version": "1.5.0",
            "_model_name": "HBoxModel",
            "_view_count": null,
            "_view_module": "@jupyter-widgets/controls",
            "_view_module_version": "1.5.0",
            "_view_name": "HBoxView",
            "box_style": "",
            "children": [
              "IPY_MODEL_cb64dd9411064ec4b3a7af6d6de7e9d0",
              "IPY_MODEL_ff370fe9914d4194824cffe6e4a85cd9",
              "IPY_MODEL_467aa8bc98664ab88ff31402ac94f1ca"
            ],
            "layout": "IPY_MODEL_f4c0ba1ddfbe41d281dfe504445c3e47"
          }
        },
        "cb64dd9411064ec4b3a7af6d6de7e9d0": {
          "model_module": "@jupyter-widgets/controls",
          "model_name": "HTMLModel",
          "model_module_version": "1.5.0",
          "state": {
            "_dom_classes": [],
            "_model_module": "@jupyter-widgets/controls",
            "_model_module_version": "1.5.0",
            "_model_name": "HTMLModel",
            "_view_count": null,
            "_view_module": "@jupyter-widgets/controls",
            "_view_module_version": "1.5.0",
            "_view_name": "HTMLView",
            "description": "",
            "description_tooltip": null,
            "layout": "IPY_MODEL_1c38ad69290b49a4ae0aaa208a264823",
            "placeholder": "​",
            "style": "IPY_MODEL_79ff8d80f4304847a9b0a2e02e7cc0bd",
            "value": "model.safetensors: 100%"
          }
        },
        "ff370fe9914d4194824cffe6e4a85cd9": {
          "model_module": "@jupyter-widgets/controls",
          "model_name": "FloatProgressModel",
          "model_module_version": "1.5.0",
          "state": {
            "_dom_classes": [],
            "_model_module": "@jupyter-widgets/controls",
            "_model_module_version": "1.5.0",
            "_model_name": "FloatProgressModel",
            "_view_count": null,
            "_view_module": "@jupyter-widgets/controls",
            "_view_module_version": "1.5.0",
            "_view_name": "ProgressView",
            "bar_style": "success",
            "description": "",
            "description_tooltip": null,
            "layout": "IPY_MODEL_49f83aca39e84ed8954c315fc81fda77",
            "max": 1421700479,
            "min": 0,
            "orientation": "horizontal",
            "style": "IPY_MODEL_ec218e2ef9fe4744a029a36cdc8e4a37",
            "value": 1421700479
          }
        },
        "467aa8bc98664ab88ff31402ac94f1ca": {
          "model_module": "@jupyter-widgets/controls",
          "model_name": "HTMLModel",
          "model_module_version": "1.5.0",
          "state": {
            "_dom_classes": [],
            "_model_module": "@jupyter-widgets/controls",
            "_model_module_version": "1.5.0",
            "_model_name": "HTMLModel",
            "_view_count": null,
            "_view_module": "@jupyter-widgets/controls",
            "_view_module_version": "1.5.0",
            "_view_name": "HTMLView",
            "description": "",
            "description_tooltip": null,
            "layout": "IPY_MODEL_5f8770ca92f54e51ae9971b3530da3ce",
            "placeholder": "​",
            "style": "IPY_MODEL_f9f99ce9651142dcab8dcfe20a038fde",
            "value": " 1.42G/1.42G [00:08&lt;00:00, 217MB/s]"
          }
        },
        "f4c0ba1ddfbe41d281dfe504445c3e47": {
          "model_module": "@jupyter-widgets/base",
          "model_name": "LayoutModel",
          "model_module_version": "1.2.0",
          "state": {
            "_model_module": "@jupyter-widgets/base",
            "_model_module_version": "1.2.0",
            "_model_name": "LayoutModel",
            "_view_count": null,
            "_view_module": "@jupyter-widgets/base",
            "_view_module_version": "1.2.0",
            "_view_name": "LayoutView",
            "align_content": null,
            "align_items": null,
            "align_self": null,
            "border": null,
            "bottom": null,
            "display": null,
            "flex": null,
            "flex_flow": null,
            "grid_area": null,
            "grid_auto_columns": null,
            "grid_auto_flow": null,
            "grid_auto_rows": null,
            "grid_column": null,
            "grid_gap": null,
            "grid_row": null,
            "grid_template_areas": null,
            "grid_template_columns": null,
            "grid_template_rows": null,
            "height": null,
            "justify_content": null,
            "justify_items": null,
            "left": null,
            "margin": null,
            "max_height": null,
            "max_width": null,
            "min_height": null,
            "min_width": null,
            "object_fit": null,
            "object_position": null,
            "order": null,
            "overflow": null,
            "overflow_x": null,
            "overflow_y": null,
            "padding": null,
            "right": null,
            "top": null,
            "visibility": null,
            "width": null
          }
        },
        "1c38ad69290b49a4ae0aaa208a264823": {
          "model_module": "@jupyter-widgets/base",
          "model_name": "LayoutModel",
          "model_module_version": "1.2.0",
          "state": {
            "_model_module": "@jupyter-widgets/base",
            "_model_module_version": "1.2.0",
            "_model_name": "LayoutModel",
            "_view_count": null,
            "_view_module": "@jupyter-widgets/base",
            "_view_module_version": "1.2.0",
            "_view_name": "LayoutView",
            "align_content": null,
            "align_items": null,
            "align_self": null,
            "border": null,
            "bottom": null,
            "display": null,
            "flex": null,
            "flex_flow": null,
            "grid_area": null,
            "grid_auto_columns": null,
            "grid_auto_flow": null,
            "grid_auto_rows": null,
            "grid_column": null,
            "grid_gap": null,
            "grid_row": null,
            "grid_template_areas": null,
            "grid_template_columns": null,
            "grid_template_rows": null,
            "height": null,
            "justify_content": null,
            "justify_items": null,
            "left": null,
            "margin": null,
            "max_height": null,
            "max_width": null,
            "min_height": null,
            "min_width": null,
            "object_fit": null,
            "object_position": null,
            "order": null,
            "overflow": null,
            "overflow_x": null,
            "overflow_y": null,
            "padding": null,
            "right": null,
            "top": null,
            "visibility": null,
            "width": null
          }
        },
        "79ff8d80f4304847a9b0a2e02e7cc0bd": {
          "model_module": "@jupyter-widgets/controls",
          "model_name": "DescriptionStyleModel",
          "model_module_version": "1.5.0",
          "state": {
            "_model_module": "@jupyter-widgets/controls",
            "_model_module_version": "1.5.0",
            "_model_name": "DescriptionStyleModel",
            "_view_count": null,
            "_view_module": "@jupyter-widgets/base",
            "_view_module_version": "1.2.0",
            "_view_name": "StyleView",
            "description_width": ""
          }
        },
        "49f83aca39e84ed8954c315fc81fda77": {
          "model_module": "@jupyter-widgets/base",
          "model_name": "LayoutModel",
          "model_module_version": "1.2.0",
          "state": {
            "_model_module": "@jupyter-widgets/base",
            "_model_module_version": "1.2.0",
            "_model_name": "LayoutModel",
            "_view_count": null,
            "_view_module": "@jupyter-widgets/base",
            "_view_module_version": "1.2.0",
            "_view_name": "LayoutView",
            "align_content": null,
            "align_items": null,
            "align_self": null,
            "border": null,
            "bottom": null,
            "display": null,
            "flex": null,
            "flex_flow": null,
            "grid_area": null,
            "grid_auto_columns": null,
            "grid_auto_flow": null,
            "grid_auto_rows": null,
            "grid_column": null,
            "grid_gap": null,
            "grid_row": null,
            "grid_template_areas": null,
            "grid_template_columns": null,
            "grid_template_rows": null,
            "height": null,
            "justify_content": null,
            "justify_items": null,
            "left": null,
            "margin": null,
            "max_height": null,
            "max_width": null,
            "min_height": null,
            "min_width": null,
            "object_fit": null,
            "object_position": null,
            "order": null,
            "overflow": null,
            "overflow_x": null,
            "overflow_y": null,
            "padding": null,
            "right": null,
            "top": null,
            "visibility": null,
            "width": null
          }
        },
        "ec218e2ef9fe4744a029a36cdc8e4a37": {
          "model_module": "@jupyter-widgets/controls",
          "model_name": "ProgressStyleModel",
          "model_module_version": "1.5.0",
          "state": {
            "_model_module": "@jupyter-widgets/controls",
            "_model_module_version": "1.5.0",
            "_model_name": "ProgressStyleModel",
            "_view_count": null,
            "_view_module": "@jupyter-widgets/base",
            "_view_module_version": "1.2.0",
            "_view_name": "StyleView",
            "bar_color": null,
            "description_width": ""
          }
        },
        "5f8770ca92f54e51ae9971b3530da3ce": {
          "model_module": "@jupyter-widgets/base",
          "model_name": "LayoutModel",
          "model_module_version": "1.2.0",
          "state": {
            "_model_module": "@jupyter-widgets/base",
            "_model_module_version": "1.2.0",
            "_model_name": "LayoutModel",
            "_view_count": null,
            "_view_module": "@jupyter-widgets/base",
            "_view_module_version": "1.2.0",
            "_view_name": "LayoutView",
            "align_content": null,
            "align_items": null,
            "align_self": null,
            "border": null,
            "bottom": null,
            "display": null,
            "flex": null,
            "flex_flow": null,
            "grid_area": null,
            "grid_auto_columns": null,
            "grid_auto_flow": null,
            "grid_auto_rows": null,
            "grid_column": null,
            "grid_gap": null,
            "grid_row": null,
            "grid_template_areas": null,
            "grid_template_columns": null,
            "grid_template_rows": null,
            "height": null,
            "justify_content": null,
            "justify_items": null,
            "left": null,
            "margin": null,
            "max_height": null,
            "max_width": null,
            "min_height": null,
            "min_width": null,
            "object_fit": null,
            "object_position": null,
            "order": null,
            "overflow": null,
            "overflow_x": null,
            "overflow_y": null,
            "padding": null,
            "right": null,
            "top": null,
            "visibility": null,
            "width": null
          }
        },
        "f9f99ce9651142dcab8dcfe20a038fde": {
          "model_module": "@jupyter-widgets/controls",
          "model_name": "DescriptionStyleModel",
          "model_module_version": "1.5.0",
          "state": {
            "_model_module": "@jupyter-widgets/controls",
            "_model_module_version": "1.5.0",
            "_model_name": "DescriptionStyleModel",
            "_view_count": null,
            "_view_module": "@jupyter-widgets/base",
            "_view_module_version": "1.2.0",
            "_view_name": "StyleView",
            "description_width": ""
          }
        }
      }
    }
  },
  "nbformat": 4,
  "nbformat_minor": 0
}