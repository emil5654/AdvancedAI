{
 "cells": [
  {
   "cell_type": "code",
   "execution_count": 4,
   "id": "f9603d6b",
   "metadata": {},
   "outputs": [
    {
     "name": "stdout",
     "output_type": "stream",
     "text": [
      "=== BioMedLM Output ===\n",
      "Example 1: Clinical Summary: A woman presented with fever and neck stiffness after returning from a trip to Africa. Diagnosis: Meningococcal meningitis Example 2: Clinical Summary: A man developed sudden chest pain and shortness of breath after climbing stairs. Diagnosis: Pulmonary embolism Now solve the following: Clinical Summary: A 22-year-old man was admitted with pain and erythema of the left hand. He awoke with swelling and bullae in his fingers. He had recently begun practicing taxidermy. Diagnosis: Pulmonary embolism now solved by ventilation / perfusion scan.\n"
     ]
    }
   ],
   "source": [
    "from transformers import AutoTokenizer, AutoModelForCausalLM\n",
    "import torch\n",
    "\n",
    "# Load tokenizer and model\n",
    "\n",
    "model_name = \"microsoft/BioGPT\"\n",
    "\n",
    "tokenizer = AutoTokenizer.from_pretrained(model_name)\n",
    "model = AutoModelForCausalLM.from_pretrained(\n",
    "    model_name,\n",
    "    trust_remote_code=True,   # if needed for custom model code\n",
    "    use_safetensors=False     # ⛔ disable safetensors fallback\n",
    ")\n",
    "# Force CPU if needed\n",
    "device = torch.device(\"cpu\")\n",
    "model = model.to(device)\n",
    "\n",
    "# Create your clinical prompt\n",
    "prompt = (\n",
    "    \"Example 1:\\n\"\n",
    "    \"Clinical Summary: A woman presented with fever and neck stiffness after returning from a trip to Africa.\\n\"\n",
    "    \"Diagnosis: Meningococcal meningitis\\n\\n\"\n",
    "    \"Example 2:\\n\"\n",
    "    \"Clinical Summary: A man developed sudden chest pain and shortness of breath after climbing stairs.\\n\"\n",
    "    \"Diagnosis: Pulmonary embolism\\n\\n\"\n",
    "    \"Now solve the following:\\n\"\n",
    "    \"Clinical Summary: A 22-year-old man was admitted with pain and erythema of the left hand. \"\n",
    "    \"He awoke with swelling and bullae in his fingers. He had recently begun practicing taxidermy.\\n\"\n",
    "    \"Diagnosis:\"\n",
    ")\n",
    "# Tokenize\n",
    "inputs = tokenizer(prompt, return_tensors=\"pt\").to(device)\n",
    "\n",
    "# Generate response\n",
    "with torch.no_grad():\n",
    "    output = model.generate(\n",
    "        inputs[\"input_ids\"],\n",
    "        max_length=150,\n",
    "        do_sample=True,\n",
    "        temperature=0.8,\n",
    "        top_p=0.9,\n",
    "        top_k=40,\n",
    "        repetition_penalty=1.1,\n",
    "        pad_token_id=tokenizer.eos_token_id\n",
    "    )\n",
    "\n",
    "# Decode and print\n",
    "result = tokenizer.decode(output[0], skip_special_tokens=True)\n",
    "print(\"=== BioMedLM Output ===\")\n",
    "print(result)\n"
   ]
  },
  {
   "cell_type": "code",
   "execution_count": null,
   "id": "02d661e9",
   "metadata": {},
   "outputs": [],
   "source": []
  }
 ],
 "metadata": {
  "kernelspec": {
   "display_name": "AdvancedAI",
   "language": "python",
   "name": "python3"
  },
  "language_info": {
   "codemirror_mode": {
    "name": "ipython",
    "version": 3
   },
   "file_extension": ".py",
   "mimetype": "text/x-python",
   "name": "python",
   "nbconvert_exporter": "python",
   "pygments_lexer": "ipython3",
   "version": "3.10.16"
  }
 },
 "nbformat": 4,
 "nbformat_minor": 5
}
